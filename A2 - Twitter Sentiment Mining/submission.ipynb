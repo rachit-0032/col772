{
 "cells": [
  {
   "cell_type": "code",
   "execution_count": 1,
   "source": [
    "import pandas as pd\n",
    "import re\n",
    "import nltk\n"
   ],
   "outputs": [],
   "metadata": {}
  },
  {
   "cell_type": "code",
   "execution_count": 2,
   "source": [
    "from sklearn.feature_extraction.text import CountVectorizer\n",
    "from sklearn.model_selection import train_test_split\n",
    "from sklearn.naive_bayes import MultinomialNB"
   ],
   "outputs": [],
   "metadata": {}
  },
  {
   "cell_type": "code",
   "execution_count": 3,
   "source": [
    "from nltk.stem.wordnet import WordNetLemmatizer\n",
    "from nltk.tokenize import word_tokenize\n",
    "from nltk.corpus import stopwords\n",
    "from nltk.stem.porter import PorterStemmer\n",
    "nltk.download('punkt')\n",
    "nltk.download('stopwords')\n",
    "nltk.download('wordnet')"
   ],
   "outputs": [
    {
     "output_type": "stream",
     "name": "stderr",
     "text": [
      "[nltk_data] Downloading package punkt to\n",
      "[nltk_data]     /Users/rachitjain/nltk_data...\n",
      "[nltk_data]   Package punkt is already up-to-date!\n",
      "[nltk_data] Downloading package stopwords to\n",
      "[nltk_data]     /Users/rachitjain/nltk_data...\n",
      "[nltk_data]   Package stopwords is already up-to-date!\n",
      "[nltk_data] Downloading package wordnet to\n",
      "[nltk_data]     /Users/rachitjain/nltk_data...\n",
      "[nltk_data]   Package wordnet is already up-to-date!\n"
     ]
    },
    {
     "output_type": "execute_result",
     "data": {
      "text/plain": [
       "True"
      ]
     },
     "metadata": {},
     "execution_count": 3
    }
   ],
   "metadata": {}
  },
  {
   "cell_type": "code",
   "execution_count": 4,
   "source": [
    "data_neg = pd.read_csv('Data/training_negative.csv', encoding='latin-1')\n",
    "data_pos = pd.read_csv('Data/training_positive.csv', encoding='latin-1')"
   ],
   "outputs": [],
   "metadata": {}
  },
  {
   "cell_type": "code",
   "execution_count": 5,
   "source": [
    "data = data_neg.append(data_pos)\n",
    "data = data.iloc[:,1:]"
   ],
   "outputs": [],
   "metadata": {}
  },
  {
   "cell_type": "code",
   "execution_count": null,
   "source": [],
   "outputs": [],
   "metadata": {}
  },
  {
   "cell_type": "markdown",
   "source": [
    "## Sampling Data for Trying out Approaches"
   ],
   "metadata": {}
  },
  {
   "cell_type": "code",
   "execution_count": 6,
   "source": [
    "df = data.sample(n=40000, random_state=1)\n",
    "df.tail()"
   ],
   "outputs": [
    {
     "output_type": "execute_result",
     "data": {
      "text/html": [
       "<div>\n",
       "<style scoped>\n",
       "    .dataframe tbody tr th:only-of-type {\n",
       "        vertical-align: middle;\n",
       "    }\n",
       "\n",
       "    .dataframe tbody tr th {\n",
       "        vertical-align: top;\n",
       "    }\n",
       "\n",
       "    .dataframe thead th {\n",
       "        text-align: right;\n",
       "    }\n",
       "</style>\n",
       "<table border=\"1\" class=\"dataframe\">\n",
       "  <thead>\n",
       "    <tr style=\"text-align: right;\">\n",
       "      <th></th>\n",
       "      <th>Polarity</th>\n",
       "      <th>Tweet</th>\n",
       "    </tr>\n",
       "  </thead>\n",
       "  <tbody>\n",
       "    <tr>\n",
       "      <th>101123</th>\n",
       "      <td>0</td>\n",
       "      <td>multiple #fail</td>\n",
       "    </tr>\n",
       "    <tr>\n",
       "      <th>610384</th>\n",
       "      <td>4</td>\n",
       "      <td>Wow people  actually asked me for directions t...</td>\n",
       "    </tr>\n",
       "    <tr>\n",
       "      <th>786897</th>\n",
       "      <td>4</td>\n",
       "      <td>@wedylawliet Try &amp;quot;Fly With Me&amp;quot; by th...</td>\n",
       "    </tr>\n",
       "    <tr>\n",
       "      <th>457740</th>\n",
       "      <td>0</td>\n",
       "      <td>I already have a case of the Mooondays   and i...</td>\n",
       "    </tr>\n",
       "    <tr>\n",
       "      <th>149496</th>\n",
       "      <td>0</td>\n",
       "      <td>I've been up for too long and its 8:30  I shou...</td>\n",
       "    </tr>\n",
       "  </tbody>\n",
       "</table>\n",
       "</div>"
      ],
      "text/plain": [
       "        Polarity                                              Tweet\n",
       "101123         0                                    multiple #fail \n",
       "610384         4  Wow people  actually asked me for directions t...\n",
       "786897         4  @wedylawliet Try &quot;Fly With Me&quot; by th...\n",
       "457740         0  I already have a case of the Mooondays   and i...\n",
       "149496         0  I've been up for too long and its 8:30  I shou..."
      ]
     },
     "metadata": {},
     "execution_count": 6
    }
   ],
   "metadata": {}
  },
  {
   "cell_type": "code",
   "execution_count": null,
   "source": [],
   "outputs": [],
   "metadata": {}
  },
  {
   "cell_type": "markdown",
   "source": [
    "## Pre-Processing Text"
   ],
   "metadata": {}
  },
  {
   "cell_type": "code",
   "execution_count": 7,
   "source": [
    "def clean_text(tweet):\n",
    "    tweet = tweet.lower()                                   # Converting to lower case\n",
    "    tweet = re.sub(r'@[^\\s]+', ' ', tweet)                  # Removing mentions\n",
    "    tweet = re.sub(r'https?:\\/[^\\s]+', ' ', tweet)          # Removing URLs\n",
    "    tweet = re.sub(r'www.[^\\s]+', ' ', tweet)               # Removing Email IDs\n",
    "    tweet = re.sub(r'#', '', tweet)                         # Removing hashtags\n",
    "    tweet = re.sub(r'_', ' ', tweet)                        # Sometimes hashtags are done with _ representing break between two words\n",
    "    tweet = re.sub(r'\\.{2,}', ' ', tweet)                   # Segregating sentences\n",
    "    tweet = re.sub(r\"[0-9]+\",' ', tweet)                    # Removing numbers as they do not indicate sentiment\n",
    "    tweet = re.sub(r\"[^\\w\\d\\s]+\",' ', tweet)                # Removing unnecessary punctuations apart from apostrophe which can be used in clitics\n",
    "    return ' '.join(tweet.split())"
   ],
   "outputs": [],
   "metadata": {}
  },
  {
   "cell_type": "code",
   "execution_count": 8,
   "source": [
    "re.sub(r\"[^\\w\\d\\s]+\",'', \"I am n't doing good\") "
   ],
   "outputs": [
    {
     "output_type": "execute_result",
     "data": {
      "text/plain": [
       "'I am nt doing good'"
      ]
     },
     "metadata": {},
     "execution_count": 8
    }
   ],
   "metadata": {}
  },
  {
   "cell_type": "code",
   "execution_count": 9,
   "source": [
    "def tokenizer(tweet):\n",
    "    return word_tokenize(tweet)"
   ],
   "outputs": [],
   "metadata": {}
  },
  {
   "cell_type": "code",
   "execution_count": 10,
   "source": [
    "clitics = {\n",
    "    \"nt\": 'not',\n",
    "    \"ve\": 'have',\n",
    "    \"s\": 'is',\n",
    "    \"m\": 'am',\n",
    "    \"re\": 'are',\n",
    "    \"ll\": 'I will',\n",
    "    \"bout\": 'about'\n",
    "}"
   ],
   "outputs": [],
   "metadata": {}
  },
  {
   "cell_type": "code",
   "execution_count": 11,
   "source": [
    "# count = 0\n",
    "def handle_clitics(tweet):\n",
    "    # global count\n",
    "    # count += 1\n",
    "    for i in range(len(tweet)):\n",
    "        if tweet[i] in clitics.keys():\n",
    "            tweet[i] = clitics[tweet[i]]\n",
    "    return tweet"
   ],
   "outputs": [],
   "metadata": {}
  },
  {
   "cell_type": "code",
   "execution_count": 12,
   "source": [
    "def stopword_removal(tweet):\n",
    "    tweet = [word for word in tweet if word not in stopwords.words('english')]\n",
    "    if len(tweet) == 0:\n",
    "        tweet = ['None']\n",
    "    return tweet"
   ],
   "outputs": [],
   "metadata": {}
  },
  {
   "cell_type": "code",
   "execution_count": 13,
   "source": [
    "short_forms = {\n",
    "    'n': 'and',\n",
    "    'ya': 'you',\n",
    "    'luv': 'love',\n",
    "    'lol': 'laugh',\n",
    "    'k': 'okay',\n",
    "    'na': 'no',\n",
    "    'ily': 'love',\n",
    "    }"
   ],
   "outputs": [],
   "metadata": {}
  },
  {
   "cell_type": "code",
   "execution_count": 14,
   "source": [
    "def handle_shortforms(tweet):\n",
    "    for i in range(len(tweet)):\n",
    "        if tweet[i] in short_forms.keys():\n",
    "            tweet[i] = short_forms[tweet[i]]\n",
    "    return tweet"
   ],
   "outputs": [],
   "metadata": {}
  },
  {
   "cell_type": "code",
   "execution_count": null,
   "source": [],
   "outputs": [],
   "metadata": {}
  },
  {
   "cell_type": "code",
   "execution_count": 15,
   "source": [
    "df['Tweet'] = df['Tweet'].apply(clean_text)\n",
    "df.head()"
   ],
   "outputs": [
    {
     "output_type": "execute_result",
     "data": {
      "text/html": [
       "<div>\n",
       "<style scoped>\n",
       "    .dataframe tbody tr th:only-of-type {\n",
       "        vertical-align: middle;\n",
       "    }\n",
       "\n",
       "    .dataframe tbody tr th {\n",
       "        vertical-align: top;\n",
       "    }\n",
       "\n",
       "    .dataframe thead th {\n",
       "        text-align: right;\n",
       "    }\n",
       "</style>\n",
       "<table border=\"1\" class=\"dataframe\">\n",
       "  <thead>\n",
       "    <tr style=\"text-align: right;\">\n",
       "      <th></th>\n",
       "      <th>Polarity</th>\n",
       "      <th>Tweet</th>\n",
       "    </tr>\n",
       "  </thead>\n",
       "  <tbody>\n",
       "    <tr>\n",
       "      <th>514293</th>\n",
       "      <td>0</td>\n",
       "      <td>i miss nikki nu nu already shes always there w...</td>\n",
       "    </tr>\n",
       "    <tr>\n",
       "      <th>142282</th>\n",
       "      <td>0</td>\n",
       "      <td>so i had a dream last night i remember a sign ...</td>\n",
       "    </tr>\n",
       "    <tr>\n",
       "      <th>403727</th>\n",
       "      <td>0</td>\n",
       "      <td>ohh poor sickly you hugs hope you feel a littl...</td>\n",
       "    </tr>\n",
       "    <tr>\n",
       "      <th>649503</th>\n",
       "      <td>0</td>\n",
       "      <td>it is raining again</td>\n",
       "    </tr>\n",
       "    <tr>\n",
       "      <th>610789</th>\n",
       "      <td>0</td>\n",
       "      <td>wish i was in la right now</td>\n",
       "    </tr>\n",
       "  </tbody>\n",
       "</table>\n",
       "</div>"
      ],
      "text/plain": [
       "        Polarity                                              Tweet\n",
       "514293         0  i miss nikki nu nu already shes always there w...\n",
       "142282         0  so i had a dream last night i remember a sign ...\n",
       "403727         0  ohh poor sickly you hugs hope you feel a littl...\n",
       "649503         0                                it is raining again\n",
       "610789         0                         wish i was in la right now"
      ]
     },
     "metadata": {},
     "execution_count": 15
    }
   ],
   "metadata": {}
  },
  {
   "cell_type": "code",
   "execution_count": 16,
   "source": [
    "df['Tweet'] = df['Tweet'].apply(tokenizer)\n",
    "df.head()"
   ],
   "outputs": [
    {
     "output_type": "execute_result",
     "data": {
      "text/html": [
       "<div>\n",
       "<style scoped>\n",
       "    .dataframe tbody tr th:only-of-type {\n",
       "        vertical-align: middle;\n",
       "    }\n",
       "\n",
       "    .dataframe tbody tr th {\n",
       "        vertical-align: top;\n",
       "    }\n",
       "\n",
       "    .dataframe thead th {\n",
       "        text-align: right;\n",
       "    }\n",
       "</style>\n",
       "<table border=\"1\" class=\"dataframe\">\n",
       "  <thead>\n",
       "    <tr style=\"text-align: right;\">\n",
       "      <th></th>\n",
       "      <th>Polarity</th>\n",
       "      <th>Tweet</th>\n",
       "    </tr>\n",
       "  </thead>\n",
       "  <tbody>\n",
       "    <tr>\n",
       "      <th>514293</th>\n",
       "      <td>0</td>\n",
       "      <td>[i, miss, nikki, nu, nu, already, shes, always...</td>\n",
       "    </tr>\n",
       "    <tr>\n",
       "      <th>142282</th>\n",
       "      <td>0</td>\n",
       "      <td>[so, i, had, a, dream, last, night, i, remembe...</td>\n",
       "    </tr>\n",
       "    <tr>\n",
       "      <th>403727</th>\n",
       "      <td>0</td>\n",
       "      <td>[ohh, poor, sickly, you, hugs, hope, you, feel...</td>\n",
       "    </tr>\n",
       "    <tr>\n",
       "      <th>649503</th>\n",
       "      <td>0</td>\n",
       "      <td>[it, is, raining, again]</td>\n",
       "    </tr>\n",
       "    <tr>\n",
       "      <th>610789</th>\n",
       "      <td>0</td>\n",
       "      <td>[wish, i, was, in, la, right, now]</td>\n",
       "    </tr>\n",
       "  </tbody>\n",
       "</table>\n",
       "</div>"
      ],
      "text/plain": [
       "        Polarity                                              Tweet\n",
       "514293         0  [i, miss, nikki, nu, nu, already, shes, always...\n",
       "142282         0  [so, i, had, a, dream, last, night, i, remembe...\n",
       "403727         0  [ohh, poor, sickly, you, hugs, hope, you, feel...\n",
       "649503         0                           [it, is, raining, again]\n",
       "610789         0                 [wish, i, was, in, la, right, now]"
      ]
     },
     "metadata": {},
     "execution_count": 16
    }
   ],
   "metadata": {}
  },
  {
   "cell_type": "code",
   "execution_count": 17,
   "source": [
    "df['Tweet'] = df['Tweet'].apply(stopword_removal)\n",
    "df.head()"
   ],
   "outputs": [
    {
     "output_type": "execute_result",
     "data": {
      "text/html": [
       "<div>\n",
       "<style scoped>\n",
       "    .dataframe tbody tr th:only-of-type {\n",
       "        vertical-align: middle;\n",
       "    }\n",
       "\n",
       "    .dataframe tbody tr th {\n",
       "        vertical-align: top;\n",
       "    }\n",
       "\n",
       "    .dataframe thead th {\n",
       "        text-align: right;\n",
       "    }\n",
       "</style>\n",
       "<table border=\"1\" class=\"dataframe\">\n",
       "  <thead>\n",
       "    <tr style=\"text-align: right;\">\n",
       "      <th></th>\n",
       "      <th>Polarity</th>\n",
       "      <th>Tweet</th>\n",
       "    </tr>\n",
       "  </thead>\n",
       "  <tbody>\n",
       "    <tr>\n",
       "      <th>514293</th>\n",
       "      <td>0</td>\n",
       "      <td>[miss, nikki, nu, nu, already, shes, always, n...</td>\n",
       "    </tr>\n",
       "    <tr>\n",
       "      <th>142282</th>\n",
       "      <td>0</td>\n",
       "      <td>[dream, last, night, remember, sign, clearly, ...</td>\n",
       "    </tr>\n",
       "    <tr>\n",
       "      <th>403727</th>\n",
       "      <td>0</td>\n",
       "      <td>[ohh, poor, sickly, hugs, hope, feel, little, ...</td>\n",
       "    </tr>\n",
       "    <tr>\n",
       "      <th>649503</th>\n",
       "      <td>0</td>\n",
       "      <td>[raining]</td>\n",
       "    </tr>\n",
       "    <tr>\n",
       "      <th>610789</th>\n",
       "      <td>0</td>\n",
       "      <td>[wish, la, right]</td>\n",
       "    </tr>\n",
       "  </tbody>\n",
       "</table>\n",
       "</div>"
      ],
      "text/plain": [
       "        Polarity                                              Tweet\n",
       "514293         0  [miss, nikki, nu, nu, already, shes, always, n...\n",
       "142282         0  [dream, last, night, remember, sign, clearly, ...\n",
       "403727         0  [ohh, poor, sickly, hugs, hope, feel, little, ...\n",
       "649503         0                                          [raining]\n",
       "610789         0                                  [wish, la, right]"
      ]
     },
     "metadata": {},
     "execution_count": 17
    }
   ],
   "metadata": {}
  },
  {
   "cell_type": "code",
   "execution_count": 18,
   "source": [
    "df['Tweet'] = df['Tweet'].apply(handle_clitics)\n",
    "df.iloc[:30]"
   ],
   "outputs": [
    {
     "output_type": "execute_result",
     "data": {
      "text/html": [
       "<div>\n",
       "<style scoped>\n",
       "    .dataframe tbody tr th:only-of-type {\n",
       "        vertical-align: middle;\n",
       "    }\n",
       "\n",
       "    .dataframe tbody tr th {\n",
       "        vertical-align: top;\n",
       "    }\n",
       "\n",
       "    .dataframe thead th {\n",
       "        text-align: right;\n",
       "    }\n",
       "</style>\n",
       "<table border=\"1\" class=\"dataframe\">\n",
       "  <thead>\n",
       "    <tr style=\"text-align: right;\">\n",
       "      <th></th>\n",
       "      <th>Polarity</th>\n",
       "      <th>Tweet</th>\n",
       "    </tr>\n",
       "  </thead>\n",
       "  <tbody>\n",
       "    <tr>\n",
       "      <th>514293</th>\n",
       "      <td>0</td>\n",
       "      <td>[miss, nikki, nu, nu, already, shes, always, n...</td>\n",
       "    </tr>\n",
       "    <tr>\n",
       "      <th>142282</th>\n",
       "      <td>0</td>\n",
       "      <td>[dream, last, night, remember, sign, clearly, ...</td>\n",
       "    </tr>\n",
       "    <tr>\n",
       "      <th>403727</th>\n",
       "      <td>0</td>\n",
       "      <td>[ohh, poor, sickly, hugs, hope, feel, little, ...</td>\n",
       "    </tr>\n",
       "    <tr>\n",
       "      <th>649503</th>\n",
       "      <td>0</td>\n",
       "      <td>[raining]</td>\n",
       "    </tr>\n",
       "    <tr>\n",
       "      <th>610789</th>\n",
       "      <td>0</td>\n",
       "      <td>[wish, la, right]</td>\n",
       "    </tr>\n",
       "    <tr>\n",
       "      <th>67315</th>\n",
       "      <td>0</td>\n",
       "      <td>[nala, olowalu, still, full, tummy, bread, bas...</td>\n",
       "    </tr>\n",
       "    <tr>\n",
       "      <th>33521</th>\n",
       "      <td>4</td>\n",
       "      <td>[site, seem, want, load, must, getting, lot, h...</td>\n",
       "    </tr>\n",
       "    <tr>\n",
       "      <th>256032</th>\n",
       "      <td>0</td>\n",
       "      <td>[time, sleep, hav, actually, work, tmrw]</td>\n",
       "    </tr>\n",
       "    <tr>\n",
       "      <th>657012</th>\n",
       "      <td>0</td>\n",
       "      <td>[oxford, month]</td>\n",
       "    </tr>\n",
       "    <tr>\n",
       "      <th>180587</th>\n",
       "      <td>4</td>\n",
       "      <td>[time, cup, tea, fruit, bagels, going, turn, d...</td>\n",
       "    </tr>\n",
       "    <tr>\n",
       "      <th>477004</th>\n",
       "      <td>4</td>\n",
       "      <td>[finished, playing, asshole, first, time, nd, ...</td>\n",
       "    </tr>\n",
       "    <tr>\n",
       "      <th>309676</th>\n",
       "      <td>0</td>\n",
       "      <td>[finally, got, greens, bad, dog, kept, tryna, ...</td>\n",
       "    </tr>\n",
       "    <tr>\n",
       "      <th>750783</th>\n",
       "      <td>4</td>\n",
       "      <td>[nhaaaiiiiiiiiiii, rendi, ao, twitter, fim, de...</td>\n",
       "    </tr>\n",
       "    <tr>\n",
       "      <th>155945</th>\n",
       "      <td>0</td>\n",
       "      <td>[poor, kitty, make, last, night, lost, nursing...</td>\n",
       "    </tr>\n",
       "    <tr>\n",
       "      <th>440190</th>\n",
       "      <td>4</td>\n",
       "      <td>[ok, cooler, search, engine, launch]</td>\n",
       "    </tr>\n",
       "    <tr>\n",
       "      <th>378003</th>\n",
       "      <td>0</td>\n",
       "      <td>[upset, couldnt, go]</td>\n",
       "    </tr>\n",
       "    <tr>\n",
       "      <th>607243</th>\n",
       "      <td>0</td>\n",
       "      <td>[constant, rain]</td>\n",
       "    </tr>\n",
       "    <tr>\n",
       "      <th>418793</th>\n",
       "      <td>4</td>\n",
       "      <td>[good, morning, folks, last, week, school, woo...</td>\n",
       "    </tr>\n",
       "    <tr>\n",
       "      <th>324965</th>\n",
       "      <td>0</td>\n",
       "      <td>[even, happiest, days, seeing, others, sad, ma...</td>\n",
       "    </tr>\n",
       "    <tr>\n",
       "      <th>350967</th>\n",
       "      <td>0</td>\n",
       "      <td>[celebrating, sorry, asn, able, call, fon, koo...</td>\n",
       "    </tr>\n",
       "    <tr>\n",
       "      <th>442541</th>\n",
       "      <td>0</td>\n",
       "      <td>[used, tu, least, times, kept, getting, rrod, ...</td>\n",
       "    </tr>\n",
       "    <tr>\n",
       "      <th>668255</th>\n",
       "      <td>0</td>\n",
       "      <td>[hmmm, wonder, plans, actually, happen, today,...</td>\n",
       "    </tr>\n",
       "    <tr>\n",
       "      <th>237777</th>\n",
       "      <td>4</td>\n",
       "      <td>[oh, k, good, luck, lol]</td>\n",
       "    </tr>\n",
       "    <tr>\n",
       "      <th>238253</th>\n",
       "      <td>4</td>\n",
       "      <td>[fangirl, squee]</td>\n",
       "    </tr>\n",
       "    <tr>\n",
       "      <th>285600</th>\n",
       "      <td>0</td>\n",
       "      <td>[ok, aoifes, goin, mad, hates, twitter, thinks...</td>\n",
       "    </tr>\n",
       "    <tr>\n",
       "      <th>16105</th>\n",
       "      <td>0</td>\n",
       "      <td>[ugh, feeling, like, death, warmed, us, sick, ...</td>\n",
       "    </tr>\n",
       "    <tr>\n",
       "      <th>613143</th>\n",
       "      <td>4</td>\n",
       "      <td>[repair]</td>\n",
       "    </tr>\n",
       "    <tr>\n",
       "      <th>105064</th>\n",
       "      <td>0</td>\n",
       "      <td>[wan, na, see, misss, youuuu, boooo]</td>\n",
       "    </tr>\n",
       "    <tr>\n",
       "      <th>210760</th>\n",
       "      <td>0</td>\n",
       "      <td>[eating, chocolate, about, watch, dr, missing,...</td>\n",
       "    </tr>\n",
       "    <tr>\n",
       "      <th>611185</th>\n",
       "      <td>0</td>\n",
       "      <td>[hey, showin, u, luv, n, nothin, back, ya, sho...</td>\n",
       "    </tr>\n",
       "  </tbody>\n",
       "</table>\n",
       "</div>"
      ],
      "text/plain": [
       "        Polarity                                              Tweet\n",
       "514293         0  [miss, nikki, nu, nu, already, shes, always, n...\n",
       "142282         0  [dream, last, night, remember, sign, clearly, ...\n",
       "403727         0  [ohh, poor, sickly, hugs, hope, feel, little, ...\n",
       "649503         0                                          [raining]\n",
       "610789         0                                  [wish, la, right]\n",
       "67315          0  [nala, olowalu, still, full, tummy, bread, bas...\n",
       "33521          4  [site, seem, want, load, must, getting, lot, h...\n",
       "256032         0           [time, sleep, hav, actually, work, tmrw]\n",
       "657012         0                                    [oxford, month]\n",
       "180587         4  [time, cup, tea, fruit, bagels, going, turn, d...\n",
       "477004         4  [finished, playing, asshole, first, time, nd, ...\n",
       "309676         0  [finally, got, greens, bad, dog, kept, tryna, ...\n",
       "750783         4  [nhaaaiiiiiiiiiii, rendi, ao, twitter, fim, de...\n",
       "155945         0  [poor, kitty, make, last, night, lost, nursing...\n",
       "440190         4               [ok, cooler, search, engine, launch]\n",
       "378003         0                               [upset, couldnt, go]\n",
       "607243         0                                   [constant, rain]\n",
       "418793         4  [good, morning, folks, last, week, school, woo...\n",
       "324965         0  [even, happiest, days, seeing, others, sad, ma...\n",
       "350967         0  [celebrating, sorry, asn, able, call, fon, koo...\n",
       "442541         0  [used, tu, least, times, kept, getting, rrod, ...\n",
       "668255         0  [hmmm, wonder, plans, actually, happen, today,...\n",
       "237777         4                           [oh, k, good, luck, lol]\n",
       "238253         4                                   [fangirl, squee]\n",
       "285600         0  [ok, aoifes, goin, mad, hates, twitter, thinks...\n",
       "16105          0  [ugh, feeling, like, death, warmed, us, sick, ...\n",
       "613143         4                                           [repair]\n",
       "105064         0               [wan, na, see, misss, youuuu, boooo]\n",
       "210760         0  [eating, chocolate, about, watch, dr, missing,...\n",
       "611185         0  [hey, showin, u, luv, n, nothin, back, ya, sho..."
      ]
     },
     "metadata": {},
     "execution_count": 18
    }
   ],
   "metadata": {}
  },
  {
   "cell_type": "code",
   "execution_count": 19,
   "source": [
    "df['Tweet'] = df['Tweet'].apply(handle_shortforms)\n",
    "df.iloc[:30]"
   ],
   "outputs": [
    {
     "output_type": "execute_result",
     "data": {
      "text/html": [
       "<div>\n",
       "<style scoped>\n",
       "    .dataframe tbody tr th:only-of-type {\n",
       "        vertical-align: middle;\n",
       "    }\n",
       "\n",
       "    .dataframe tbody tr th {\n",
       "        vertical-align: top;\n",
       "    }\n",
       "\n",
       "    .dataframe thead th {\n",
       "        text-align: right;\n",
       "    }\n",
       "</style>\n",
       "<table border=\"1\" class=\"dataframe\">\n",
       "  <thead>\n",
       "    <tr style=\"text-align: right;\">\n",
       "      <th></th>\n",
       "      <th>Polarity</th>\n",
       "      <th>Tweet</th>\n",
       "    </tr>\n",
       "  </thead>\n",
       "  <tbody>\n",
       "    <tr>\n",
       "      <th>514293</th>\n",
       "      <td>0</td>\n",
       "      <td>[miss, nikki, nu, nu, already, shes, always, n...</td>\n",
       "    </tr>\n",
       "    <tr>\n",
       "      <th>142282</th>\n",
       "      <td>0</td>\n",
       "      <td>[dream, last, night, remember, sign, clearly, ...</td>\n",
       "    </tr>\n",
       "    <tr>\n",
       "      <th>403727</th>\n",
       "      <td>0</td>\n",
       "      <td>[ohh, poor, sickly, hugs, hope, feel, little, ...</td>\n",
       "    </tr>\n",
       "    <tr>\n",
       "      <th>649503</th>\n",
       "      <td>0</td>\n",
       "      <td>[raining]</td>\n",
       "    </tr>\n",
       "    <tr>\n",
       "      <th>610789</th>\n",
       "      <td>0</td>\n",
       "      <td>[wish, la, right]</td>\n",
       "    </tr>\n",
       "    <tr>\n",
       "      <th>67315</th>\n",
       "      <td>0</td>\n",
       "      <td>[nala, olowalu, still, full, tummy, bread, bas...</td>\n",
       "    </tr>\n",
       "    <tr>\n",
       "      <th>33521</th>\n",
       "      <td>4</td>\n",
       "      <td>[site, seem, want, load, must, getting, lot, h...</td>\n",
       "    </tr>\n",
       "    <tr>\n",
       "      <th>256032</th>\n",
       "      <td>0</td>\n",
       "      <td>[time, sleep, hav, actually, work, tmrw]</td>\n",
       "    </tr>\n",
       "    <tr>\n",
       "      <th>657012</th>\n",
       "      <td>0</td>\n",
       "      <td>[oxford, month]</td>\n",
       "    </tr>\n",
       "    <tr>\n",
       "      <th>180587</th>\n",
       "      <td>4</td>\n",
       "      <td>[time, cup, tea, fruit, bagels, going, turn, d...</td>\n",
       "    </tr>\n",
       "    <tr>\n",
       "      <th>477004</th>\n",
       "      <td>4</td>\n",
       "      <td>[finished, playing, asshole, first, time, nd, ...</td>\n",
       "    </tr>\n",
       "    <tr>\n",
       "      <th>309676</th>\n",
       "      <td>0</td>\n",
       "      <td>[finally, got, greens, bad, dog, kept, tryna, ...</td>\n",
       "    </tr>\n",
       "    <tr>\n",
       "      <th>750783</th>\n",
       "      <td>4</td>\n",
       "      <td>[nhaaaiiiiiiiiiii, rendi, ao, twitter, fim, de...</td>\n",
       "    </tr>\n",
       "    <tr>\n",
       "      <th>155945</th>\n",
       "      <td>0</td>\n",
       "      <td>[poor, kitty, make, last, night, lost, nursing...</td>\n",
       "    </tr>\n",
       "    <tr>\n",
       "      <th>440190</th>\n",
       "      <td>4</td>\n",
       "      <td>[ok, cooler, search, engine, launch]</td>\n",
       "    </tr>\n",
       "    <tr>\n",
       "      <th>378003</th>\n",
       "      <td>0</td>\n",
       "      <td>[upset, couldnt, go]</td>\n",
       "    </tr>\n",
       "    <tr>\n",
       "      <th>607243</th>\n",
       "      <td>0</td>\n",
       "      <td>[constant, rain]</td>\n",
       "    </tr>\n",
       "    <tr>\n",
       "      <th>418793</th>\n",
       "      <td>4</td>\n",
       "      <td>[good, morning, folks, last, week, school, woo...</td>\n",
       "    </tr>\n",
       "    <tr>\n",
       "      <th>324965</th>\n",
       "      <td>0</td>\n",
       "      <td>[even, happiest, days, seeing, others, sad, ma...</td>\n",
       "    </tr>\n",
       "    <tr>\n",
       "      <th>350967</th>\n",
       "      <td>0</td>\n",
       "      <td>[celebrating, sorry, asn, able, call, fon, koo...</td>\n",
       "    </tr>\n",
       "    <tr>\n",
       "      <th>442541</th>\n",
       "      <td>0</td>\n",
       "      <td>[used, tu, least, times, kept, getting, rrod, ...</td>\n",
       "    </tr>\n",
       "    <tr>\n",
       "      <th>668255</th>\n",
       "      <td>0</td>\n",
       "      <td>[hmmm, wonder, plans, actually, happen, today,...</td>\n",
       "    </tr>\n",
       "    <tr>\n",
       "      <th>237777</th>\n",
       "      <td>4</td>\n",
       "      <td>[oh, okay, good, luck, laugh]</td>\n",
       "    </tr>\n",
       "    <tr>\n",
       "      <th>238253</th>\n",
       "      <td>4</td>\n",
       "      <td>[fangirl, squee]</td>\n",
       "    </tr>\n",
       "    <tr>\n",
       "      <th>285600</th>\n",
       "      <td>0</td>\n",
       "      <td>[ok, aoifes, goin, mad, hates, twitter, thinks...</td>\n",
       "    </tr>\n",
       "    <tr>\n",
       "      <th>16105</th>\n",
       "      <td>0</td>\n",
       "      <td>[ugh, feeling, like, death, warmed, us, sick, ...</td>\n",
       "    </tr>\n",
       "    <tr>\n",
       "      <th>613143</th>\n",
       "      <td>4</td>\n",
       "      <td>[repair]</td>\n",
       "    </tr>\n",
       "    <tr>\n",
       "      <th>105064</th>\n",
       "      <td>0</td>\n",
       "      <td>[wan, no, see, misss, youuuu, boooo]</td>\n",
       "    </tr>\n",
       "    <tr>\n",
       "      <th>210760</th>\n",
       "      <td>0</td>\n",
       "      <td>[eating, chocolate, about, watch, dr, missing,...</td>\n",
       "    </tr>\n",
       "    <tr>\n",
       "      <th>611185</th>\n",
       "      <td>0</td>\n",
       "      <td>[hey, showin, u, love, and, nothin, back, you,...</td>\n",
       "    </tr>\n",
       "  </tbody>\n",
       "</table>\n",
       "</div>"
      ],
      "text/plain": [
       "        Polarity                                              Tweet\n",
       "514293         0  [miss, nikki, nu, nu, already, shes, always, n...\n",
       "142282         0  [dream, last, night, remember, sign, clearly, ...\n",
       "403727         0  [ohh, poor, sickly, hugs, hope, feel, little, ...\n",
       "649503         0                                          [raining]\n",
       "610789         0                                  [wish, la, right]\n",
       "67315          0  [nala, olowalu, still, full, tummy, bread, bas...\n",
       "33521          4  [site, seem, want, load, must, getting, lot, h...\n",
       "256032         0           [time, sleep, hav, actually, work, tmrw]\n",
       "657012         0                                    [oxford, month]\n",
       "180587         4  [time, cup, tea, fruit, bagels, going, turn, d...\n",
       "477004         4  [finished, playing, asshole, first, time, nd, ...\n",
       "309676         0  [finally, got, greens, bad, dog, kept, tryna, ...\n",
       "750783         4  [nhaaaiiiiiiiiiii, rendi, ao, twitter, fim, de...\n",
       "155945         0  [poor, kitty, make, last, night, lost, nursing...\n",
       "440190         4               [ok, cooler, search, engine, launch]\n",
       "378003         0                               [upset, couldnt, go]\n",
       "607243         0                                   [constant, rain]\n",
       "418793         4  [good, morning, folks, last, week, school, woo...\n",
       "324965         0  [even, happiest, days, seeing, others, sad, ma...\n",
       "350967         0  [celebrating, sorry, asn, able, call, fon, koo...\n",
       "442541         0  [used, tu, least, times, kept, getting, rrod, ...\n",
       "668255         0  [hmmm, wonder, plans, actually, happen, today,...\n",
       "237777         4                      [oh, okay, good, luck, laugh]\n",
       "238253         4                                   [fangirl, squee]\n",
       "285600         0  [ok, aoifes, goin, mad, hates, twitter, thinks...\n",
       "16105          0  [ugh, feeling, like, death, warmed, us, sick, ...\n",
       "613143         4                                           [repair]\n",
       "105064         0               [wan, no, see, misss, youuuu, boooo]\n",
       "210760         0  [eating, chocolate, about, watch, dr, missing,...\n",
       "611185         0  [hey, showin, u, love, and, nothin, back, you,..."
      ]
     },
     "metadata": {},
     "execution_count": 19
    }
   ],
   "metadata": {}
  },
  {
   "cell_type": "code",
   "execution_count": null,
   "source": [],
   "outputs": [],
   "metadata": {}
  },
  {
   "cell_type": "code",
   "execution_count": 20,
   "source": [
    "def stemmer(tweet):\n",
    "    porter_stemmer = PorterStemmer()\n",
    "    tweet = [porter_stemmer.stem(word) for word in tweet]\n",
    "    return tweet"
   ],
   "outputs": [],
   "metadata": {}
  },
  {
   "cell_type": "code",
   "execution_count": 21,
   "source": [
    "stemmer(['I','am','playing','making', 'what','I','do'])"
   ],
   "outputs": [
    {
     "output_type": "execute_result",
     "data": {
      "text/plain": [
       "['i', 'am', 'play', 'make', 'what', 'i', 'do']"
      ]
     },
     "metadata": {},
     "execution_count": 21
    }
   ],
   "metadata": {}
  },
  {
   "cell_type": "code",
   "execution_count": 22,
   "source": [
    "df['Tweet'] = df['Tweet'].apply(stemmer)\n",
    "df.iloc[:30]"
   ],
   "outputs": [
    {
     "output_type": "execute_result",
     "data": {
      "text/html": [
       "<div>\n",
       "<style scoped>\n",
       "    .dataframe tbody tr th:only-of-type {\n",
       "        vertical-align: middle;\n",
       "    }\n",
       "\n",
       "    .dataframe tbody tr th {\n",
       "        vertical-align: top;\n",
       "    }\n",
       "\n",
       "    .dataframe thead th {\n",
       "        text-align: right;\n",
       "    }\n",
       "</style>\n",
       "<table border=\"1\" class=\"dataframe\">\n",
       "  <thead>\n",
       "    <tr style=\"text-align: right;\">\n",
       "      <th></th>\n",
       "      <th>Polarity</th>\n",
       "      <th>Tweet</th>\n",
       "    </tr>\n",
       "  </thead>\n",
       "  <tbody>\n",
       "    <tr>\n",
       "      <th>514293</th>\n",
       "      <td>0</td>\n",
       "      <td>[miss, nikki, nu, nu, alreadi, she, alway, nee...</td>\n",
       "    </tr>\n",
       "    <tr>\n",
       "      <th>142282</th>\n",
       "      <td>0</td>\n",
       "      <td>[dream, last, night, rememb, sign, clearli, to...</td>\n",
       "    </tr>\n",
       "    <tr>\n",
       "      <th>403727</th>\n",
       "      <td>0</td>\n",
       "      <td>[ohh, poor, sickli, hug, hope, feel, littl, be...</td>\n",
       "    </tr>\n",
       "    <tr>\n",
       "      <th>649503</th>\n",
       "      <td>0</td>\n",
       "      <td>[rain]</td>\n",
       "    </tr>\n",
       "    <tr>\n",
       "      <th>610789</th>\n",
       "      <td>0</td>\n",
       "      <td>[wish, la, right]</td>\n",
       "    </tr>\n",
       "    <tr>\n",
       "      <th>67315</th>\n",
       "      <td>0</td>\n",
       "      <td>[nala, olowalu, still, full, tummi, bread, bas...</td>\n",
       "    </tr>\n",
       "    <tr>\n",
       "      <th>33521</th>\n",
       "      <td>4</td>\n",
       "      <td>[site, seem, want, load, must, get, lot, hit]</td>\n",
       "    </tr>\n",
       "    <tr>\n",
       "      <th>256032</th>\n",
       "      <td>0</td>\n",
       "      <td>[time, sleep, hav, actual, work, tmrw]</td>\n",
       "    </tr>\n",
       "    <tr>\n",
       "      <th>657012</th>\n",
       "      <td>0</td>\n",
       "      <td>[oxford, month]</td>\n",
       "    </tr>\n",
       "    <tr>\n",
       "      <th>180587</th>\n",
       "      <td>4</td>\n",
       "      <td>[time, cup, tea, fruit, bagel, go, turn, day, ...</td>\n",
       "    </tr>\n",
       "    <tr>\n",
       "      <th>477004</th>\n",
       "      <td>4</td>\n",
       "      <td>[finish, play, asshol, first, time, nd, place,...</td>\n",
       "    </tr>\n",
       "    <tr>\n",
       "      <th>309676</th>\n",
       "      <td>0</td>\n",
       "      <td>[final, got, green, bad, dog, kept, tryna, get...</td>\n",
       "    </tr>\n",
       "    <tr>\n",
       "      <th>750783</th>\n",
       "      <td>4</td>\n",
       "      <td>[nhaaaiiiiiiiiiii, rendi, ao, twitter, fim, de...</td>\n",
       "    </tr>\n",
       "    <tr>\n",
       "      <th>155945</th>\n",
       "      <td>0</td>\n",
       "      <td>[poor, kitti, make, last, night, lost, nurs, a...</td>\n",
       "    </tr>\n",
       "    <tr>\n",
       "      <th>440190</th>\n",
       "      <td>4</td>\n",
       "      <td>[ok, cooler, search, engin, launch]</td>\n",
       "    </tr>\n",
       "    <tr>\n",
       "      <th>378003</th>\n",
       "      <td>0</td>\n",
       "      <td>[upset, couldnt, go]</td>\n",
       "    </tr>\n",
       "    <tr>\n",
       "      <th>607243</th>\n",
       "      <td>0</td>\n",
       "      <td>[constant, rain]</td>\n",
       "    </tr>\n",
       "    <tr>\n",
       "      <th>418793</th>\n",
       "      <td>4</td>\n",
       "      <td>[good, morn, folk, last, week, school, woohoo,...</td>\n",
       "    </tr>\n",
       "    <tr>\n",
       "      <th>324965</th>\n",
       "      <td>0</td>\n",
       "      <td>[even, happiest, day, see, other, sad, make, sad]</td>\n",
       "    </tr>\n",
       "    <tr>\n",
       "      <th>350967</th>\n",
       "      <td>0</td>\n",
       "      <td>[celebr, sorri, asn, abl, call, fon, koo, miss...</td>\n",
       "    </tr>\n",
       "    <tr>\n",
       "      <th>442541</th>\n",
       "      <td>0</td>\n",
       "      <td>[use, tu, least, time, kept, get, rrod, shift,...</td>\n",
       "    </tr>\n",
       "    <tr>\n",
       "      <th>668255</th>\n",
       "      <td>0</td>\n",
       "      <td>[hmmm, wonder, plan, actual, happen, today, la...</td>\n",
       "    </tr>\n",
       "    <tr>\n",
       "      <th>237777</th>\n",
       "      <td>4</td>\n",
       "      <td>[oh, okay, good, luck, laugh]</td>\n",
       "    </tr>\n",
       "    <tr>\n",
       "      <th>238253</th>\n",
       "      <td>4</td>\n",
       "      <td>[fangirl, squee]</td>\n",
       "    </tr>\n",
       "    <tr>\n",
       "      <th>285600</th>\n",
       "      <td>0</td>\n",
       "      <td>[ok, aoif, goin, mad, hate, twitter, think, sa...</td>\n",
       "    </tr>\n",
       "    <tr>\n",
       "      <th>16105</th>\n",
       "      <td>0</td>\n",
       "      <td>[ugh, feel, like, death, warm, us, sick, bueno]</td>\n",
       "    </tr>\n",
       "    <tr>\n",
       "      <th>613143</th>\n",
       "      <td>4</td>\n",
       "      <td>[repair]</td>\n",
       "    </tr>\n",
       "    <tr>\n",
       "      <th>105064</th>\n",
       "      <td>0</td>\n",
       "      <td>[wan, no, see, misss, youuuu, boooo]</td>\n",
       "    </tr>\n",
       "    <tr>\n",
       "      <th>210760</th>\n",
       "      <td>0</td>\n",
       "      <td>[eat, chocol, about, watch, dr, miss, jacob, a...</td>\n",
       "    </tr>\n",
       "    <tr>\n",
       "      <th>611185</th>\n",
       "      <td>0</td>\n",
       "      <td>[hey, showin, u, love, and, nothin, back, you,...</td>\n",
       "    </tr>\n",
       "  </tbody>\n",
       "</table>\n",
       "</div>"
      ],
      "text/plain": [
       "        Polarity                                              Tweet\n",
       "514293         0  [miss, nikki, nu, nu, alreadi, she, alway, nee...\n",
       "142282         0  [dream, last, night, rememb, sign, clearli, to...\n",
       "403727         0  [ohh, poor, sickli, hug, hope, feel, littl, be...\n",
       "649503         0                                             [rain]\n",
       "610789         0                                  [wish, la, right]\n",
       "67315          0  [nala, olowalu, still, full, tummi, bread, bas...\n",
       "33521          4      [site, seem, want, load, must, get, lot, hit]\n",
       "256032         0             [time, sleep, hav, actual, work, tmrw]\n",
       "657012         0                                    [oxford, month]\n",
       "180587         4  [time, cup, tea, fruit, bagel, go, turn, day, ...\n",
       "477004         4  [finish, play, asshol, first, time, nd, place,...\n",
       "309676         0  [final, got, green, bad, dog, kept, tryna, get...\n",
       "750783         4  [nhaaaiiiiiiiiiii, rendi, ao, twitter, fim, de...\n",
       "155945         0  [poor, kitti, make, last, night, lost, nurs, a...\n",
       "440190         4                [ok, cooler, search, engin, launch]\n",
       "378003         0                               [upset, couldnt, go]\n",
       "607243         0                                   [constant, rain]\n",
       "418793         4  [good, morn, folk, last, week, school, woohoo,...\n",
       "324965         0  [even, happiest, day, see, other, sad, make, sad]\n",
       "350967         0  [celebr, sorri, asn, abl, call, fon, koo, miss...\n",
       "442541         0  [use, tu, least, time, kept, get, rrod, shift,...\n",
       "668255         0  [hmmm, wonder, plan, actual, happen, today, la...\n",
       "237777         4                      [oh, okay, good, luck, laugh]\n",
       "238253         4                                   [fangirl, squee]\n",
       "285600         0  [ok, aoif, goin, mad, hate, twitter, think, sa...\n",
       "16105          0    [ugh, feel, like, death, warm, us, sick, bueno]\n",
       "613143         4                                           [repair]\n",
       "105064         0               [wan, no, see, misss, youuuu, boooo]\n",
       "210760         0  [eat, chocol, about, watch, dr, miss, jacob, a...\n",
       "611185         0  [hey, showin, u, love, and, nothin, back, you,..."
      ]
     },
     "metadata": {},
     "execution_count": 22
    }
   ],
   "metadata": {}
  },
  {
   "cell_type": "code",
   "execution_count": 23,
   "source": [
    "# # Has to be done after POS Tagging\n",
    "# def lemmatizer(tweet):\n",
    "#     word_net = WordNetLemmatizer()\n",
    "#     tweet = [word_net.lemmatize(word) for word in tweet]\n",
    "#     return tweet"
   ],
   "outputs": [],
   "metadata": {}
  },
  {
   "cell_type": "code",
   "execution_count": 24,
   "source": [
    "# lemmatizer(['I','am','playing','making', 'what','I','do'])"
   ],
   "outputs": [],
   "metadata": {}
  },
  {
   "cell_type": "code",
   "execution_count": 25,
   "source": [
    "# word_net = WordNetLemmatizer()\n",
    "# word_net.lemmatize('playing', 'v')"
   ],
   "outputs": [],
   "metadata": {}
  },
  {
   "cell_type": "code",
   "execution_count": 26,
   "source": [
    "df['Tweet'].iloc[50]"
   ],
   "outputs": [
    {
     "output_type": "execute_result",
     "data": {
      "text/plain": [
       "['yeah',\n",
       " 'physio',\n",
       " 'crap',\n",
       " 'still',\n",
       " 'month',\n",
       " 'away',\n",
       " 'form',\n",
       " 'real',\n",
       " 'physic',\n",
       " 'activ',\n",
       " 'couldnt',\n",
       " 'even',\n",
       " 'sit',\n",
       " 'straignthen',\n",
       " 'leg']"
      ]
     },
     "metadata": {},
     "execution_count": 26
    }
   ],
   "metadata": {}
  },
  {
   "cell_type": "code",
   "execution_count": 29,
   "source": [],
   "outputs": [],
   "metadata": {}
  },
  {
   "cell_type": "code",
   "execution_count": 30,
   "source": [
    "def dummy(tweet):\n",
    "    return tweet"
   ],
   "outputs": [],
   "metadata": {}
  },
  {
   "cell_type": "code",
   "execution_count": 40,
   "source": [
    "cv = CountVectorizer(  \n",
    "                      tokenizer=dummy,\n",
    "                      preprocessor=dummy\n",
    "                    )\n",
    "# X_train = vec.fit_transform(X_train).toarray()\n",
    "# X_train\n",
    "\n",
    "# docs = [\n",
    "#     ['hello', 'world', '.'],\n",
    "#     ['hello', 'world'],\n",
    "#     ['again', 'hello', 'world']\n",
    "# ]\n",
    "\n",
    "\n",
    "\n",
    "X = cv.fit_transform(df['Tweet']).toarray()\n",
    "print(len(cv.get_feature_names()))\n",
    "# ['.', 'again', 'hello', 'world']"
   ],
   "outputs": [
    {
     "output_type": "stream",
     "name": "stdout",
     "text": [
      "23635\n"
     ]
    }
   ],
   "metadata": {}
  },
  {
   "cell_type": "code",
   "execution_count": 43,
   "source": [
    "X.shape"
   ],
   "outputs": [
    {
     "output_type": "execute_result",
     "data": {
      "text/plain": [
       "(40000, 23635)"
      ]
     },
     "metadata": {},
     "execution_count": 43
    }
   ],
   "metadata": {}
  },
  {
   "cell_type": "code",
   "execution_count": 44,
   "source": [
    "# cv.get_feature_names()"
   ],
   "outputs": [],
   "metadata": {}
  },
  {
   "cell_type": "code",
   "execution_count": 45,
   "source": [
    "X_train, X_test, y_train, y_test = train_test_split(X, df['Polarity'], test_size=0.25, random_state=42)"
   ],
   "outputs": [],
   "metadata": {}
  },
  {
   "cell_type": "code",
   "execution_count": 48,
   "source": [
    "X_train.shape"
   ],
   "outputs": [
    {
     "output_type": "execute_result",
     "data": {
      "text/plain": [
       "(30000, 23635)"
      ]
     },
     "metadata": {},
     "execution_count": 48
    }
   ],
   "metadata": {}
  },
  {
   "cell_type": "code",
   "execution_count": 49,
   "source": [
    "model = MultinomialNB()\n",
    "model.fit(X_train, y_train)"
   ],
   "outputs": [
    {
     "output_type": "execute_result",
     "data": {
      "text/plain": [
       "MultinomialNB()"
      ]
     },
     "metadata": {},
     "execution_count": 49
    }
   ],
   "metadata": {}
  },
  {
   "cell_type": "code",
   "execution_count": 50,
   "source": [
    "model.score(X_test, y_test)"
   ],
   "outputs": [
    {
     "output_type": "execute_result",
     "data": {
      "text/plain": [
       "0.7394"
      ]
     },
     "metadata": {},
     "execution_count": 50
    }
   ],
   "metadata": {}
  },
  {
   "cell_type": "code",
   "execution_count": 55,
   "source": [
    "model.predict(cv.transform(['Hate this app! simply rubbish!']))"
   ],
   "outputs": [
    {
     "output_type": "execute_result",
     "data": {
      "text/plain": [
       "array([4])"
      ]
     },
     "metadata": {},
     "execution_count": 55
    }
   ],
   "metadata": {}
  },
  {
   "cell_type": "code",
   "execution_count": null,
   "source": [],
   "outputs": [],
   "metadata": {}
  }
 ],
 "metadata": {
  "orig_nbformat": 4,
  "language_info": {
   "name": "python",
   "version": "3.6.13",
   "mimetype": "text/x-python",
   "codemirror_mode": {
    "name": "ipython",
    "version": 3
   },
   "pygments_lexer": "ipython3",
   "nbconvert_exporter": "python",
   "file_extension": ".py"
  },
  "kernelspec": {
   "name": "python3",
   "display_name": "Python 3.6.13 64-bit ('col772_a2': conda)"
  },
  "interpreter": {
   "hash": "47824db9596938d92c445fad5d5791b4eb715b27479fa3e5bf7a5307ac59afb6"
  }
 },
 "nbformat": 4,
 "nbformat_minor": 2
}