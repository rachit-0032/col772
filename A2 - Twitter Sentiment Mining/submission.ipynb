{
  "nbformat": 4,
  "nbformat_minor": 0,
  "metadata": {
    "orig_nbformat": 4,
    "language_info": {
      "name": "python",
      "version": "3.6.13",
      "mimetype": "text/x-python",
      "codemirror_mode": {
        "name": "ipython",
        "version": 3
      },
      "pygments_lexer": "ipython3",
      "nbconvert_exporter": "python",
      "file_extension": ".py"
    },
    "kernelspec": {
      "name": "python3",
      "display_name": "Python 3.6.13 64-bit ('col772_a2': conda)"
    },
    "interpreter": {
      "hash": "47824db9596938d92c445fad5d5791b4eb715b27479fa3e5bf7a5307ac59afb6"
    },
    "colab": {
      "name": "submission.ipynb",
      "provenance": [],
      "collapsed_sections": []
    }
  },
  "cells": [
    {
      "cell_type": "code",
      "metadata": {
        "colab": {
          "base_uri": "https://localhost:8080/"
        },
        "id": "mOJ3T0WWDGRo",
        "outputId": "601714d7-38dc-4fc0-dbb6-1663906bde09"
      },
      "source": [
        "from google.colab import drive\n",
        "drive.mount('/content/drive')"
      ],
      "execution_count": 1,
      "outputs": [
        {
          "output_type": "stream",
          "name": "stdout",
          "text": [
            "Drive already mounted at /content/drive; to attempt to forcibly remount, call drive.mount(\"/content/drive\", force_remount=True).\n"
          ]
        }
      ]
    },
    {
      "cell_type": "code",
      "metadata": {
        "id": "Ij7awMq6n3mA"
      },
      "source": [
        "import pandas as pd\n",
        "import re\n",
        "import nltk\n",
        "import matplotlib.pyplot as plt"
      ],
      "execution_count": 331,
      "outputs": []
    },
    {
      "cell_type": "code",
      "metadata": {
        "id": "iDF0OMEqn3mB"
      },
      "source": [
        "from sklearn.feature_extraction.text import CountVectorizer, TfidfVectorizer\n",
        "from sklearn.model_selection import train_test_split\n",
        "from sklearn.naive_bayes import MultinomialNB\n",
        "from sklearn.linear_model import LogisticRegression, SGDClassifier\n",
        "from sklearn.svm import LinearSVC\n",
        "from sklearn.metrics import classification_report"
      ],
      "execution_count": 3,
      "outputs": []
    },
    {
      "cell_type": "code",
      "metadata": {
        "colab": {
          "base_uri": "https://localhost:8080/"
        },
        "id": "rjv0vD98n3mC",
        "outputId": "50cb5266-0a50-4e99-cee6-7def46aea3d4"
      },
      "source": [
        "from nltk.stem import WordNetLemmatizer\n",
        "from nltk.tokenize import word_tokenize\n",
        "from nltk.corpus import stopwords\n",
        "from nltk.stem.porter import PorterStemmer\n",
        "from nltk.corpus import sentiwordnet as swn\n",
        "from nltk import ngrams, FreqDist\n",
        "from nltk.corpus import wordnet\n",
        "\n",
        "nltk.download('punkt')\n",
        "nltk.download('stopwords')\n",
        "nltk.download('wordnet')\n",
        "nltk.download('averaged_perceptron_tagger')"
      ],
      "execution_count": 4,
      "outputs": [
        {
          "output_type": "stream",
          "name": "stdout",
          "text": [
            "[nltk_data] Downloading package punkt to /root/nltk_data...\n",
            "[nltk_data]   Package punkt is already up-to-date!\n",
            "[nltk_data] Downloading package stopwords to /root/nltk_data...\n",
            "[nltk_data]   Package stopwords is already up-to-date!\n",
            "[nltk_data] Downloading package wordnet to /root/nltk_data...\n",
            "[nltk_data]   Package wordnet is already up-to-date!\n",
            "[nltk_data] Downloading package averaged_perceptron_tagger to\n",
            "[nltk_data]     /root/nltk_data...\n",
            "[nltk_data]   Package averaged_perceptron_tagger is already up-to-\n",
            "[nltk_data]       date!\n"
          ]
        },
        {
          "output_type": "execute_result",
          "data": {
            "text/plain": [
              "True"
            ]
          },
          "metadata": {},
          "execution_count": 4
        }
      ]
    },
    {
      "cell_type": "code",
      "metadata": {
        "id": "ZX7SViZ8n3mD"
      },
      "source": [
        "data_neg = pd.read_csv('/content/drive/MyDrive/COL772_A2/training_negative.csv', encoding='latin-1')\n",
        "data_pos = pd.read_csv('/content/drive/MyDrive/COL772_A2/training_positive.csv', encoding='latin-1')"
      ],
      "execution_count": 5,
      "outputs": []
    },
    {
      "cell_type": "code",
      "metadata": {
        "id": "sHmk4NfMn3mD"
      },
      "source": [
        "data = data_neg.append(data_pos)\n",
        "data = data.iloc[:,1:]"
      ],
      "execution_count": 6,
      "outputs": []
    },
    {
      "cell_type": "code",
      "metadata": {
        "colab": {
          "base_uri": "https://localhost:8080/",
          "height": 204
        },
        "id": "OeM4QErjn3mD",
        "outputId": "3071a2e4-8fa9-4051-fc19-f3ef4c357419"
      },
      "source": [
        "data.tail()"
      ],
      "execution_count": 73,
      "outputs": [
        {
          "output_type": "execute_result",
          "data": {
            "text/html": [
              "<div>\n",
              "<style scoped>\n",
              "    .dataframe tbody tr th:only-of-type {\n",
              "        vertical-align: middle;\n",
              "    }\n",
              "\n",
              "    .dataframe tbody tr th {\n",
              "        vertical-align: top;\n",
              "    }\n",
              "\n",
              "    .dataframe thead th {\n",
              "        text-align: right;\n",
              "    }\n",
              "</style>\n",
              "<table border=\"1\" class=\"dataframe\">\n",
              "  <thead>\n",
              "    <tr style=\"text-align: right;\">\n",
              "      <th></th>\n",
              "      <th>Polarity</th>\n",
              "      <th>Tweet</th>\n",
              "    </tr>\n",
              "  </thead>\n",
              "  <tbody>\n",
              "    <tr>\n",
              "      <th>799995</th>\n",
              "      <td>4</td>\n",
              "      <td>Just woke up. Having no school is the best fee...</td>\n",
              "    </tr>\n",
              "    <tr>\n",
              "      <th>799996</th>\n",
              "      <td>4</td>\n",
              "      <td>TheWDB.com - Very cool to hear old Walt interv...</td>\n",
              "    </tr>\n",
              "    <tr>\n",
              "      <th>799997</th>\n",
              "      <td>4</td>\n",
              "      <td>Are you ready for your MoJo Makeover? Ask me f...</td>\n",
              "    </tr>\n",
              "    <tr>\n",
              "      <th>799998</th>\n",
              "      <td>4</td>\n",
              "      <td>Happy 38th Birthday to my boo of alll time!!! ...</td>\n",
              "    </tr>\n",
              "    <tr>\n",
              "      <th>799999</th>\n",
              "      <td>4</td>\n",
              "      <td>happy #charitytuesday @theNSPCC @SparksCharity...</td>\n",
              "    </tr>\n",
              "  </tbody>\n",
              "</table>\n",
              "</div>"
            ],
            "text/plain": [
              "        Polarity                                              Tweet\n",
              "799995         4  Just woke up. Having no school is the best fee...\n",
              "799996         4  TheWDB.com - Very cool to hear old Walt interv...\n",
              "799997         4  Are you ready for your MoJo Makeover? Ask me f...\n",
              "799998         4  Happy 38th Birthday to my boo of alll time!!! ...\n",
              "799999         4  happy #charitytuesday @theNSPCC @SparksCharity..."
            ]
          },
          "metadata": {},
          "execution_count": 73
        }
      ]
    },
    {
      "cell_type": "markdown",
      "metadata": {
        "id": "8ZGO7-aen3mE"
      },
      "source": [
        "## Sampling Data for Trying out Approaches"
      ]
    },
    {
      "cell_type": "code",
      "metadata": {
        "colab": {
          "base_uri": "https://localhost:8080/",
          "height": 204
        },
        "id": "Vw9pS_JFn3mF",
        "outputId": "9603e409-bf2c-44d9-b1ba-6e64d7a910ce"
      },
      "source": [
        "# df = data.sample(frac=0.2)\n",
        "df = data.iloc[:30000]\n",
        "df.head()"
      ],
      "execution_count": 217,
      "outputs": [
        {
          "output_type": "execute_result",
          "data": {
            "text/html": [
              "<div>\n",
              "<style scoped>\n",
              "    .dataframe tbody tr th:only-of-type {\n",
              "        vertical-align: middle;\n",
              "    }\n",
              "\n",
              "    .dataframe tbody tr th {\n",
              "        vertical-align: top;\n",
              "    }\n",
              "\n",
              "    .dataframe thead th {\n",
              "        text-align: right;\n",
              "    }\n",
              "</style>\n",
              "<table border=\"1\" class=\"dataframe\">\n",
              "  <thead>\n",
              "    <tr style=\"text-align: right;\">\n",
              "      <th></th>\n",
              "      <th>Polarity</th>\n",
              "      <th>Tweet</th>\n",
              "    </tr>\n",
              "  </thead>\n",
              "  <tbody>\n",
              "    <tr>\n",
              "      <th>0</th>\n",
              "      <td>0</td>\n",
              "      <td>@switchfoot http://twitpic.com/2y1zl - Awww, t...</td>\n",
              "    </tr>\n",
              "    <tr>\n",
              "      <th>1</th>\n",
              "      <td>0</td>\n",
              "      <td>is upset that he can't update his Facebook by ...</td>\n",
              "    </tr>\n",
              "    <tr>\n",
              "      <th>2</th>\n",
              "      <td>0</td>\n",
              "      <td>@Kenichan I dived many times for the ball. Man...</td>\n",
              "    </tr>\n",
              "    <tr>\n",
              "      <th>3</th>\n",
              "      <td>0</td>\n",
              "      <td>my whole body feels itchy and like its on fire</td>\n",
              "    </tr>\n",
              "    <tr>\n",
              "      <th>4</th>\n",
              "      <td>0</td>\n",
              "      <td>@nationwideclass no, it's not behaving at all....</td>\n",
              "    </tr>\n",
              "  </tbody>\n",
              "</table>\n",
              "</div>"
            ],
            "text/plain": [
              "   Polarity                                              Tweet\n",
              "0         0  @switchfoot http://twitpic.com/2y1zl - Awww, t...\n",
              "1         0  is upset that he can't update his Facebook by ...\n",
              "2         0  @Kenichan I dived many times for the ball. Man...\n",
              "3         0    my whole body feels itchy and like its on fire \n",
              "4         0  @nationwideclass no, it's not behaving at all...."
            ]
          },
          "metadata": {},
          "execution_count": 217
        }
      ]
    },
    {
      "cell_type": "code",
      "metadata": {
        "id": "2JvYcGmUn3mF"
      },
      "source": [
        ""
      ],
      "execution_count": 217,
      "outputs": []
    },
    {
      "cell_type": "markdown",
      "metadata": {
        "id": "ZB2-ZFyun3mF"
      },
      "source": [
        "## Pre-Processing Text"
      ]
    },
    {
      "cell_type": "code",
      "metadata": {
        "id": "9eOthrAcn3mF"
      },
      "source": [
        "def clean_text(tweet):\n",
        "    tweet = tweet.lower()                                   # Converting to lower case\n",
        "    tweet = re.sub(r'\\b\\w+@[^\\s]+', ' ', tweet)             # Removing email IDs\n",
        "    tweet = re.sub(r'@[^\\s]+', ' ', tweet)                  # Removing mentions\n",
        "    tweet = re.sub(r'https?:\\/[^\\s]+', ' ', tweet)          # Removing URLs\n",
        "    tweet = re.sub(r'www.[^\\s]+', ' ', tweet)               # Removing Websites\n",
        "    tweet = re.sub(r'#', '', tweet)                         # Removing hashtags\n",
        "    tweet = re.sub(r'_', ' ', tweet)                        # Sometimes hashtags are done with _ representing break between two words\n",
        "    tweet = re.sub(r'\\.{2,}', ' ', tweet)                   # Removing sentence separators\n",
        "    tweet = re.sub(r\"[0-9]+\",' ', tweet)                    # Removing numbers as they do not indicate sentiment\n",
        "    # tweet = re.sub(r\"\\b[a-zA-Z]{1}\\b\", ' ', tweet)        # Removing single letters\n",
        "    tweet = re.sub(r\"\\bamp\\b\", ' ', tweet)                  # Removing &amp signs mis-translated\n",
        "    tweet = re.sub(r\"\\bquot\\b\", ' ', tweet)                \n",
        "    if len(tweet) == 0:\n",
        "      tweet = 'None'\n",
        "    return ' '.join(tweet.split())"
      ],
      "execution_count": 218,
      "outputs": []
    },
    {
      "cell_type": "code",
      "metadata": {
        "id": "8fjrceg8SIep"
      },
      "source": [
        "def remove_punc(tweet):\n",
        "    tweet = re.sub(r\"[^\\w'\\s]+\",'', tweet)                  # Removing punctuations apart from clitic\n",
        "    return tweet"
      ],
      "execution_count": 219,
      "outputs": []
    },
    {
      "cell_type": "code",
      "metadata": {
        "colab": {
          "base_uri": "https://localhost:8080/",
          "height": 37
        },
        "id": "2BSMAXPen3mG",
        "outputId": "1304179a-4322-4f36-a3f3-bd62a9682bfe"
      },
      "source": [
        "clean_text(\"I am &amp rachit1jain@gmail n't doing good :D\") "
      ],
      "execution_count": 220,
      "outputs": [
        {
          "output_type": "execute_result",
          "data": {
            "application/vnd.google.colaboratory.intrinsic+json": {
              "type": "string"
            },
            "text/plain": [
              "\"i am & n't doing good :d\""
            ]
          },
          "metadata": {},
          "execution_count": 220
        }
      ]
    },
    {
      "cell_type": "code",
      "metadata": {
        "colab": {
          "base_uri": "https://localhost:8080/",
          "height": 37
        },
        "id": "-JkhpCcIOmni",
        "outputId": "622ffc08-9c82-4972-c6e4-91f89928b0ac"
      },
      "source": [
        "clean_text('@')"
      ],
      "execution_count": 221,
      "outputs": [
        {
          "output_type": "execute_result",
          "data": {
            "application/vnd.google.colaboratory.intrinsic+json": {
              "type": "string"
            },
            "text/plain": [
              "'@'"
            ]
          },
          "metadata": {},
          "execution_count": 221
        }
      ]
    },
    {
      "cell_type": "code",
      "metadata": {
        "id": "JWiUBKi4n3mH"
      },
      "source": [
        "def tweet_word_tokenizer(tweet):\n",
        "    # return word_tokenize(tweet)\n",
        "    return tweet.split(' ')"
      ],
      "execution_count": 222,
      "outputs": []
    },
    {
      "cell_type": "code",
      "metadata": {
        "id": "1575G2F4n3mH"
      },
      "source": [
        "clitics = {\n",
        "    \"nt\": 'not',\n",
        "    \"ve\": 'have',\n",
        "    \"s\": 'is',\n",
        "    \"m\": 'am',\n",
        "    \"re\": 'are',\n",
        "    \"ll\": 'will',\n",
        "    'd': 'would',\n",
        "    \"bout\": 'about',\n",
        "    'didnt': 'did not',\n",
        "    'havent': 'have not',\n",
        "    'hasnt': 'has not',\n",
        "    'wont': 'will not',\n",
        "    'wouldnt': 'will not',\n",
        "    'shouldnt': 'should not',\n",
        "}"
      ],
      "execution_count": 223,
      "outputs": []
    },
    {
      "cell_type": "code",
      "metadata": {
        "id": "X2SrN9-hn3mH"
      },
      "source": [
        "# # count = 0\n",
        "# def handle_clitics(tweet):\n",
        "#     # global count\n",
        "#     # count += 1\n",
        "#     for i in range(len(tweet)):\n",
        "#         if tweet[i] in clitics.keys():\n",
        "#             tweet[i] = clitics[tweet[i]]\n",
        "#     return tweet"
      ],
      "execution_count": 224,
      "outputs": []
    },
    {
      "cell_type": "code",
      "metadata": {
        "id": "uBJFKCpfIGc9"
      },
      "source": [
        "def handle_clitics(phrase):\n",
        "    # specific\n",
        "    phrase = re.sub(r\"won\\'t\", \"will not\", phrase)\n",
        "    phrase = re.sub(r\"can\\'t\", \"can not\", phrase)\n",
        "    phrase = re.sub(r\"\\bdon't\\b\", \"do not\", phrase)\n",
        "    phrase = re.sub(r\"\\bdoesn't\\b\", \"does not\", phrase)\n",
        "    phrase = re.sub(r\"\\bdidn't\\b\", \"did not\", phrase)\n",
        "    phrase = re.sub(r\"\\bdidnt\\b\", \"did not\", phrase)\n",
        "    phrase = re.sub(r\"\\bhasn't\\b\", \"has not\", phrase)\n",
        "    phrase = re.sub(r\"\\bhaven't\\b\", \"have not\", phrase)\n",
        "    phrase = re.sub(r\"\\bhavent\\b\", \"have not\", phrase)\n",
        "    phrase = re.sub(r\"\\bhadn't\\b\", \"had not\", phrase)\n",
        "    phrase = re.sub(r\"\\bwon't\\b\", \"will not\", phrase)\n",
        "    phrase = re.sub(r\"\\bwouldn't\\b\", \"would not\", phrase)\n",
        "\n",
        "    # general\n",
        "    phrase = re.sub(r\"n\\'t\", \" not\", phrase)\n",
        "    phrase = re.sub(r\"\\'re\", \" are\", phrase)\n",
        "    phrase = re.sub(r\"\\'s\", \" is\", phrase)\n",
        "\n",
        "    # using regular expressions to expand the contractions\n",
        "    phrase = re.sub(r\"\\'d\", \" would\", phrase)\n",
        "    phrase = re.sub(r\"\\'ll\", \" will\", phrase)\n",
        "    phrase = re.sub(r\"\\'ve\", \" have\", phrase)\n",
        "    phrase = re.sub(r\"\\'m\", \" am\", phrase)\n",
        "\n",
        "    return phrase"
      ],
      "execution_count": 225,
      "outputs": []
    },
    {
      "cell_type": "code",
      "metadata": {
        "id": "BIwuwU5nn3mH"
      },
      "source": [
        "def stopword_removal(tweet):\n",
        "    # stopwords = stopwords.words('english')\n",
        "    tweet = [word for word in tweet if word not in stopwords.words('english')]\n",
        "    if len(tweet) == 0:\n",
        "        tweet = ['None']\n",
        "    return tweet"
      ],
      "execution_count": 226,
      "outputs": []
    },
    {
      "cell_type": "code",
      "metadata": {
        "id": "9le-iVv_MGow"
      },
      "source": [
        "# stopwords.words('english')"
      ],
      "execution_count": 227,
      "outputs": []
    },
    {
      "cell_type": "code",
      "metadata": {
        "id": "rzlKv6Tqn3mI"
      },
      "source": [
        "short_forms = {\n",
        "    'n': 'and',\n",
        "    'ya': 'you',\n",
        "    'luv': 'love',\n",
        "    'lol': 'laugh',\n",
        "    'k': 'okay',\n",
        "    'na': 'no',\n",
        "    'ily': 'love',\n",
        "    'im': 'am',\n",
        "    'morn': 'morning',\n",
        "    'nght': 'night',\n",
        "    'no': 'not',\n",
        "    'Ill': 'will',\n",
        "    'shoulda': 'should have'\n",
        "    }"
      ],
      "execution_count": 228,
      "outputs": []
    },
    {
      "cell_type": "code",
      "metadata": {
        "id": "XmHgKMHcn3mI"
      },
      "source": [
        "def handle_shortforms(tweet):\n",
        "    temp = ''\n",
        "    for word in tweet.split():\n",
        "        if word in short_forms.keys():\n",
        "            temp = temp + ' ' + short_forms[word]\n",
        "        else:\n",
        "            temp = temp + ' ' + word\n",
        "    return ' '.join(temp.split())"
      ],
      "execution_count": 229,
      "outputs": []
    },
    {
      "cell_type": "code",
      "metadata": {
        "id": "BbptB4Iyn3mI"
      },
      "source": [
        "# handle_shortforms(['I','am','lol','in','practice'])"
      ],
      "execution_count": 230,
      "outputs": []
    },
    {
      "cell_type": "code",
      "metadata": {
        "colab": {
          "base_uri": "https://localhost:8080/",
          "height": 37
        },
        "id": "UVwFK1SwLLGn",
        "outputId": "46d22dd4-b7fd-433f-e98b-3723f1a3ae82"
      },
      "source": [
        "handle_shortforms('I am a good boy shoulda gone')"
      ],
      "execution_count": 231,
      "outputs": [
        {
          "output_type": "execute_result",
          "data": {
            "application/vnd.google.colaboratory.intrinsic+json": {
              "type": "string"
            },
            "text/plain": [
              "'I am a good boy should have gone'"
            ]
          },
          "metadata": {},
          "execution_count": 231
        }
      ]
    },
    {
      "cell_type": "code",
      "metadata": {
        "id": "04Jmy6C2TbQw"
      },
      "source": [
        ""
      ],
      "execution_count": null,
      "outputs": []
    },
    {
      "cell_type": "code",
      "metadata": {
        "id": "xhLV9cvETbKJ"
      },
      "source": [
        "## Maintaining only letters within a tweet and removing every other information since not indicative of sentiment\n",
        "def maintain_letters(tweet):\n",
        "    tweet = re.sub(r'[^a-z]', ' ', tweet)      # since lowering has already been done\n",
        "    return ' '.join(tweet.split())"
      ],
      "execution_count": 254,
      "outputs": []
    },
    {
      "cell_type": "code",
      "metadata": {
        "colab": {
          "base_uri": "https://localhost:8080/",
          "height": 37
        },
        "id": "8PJMwCsuRipT",
        "outputId": "10cfe931-a464-4ba1-ca70-73b49bce9164"
      },
      "source": [
        "maintain_letters('i am a good boy. hero is @terohja 909')"
      ],
      "execution_count": 257,
      "outputs": [
        {
          "output_type": "execute_result",
          "data": {
            "application/vnd.google.colaboratory.intrinsic+json": {
              "type": "string"
            },
            "text/plain": [
              "'i am a good boy hero is terohja'"
            ]
          },
          "metadata": {},
          "execution_count": 257
        }
      ]
    },
    {
      "cell_type": "code",
      "metadata": {
        "id": "8IS3yJElT8sO"
      },
      "source": [
        ""
      ],
      "execution_count": null,
      "outputs": []
    },
    {
      "cell_type": "code",
      "metadata": {
        "id": "BzAZlswVRikR"
      },
      "source": [
        "### TO BE MODIFIED ####\n",
        "# Emoticons store a lot of information\n",
        "emo_info = {\n",
        "    # positive emoticons\n",
        "    \":‑)\": \" happy \",\n",
        "    \":)\": \" happy \",\n",
        "    \";)\": \" happy \",\n",
        "    \":-}\": \" good \",\n",
        "    \"=]\": \" good \",\n",
        "    \"=)\": \" good \",\n",
        "    \";d\": \" laugh \",\n",
        "    \":d\": \" laugh \",\n",
        "    \":dd\": \" laugh \",\n",
        "    \"xd\": \" laugh \",\n",
        "    \":p\": \" tease \",\n",
        "    \"xp\": \" tease \",\n",
        "    \"<3\": \" love \",\n",
        "\n",
        "    # negativve emoticons\n",
        "    \":‑(\": \" sad \",\n",
        "    \":‑[\": \" sad \",\n",
        "    \":(\": \" sad \",\n",
        "    \"=(\": \" sad \",\n",
        "    \"=/\": \" sad \",\n",
        "    \":{\": \" sad \",\n",
        "    \":/\": \" upset \",\n",
        "    \":|\": \" upset \",\n",
        "    \":-/\": \" upset \",\n",
        "    \":o\": \" shock \"\n",
        "\n",
        "}"
      ],
      "execution_count": 238,
      "outputs": []
    },
    {
      "cell_type": "code",
      "metadata": {
        "id": "KZnTnjYIRifJ"
      },
      "source": [
        "### TO BE MODIFIED ####\n",
        "emo_info_order = [k for (k_len, k) in reversed(sorted([(len(k), k) for k in emo_info.keys()]))]"
      ],
      "execution_count": 243,
      "outputs": []
    },
    {
      "cell_type": "code",
      "metadata": {
        "id": "efqoiUqgRiZ6"
      },
      "source": [
        "### TO BE MODIFIED ####\n",
        "def emo_repl(phrase):\n",
        "    for k in emo_info_order:\n",
        "        phrase = phrase.replace(k, emo_info[k])\n",
        "    return phrase"
      ],
      "execution_count": 244,
      "outputs": []
    },
    {
      "cell_type": "code",
      "metadata": {
        "id": "FGR_onqjRmrl"
      },
      "source": [
        ""
      ],
      "execution_count": 240,
      "outputs": []
    },
    {
      "cell_type": "code",
      "metadata": {
        "id": "M4BzEcEsn3mI",
        "colab": {
          "base_uri": "https://localhost:8080/",
          "height": 377
        },
        "outputId": "32b318d6-ed29-422d-af5a-5e75a4da74a1"
      },
      "source": [
        "df['Tweet_regex'] = df['Tweet'].apply(clean_text)\n",
        "df.head()"
      ],
      "execution_count": 245,
      "outputs": [
        {
          "output_type": "stream",
          "name": "stderr",
          "text": [
            "/usr/local/lib/python3.7/dist-packages/ipykernel_launcher.py:1: SettingWithCopyWarning: \n",
            "A value is trying to be set on a copy of a slice from a DataFrame.\n",
            "Try using .loc[row_indexer,col_indexer] = value instead\n",
            "\n",
            "See the caveats in the documentation: https://pandas.pydata.org/pandas-docs/stable/user_guide/indexing.html#returning-a-view-versus-a-copy\n",
            "  \"\"\"Entry point for launching an IPython kernel.\n"
          ]
        },
        {
          "output_type": "execute_result",
          "data": {
            "text/html": [
              "<div>\n",
              "<style scoped>\n",
              "    .dataframe tbody tr th:only-of-type {\n",
              "        vertical-align: middle;\n",
              "    }\n",
              "\n",
              "    .dataframe tbody tr th {\n",
              "        vertical-align: top;\n",
              "    }\n",
              "\n",
              "    .dataframe thead th {\n",
              "        text-align: right;\n",
              "    }\n",
              "</style>\n",
              "<table border=\"1\" class=\"dataframe\">\n",
              "  <thead>\n",
              "    <tr style=\"text-align: right;\">\n",
              "      <th></th>\n",
              "      <th>Polarity</th>\n",
              "      <th>Tweet</th>\n",
              "      <th>Tweet_regex</th>\n",
              "      <th>Tweet_emoji</th>\n",
              "    </tr>\n",
              "  </thead>\n",
              "  <tbody>\n",
              "    <tr>\n",
              "      <th>0</th>\n",
              "      <td>0</td>\n",
              "      <td>@switchfoot http://twitpic.com/2y1zl - Awww, t...</td>\n",
              "      <td>- awww, that's a bummer. you shoulda got david...</td>\n",
              "      <td>- awww, that's a bummer. you shoulda got david...</td>\n",
              "    </tr>\n",
              "    <tr>\n",
              "      <th>1</th>\n",
              "      <td>0</td>\n",
              "      <td>is upset that he can't update his Facebook by ...</td>\n",
              "      <td>is upset that he can't update his facebook by ...</td>\n",
              "      <td>is upset that he can't update his facebook by ...</td>\n",
              "    </tr>\n",
              "    <tr>\n",
              "      <th>2</th>\n",
              "      <td>0</td>\n",
              "      <td>@Kenichan I dived many times for the ball. Man...</td>\n",
              "      <td>i dived many times for the ball. managed to sa...</td>\n",
              "      <td>i dived many times for the ball. managed to sa...</td>\n",
              "    </tr>\n",
              "    <tr>\n",
              "      <th>3</th>\n",
              "      <td>0</td>\n",
              "      <td>my whole body feels itchy and like its on fire</td>\n",
              "      <td>my whole body feels itchy and like its on fire</td>\n",
              "      <td>my whole body feels itchy and like its on fire</td>\n",
              "    </tr>\n",
              "    <tr>\n",
              "      <th>4</th>\n",
              "      <td>0</td>\n",
              "      <td>@nationwideclass no, it's not behaving at all....</td>\n",
              "      <td>no, it's not behaving at all. i'm mad. why am ...</td>\n",
              "      <td>no, it's not behaving at all. i'm mad. why am ...</td>\n",
              "    </tr>\n",
              "  </tbody>\n",
              "</table>\n",
              "</div>"
            ],
            "text/plain": [
              "   Polarity  ...                                        Tweet_emoji\n",
              "0         0  ...  - awww, that's a bummer. you shoulda got david...\n",
              "1         0  ...  is upset that he can't update his facebook by ...\n",
              "2         0  ...  i dived many times for the ball. managed to sa...\n",
              "3         0  ...     my whole body feels itchy and like its on fire\n",
              "4         0  ...  no, it's not behaving at all. i'm mad. why am ...\n",
              "\n",
              "[5 rows x 4 columns]"
            ]
          },
          "metadata": {},
          "execution_count": 245
        }
      ]
    },
    {
      "cell_type": "code",
      "metadata": {
        "colab": {
          "base_uri": "https://localhost:8080/"
        },
        "id": "uQmC6MnKSU4z",
        "outputId": "b49951b7-bf7d-4efb-acd6-cd5033f6abc8"
      },
      "source": [
        "df['Tweet_emoji'] = df['Tweet_regex'].apply(emo_repl)\n",
        "df.head()"
      ],
      "execution_count": 247,
      "outputs": [
        {
          "output_type": "stream",
          "name": "stdout",
          "text": [
            "   Polarity  ...                                        Tweet_emoji\n",
            "0         0  ...  - awww, that's a bummer. you shoulda got david...\n",
            "1         0  ...  is upset that he can't update his facebook by ...\n",
            "2         0  ...  i dived many times for the ball. managed to sa...\n",
            "3         0  ...     my whole body feels itchy and like its on fire\n",
            "4         0  ...  no, it's not behaving at all. i'm mad. why am ...\n",
            "\n",
            "[5 rows x 4 columns]\n"
          ]
        },
        {
          "output_type": "stream",
          "name": "stderr",
          "text": [
            "/usr/local/lib/python3.7/dist-packages/ipykernel_launcher.py:1: SettingWithCopyWarning: \n",
            "A value is trying to be set on a copy of a slice from a DataFrame.\n",
            "Try using .loc[row_indexer,col_indexer] = value instead\n",
            "\n",
            "See the caveats in the documentation: https://pandas.pydata.org/pandas-docs/stable/user_guide/indexing.html#returning-a-view-versus-a-copy\n",
            "  \"\"\"Entry point for launching an IPython kernel.\n"
          ]
        }
      ]
    },
    {
      "cell_type": "code",
      "metadata": {
        "colab": {
          "base_uri": "https://localhost:8080/"
        },
        "id": "Gm3kWdMAS7NF",
        "outputId": "e24536ea-98cc-4588-98d9-8d9100d4694d"
      },
      "source": [
        "df['Tweet_nopunc'] = df['Tweet_emoji'].apply(remove_punc)\n",
        "df.head()"
      ],
      "execution_count": 248,
      "outputs": [
        {
          "output_type": "stream",
          "name": "stdout",
          "text": [
            "   Polarity  ...                                       Tweet_nopunc\n",
            "0         0  ...   awww that's a bummer you shoulda got david ca...\n",
            "1         0  ...  is upset that he can't update his facebook by ...\n",
            "2         0  ...  i dived many times for the ball managed to sav...\n",
            "3         0  ...     my whole body feels itchy and like its on fire\n",
            "4         0  ...  no it's not behaving at all i'm mad why am i h...\n",
            "\n",
            "[5 rows x 5 columns]\n"
          ]
        },
        {
          "output_type": "stream",
          "name": "stderr",
          "text": [
            "/usr/local/lib/python3.7/dist-packages/ipykernel_launcher.py:1: SettingWithCopyWarning: \n",
            "A value is trying to be set on a copy of a slice from a DataFrame.\n",
            "Try using .loc[row_indexer,col_indexer] = value instead\n",
            "\n",
            "See the caveats in the documentation: https://pandas.pydata.org/pandas-docs/stable/user_guide/indexing.html#returning-a-view-versus-a-copy\n",
            "  \"\"\"Entry point for launching an IPython kernel.\n"
          ]
        }
      ]
    },
    {
      "cell_type": "code",
      "metadata": {
        "colab": {
          "base_uri": "https://localhost:8080/",
          "height": 428
        },
        "id": "g8qHipQmJTN-",
        "outputId": "a358c50f-f3a3-486f-f2f7-5cdb4821be77"
      },
      "source": [
        "df['Tweet_clitics'] = df['Tweet_nopunc'].apply(handle_clitics)\n",
        "df.head()"
      ],
      "execution_count": 249,
      "outputs": [
        {
          "output_type": "stream",
          "name": "stderr",
          "text": [
            "/usr/local/lib/python3.7/dist-packages/ipykernel_launcher.py:1: SettingWithCopyWarning: \n",
            "A value is trying to be set on a copy of a slice from a DataFrame.\n",
            "Try using .loc[row_indexer,col_indexer] = value instead\n",
            "\n",
            "See the caveats in the documentation: https://pandas.pydata.org/pandas-docs/stable/user_guide/indexing.html#returning-a-view-versus-a-copy\n",
            "  \"\"\"Entry point for launching an IPython kernel.\n"
          ]
        },
        {
          "output_type": "execute_result",
          "data": {
            "text/html": [
              "<div>\n",
              "<style scoped>\n",
              "    .dataframe tbody tr th:only-of-type {\n",
              "        vertical-align: middle;\n",
              "    }\n",
              "\n",
              "    .dataframe tbody tr th {\n",
              "        vertical-align: top;\n",
              "    }\n",
              "\n",
              "    .dataframe thead th {\n",
              "        text-align: right;\n",
              "    }\n",
              "</style>\n",
              "<table border=\"1\" class=\"dataframe\">\n",
              "  <thead>\n",
              "    <tr style=\"text-align: right;\">\n",
              "      <th></th>\n",
              "      <th>Polarity</th>\n",
              "      <th>Tweet</th>\n",
              "      <th>Tweet_regex</th>\n",
              "      <th>Tweet_emoji</th>\n",
              "      <th>Tweet_nopunc</th>\n",
              "      <th>Tweet_clitics</th>\n",
              "    </tr>\n",
              "  </thead>\n",
              "  <tbody>\n",
              "    <tr>\n",
              "      <th>0</th>\n",
              "      <td>0</td>\n",
              "      <td>@switchfoot http://twitpic.com/2y1zl - Awww, t...</td>\n",
              "      <td>- awww, that's a bummer. you shoulda got david...</td>\n",
              "      <td>- awww, that's a bummer. you shoulda got david...</td>\n",
              "      <td>awww that's a bummer you shoulda got david ca...</td>\n",
              "      <td>awww that is a bummer you shoulda got david c...</td>\n",
              "    </tr>\n",
              "    <tr>\n",
              "      <th>1</th>\n",
              "      <td>0</td>\n",
              "      <td>is upset that he can't update his Facebook by ...</td>\n",
              "      <td>is upset that he can't update his facebook by ...</td>\n",
              "      <td>is upset that he can't update his facebook by ...</td>\n",
              "      <td>is upset that he can't update his facebook by ...</td>\n",
              "      <td>is upset that he can not update his facebook b...</td>\n",
              "    </tr>\n",
              "    <tr>\n",
              "      <th>2</th>\n",
              "      <td>0</td>\n",
              "      <td>@Kenichan I dived many times for the ball. Man...</td>\n",
              "      <td>i dived many times for the ball. managed to sa...</td>\n",
              "      <td>i dived many times for the ball. managed to sa...</td>\n",
              "      <td>i dived many times for the ball managed to sav...</td>\n",
              "      <td>i dived many times for the ball managed to sav...</td>\n",
              "    </tr>\n",
              "    <tr>\n",
              "      <th>3</th>\n",
              "      <td>0</td>\n",
              "      <td>my whole body feels itchy and like its on fire</td>\n",
              "      <td>my whole body feels itchy and like its on fire</td>\n",
              "      <td>my whole body feels itchy and like its on fire</td>\n",
              "      <td>my whole body feels itchy and like its on fire</td>\n",
              "      <td>my whole body feels itchy and like its on fire</td>\n",
              "    </tr>\n",
              "    <tr>\n",
              "      <th>4</th>\n",
              "      <td>0</td>\n",
              "      <td>@nationwideclass no, it's not behaving at all....</td>\n",
              "      <td>no, it's not behaving at all. i'm mad. why am ...</td>\n",
              "      <td>no, it's not behaving at all. i'm mad. why am ...</td>\n",
              "      <td>no it's not behaving at all i'm mad why am i h...</td>\n",
              "      <td>no it is not behaving at all i am mad why am i...</td>\n",
              "    </tr>\n",
              "  </tbody>\n",
              "</table>\n",
              "</div>"
            ],
            "text/plain": [
              "   Polarity  ...                                      Tweet_clitics\n",
              "0         0  ...   awww that is a bummer you shoulda got david c...\n",
              "1         0  ...  is upset that he can not update his facebook b...\n",
              "2         0  ...  i dived many times for the ball managed to sav...\n",
              "3         0  ...     my whole body feels itchy and like its on fire\n",
              "4         0  ...  no it is not behaving at all i am mad why am i...\n",
              "\n",
              "[5 rows x 6 columns]"
            ]
          },
          "metadata": {},
          "execution_count": 249
        }
      ]
    },
    {
      "cell_type": "code",
      "metadata": {
        "id": "gz_VX3C8n3mJ",
        "colab": {
          "base_uri": "https://localhost:8080/",
          "height": 496
        },
        "outputId": "2c940341-80a1-4069-ac06-ab2e05017085"
      },
      "source": [
        "df['Tweet_shortforms'] = df['Tweet_clitics'].apply(handle_shortforms)\n",
        "df.head()"
      ],
      "execution_count": 250,
      "outputs": [
        {
          "output_type": "stream",
          "name": "stderr",
          "text": [
            "/usr/local/lib/python3.7/dist-packages/ipykernel_launcher.py:1: SettingWithCopyWarning: \n",
            "A value is trying to be set on a copy of a slice from a DataFrame.\n",
            "Try using .loc[row_indexer,col_indexer] = value instead\n",
            "\n",
            "See the caveats in the documentation: https://pandas.pydata.org/pandas-docs/stable/user_guide/indexing.html#returning-a-view-versus-a-copy\n",
            "  \"\"\"Entry point for launching an IPython kernel.\n"
          ]
        },
        {
          "output_type": "execute_result",
          "data": {
            "text/html": [
              "<div>\n",
              "<style scoped>\n",
              "    .dataframe tbody tr th:only-of-type {\n",
              "        vertical-align: middle;\n",
              "    }\n",
              "\n",
              "    .dataframe tbody tr th {\n",
              "        vertical-align: top;\n",
              "    }\n",
              "\n",
              "    .dataframe thead th {\n",
              "        text-align: right;\n",
              "    }\n",
              "</style>\n",
              "<table border=\"1\" class=\"dataframe\">\n",
              "  <thead>\n",
              "    <tr style=\"text-align: right;\">\n",
              "      <th></th>\n",
              "      <th>Polarity</th>\n",
              "      <th>Tweet</th>\n",
              "      <th>Tweet_regex</th>\n",
              "      <th>Tweet_emoji</th>\n",
              "      <th>Tweet_nopunc</th>\n",
              "      <th>Tweet_clitics</th>\n",
              "      <th>Tweet_shortforms</th>\n",
              "    </tr>\n",
              "  </thead>\n",
              "  <tbody>\n",
              "    <tr>\n",
              "      <th>0</th>\n",
              "      <td>0</td>\n",
              "      <td>@switchfoot http://twitpic.com/2y1zl - Awww, t...</td>\n",
              "      <td>- awww, that's a bummer. you shoulda got david...</td>\n",
              "      <td>- awww, that's a bummer. you shoulda got david...</td>\n",
              "      <td>awww that's a bummer you shoulda got david ca...</td>\n",
              "      <td>awww that is a bummer you shoulda got david c...</td>\n",
              "      <td>awww that is a bummer you should have got davi...</td>\n",
              "    </tr>\n",
              "    <tr>\n",
              "      <th>1</th>\n",
              "      <td>0</td>\n",
              "      <td>is upset that he can't update his Facebook by ...</td>\n",
              "      <td>is upset that he can't update his facebook by ...</td>\n",
              "      <td>is upset that he can't update his facebook by ...</td>\n",
              "      <td>is upset that he can't update his facebook by ...</td>\n",
              "      <td>is upset that he can not update his facebook b...</td>\n",
              "      <td>is upset that he can not update his facebook b...</td>\n",
              "    </tr>\n",
              "    <tr>\n",
              "      <th>2</th>\n",
              "      <td>0</td>\n",
              "      <td>@Kenichan I dived many times for the ball. Man...</td>\n",
              "      <td>i dived many times for the ball. managed to sa...</td>\n",
              "      <td>i dived many times for the ball. managed to sa...</td>\n",
              "      <td>i dived many times for the ball managed to sav...</td>\n",
              "      <td>i dived many times for the ball managed to sav...</td>\n",
              "      <td>i dived many times for the ball managed to sav...</td>\n",
              "    </tr>\n",
              "    <tr>\n",
              "      <th>3</th>\n",
              "      <td>0</td>\n",
              "      <td>my whole body feels itchy and like its on fire</td>\n",
              "      <td>my whole body feels itchy and like its on fire</td>\n",
              "      <td>my whole body feels itchy and like its on fire</td>\n",
              "      <td>my whole body feels itchy and like its on fire</td>\n",
              "      <td>my whole body feels itchy and like its on fire</td>\n",
              "      <td>my whole body feels itchy and like its on fire</td>\n",
              "    </tr>\n",
              "    <tr>\n",
              "      <th>4</th>\n",
              "      <td>0</td>\n",
              "      <td>@nationwideclass no, it's not behaving at all....</td>\n",
              "      <td>no, it's not behaving at all. i'm mad. why am ...</td>\n",
              "      <td>no, it's not behaving at all. i'm mad. why am ...</td>\n",
              "      <td>no it's not behaving at all i'm mad why am i h...</td>\n",
              "      <td>no it is not behaving at all i am mad why am i...</td>\n",
              "      <td>not it is not behaving at all i am mad why am ...</td>\n",
              "    </tr>\n",
              "  </tbody>\n",
              "</table>\n",
              "</div>"
            ],
            "text/plain": [
              "   Polarity  ...                                   Tweet_shortforms\n",
              "0         0  ...  awww that is a bummer you should have got davi...\n",
              "1         0  ...  is upset that he can not update his facebook b...\n",
              "2         0  ...  i dived many times for the ball managed to sav...\n",
              "3         0  ...     my whole body feels itchy and like its on fire\n",
              "4         0  ...  not it is not behaving at all i am mad why am ...\n",
              "\n",
              "[5 rows x 7 columns]"
            ]
          },
          "metadata": {},
          "execution_count": 250
        }
      ]
    },
    {
      "cell_type": "code",
      "metadata": {
        "colab": {
          "base_uri": "https://localhost:8080/",
          "height": 581
        },
        "id": "80twWXsWTYSc",
        "outputId": "4d82741a-4407-4413-e18d-ef07df0753ce"
      },
      "source": [
        "df['Tweet_pure_string'] = df['Tweet_shortforms'].apply(maintain_letters)\n",
        "df.head()"
      ],
      "execution_count": 258,
      "outputs": [
        {
          "output_type": "stream",
          "name": "stderr",
          "text": [
            "/usr/local/lib/python3.7/dist-packages/ipykernel_launcher.py:1: SettingWithCopyWarning: \n",
            "A value is trying to be set on a copy of a slice from a DataFrame.\n",
            "Try using .loc[row_indexer,col_indexer] = value instead\n",
            "\n",
            "See the caveats in the documentation: https://pandas.pydata.org/pandas-docs/stable/user_guide/indexing.html#returning-a-view-versus-a-copy\n",
            "  \"\"\"Entry point for launching an IPython kernel.\n"
          ]
        },
        {
          "output_type": "execute_result",
          "data": {
            "text/html": [
              "<div>\n",
              "<style scoped>\n",
              "    .dataframe tbody tr th:only-of-type {\n",
              "        vertical-align: middle;\n",
              "    }\n",
              "\n",
              "    .dataframe tbody tr th {\n",
              "        vertical-align: top;\n",
              "    }\n",
              "\n",
              "    .dataframe thead th {\n",
              "        text-align: right;\n",
              "    }\n",
              "</style>\n",
              "<table border=\"1\" class=\"dataframe\">\n",
              "  <thead>\n",
              "    <tr style=\"text-align: right;\">\n",
              "      <th></th>\n",
              "      <th>Polarity</th>\n",
              "      <th>Tweet</th>\n",
              "      <th>Tweet_regex</th>\n",
              "      <th>Tweet_emoji</th>\n",
              "      <th>Tweet_nopunc</th>\n",
              "      <th>Tweet_clitics</th>\n",
              "      <th>Tweet_shortforms</th>\n",
              "      <th>Tweet_token</th>\n",
              "      <th>Tweet_stopword</th>\n",
              "      <th>Tweet_pure_string</th>\n",
              "    </tr>\n",
              "  </thead>\n",
              "  <tbody>\n",
              "    <tr>\n",
              "      <th>0</th>\n",
              "      <td>0</td>\n",
              "      <td>@switchfoot http://twitpic.com/2y1zl - Awww, t...</td>\n",
              "      <td>- awww, that's a bummer. you shoulda got david...</td>\n",
              "      <td>- awww, that's a bummer. you shoulda got david...</td>\n",
              "      <td>awww that's a bummer you shoulda got david ca...</td>\n",
              "      <td>awww that is a bummer you shoulda got david c...</td>\n",
              "      <td>awww that is a bummer you should have got davi...</td>\n",
              "      <td>[awww, that, is, a, bummer, you, should, have,...</td>\n",
              "      <td>[awww, bummer, got, david, carr, third, day, l...</td>\n",
              "      <td>awww that is a bummer you should have got davi...</td>\n",
              "    </tr>\n",
              "    <tr>\n",
              "      <th>1</th>\n",
              "      <td>0</td>\n",
              "      <td>is upset that he can't update his Facebook by ...</td>\n",
              "      <td>is upset that he can't update his facebook by ...</td>\n",
              "      <td>is upset that he can't update his facebook by ...</td>\n",
              "      <td>is upset that he can't update his facebook by ...</td>\n",
              "      <td>is upset that he can not update his facebook b...</td>\n",
              "      <td>is upset that he can not update his facebook b...</td>\n",
              "      <td>[is, upset, that, he, can, not, update, his, f...</td>\n",
              "      <td>[upset, update, facebook, texting, might, cry,...</td>\n",
              "      <td>is upset that he can not update his facebook b...</td>\n",
              "    </tr>\n",
              "    <tr>\n",
              "      <th>2</th>\n",
              "      <td>0</td>\n",
              "      <td>@Kenichan I dived many times for the ball. Man...</td>\n",
              "      <td>i dived many times for the ball. managed to sa...</td>\n",
              "      <td>i dived many times for the ball. managed to sa...</td>\n",
              "      <td>i dived many times for the ball managed to sav...</td>\n",
              "      <td>i dived many times for the ball managed to sav...</td>\n",
              "      <td>i dived many times for the ball managed to sav...</td>\n",
              "      <td>[i, dived, many, times, for, the, ball, manage...</td>\n",
              "      <td>[dived, many, times, ball, managed, save, rest...</td>\n",
              "      <td>i dived many times for the ball managed to sav...</td>\n",
              "    </tr>\n",
              "    <tr>\n",
              "      <th>3</th>\n",
              "      <td>0</td>\n",
              "      <td>my whole body feels itchy and like its on fire</td>\n",
              "      <td>my whole body feels itchy and like its on fire</td>\n",
              "      <td>my whole body feels itchy and like its on fire</td>\n",
              "      <td>my whole body feels itchy and like its on fire</td>\n",
              "      <td>my whole body feels itchy and like its on fire</td>\n",
              "      <td>my whole body feels itchy and like its on fire</td>\n",
              "      <td>[my, whole, body, feels, itchy, and, like, its...</td>\n",
              "      <td>[whole, body, feels, itchy, like, fire]</td>\n",
              "      <td>my whole body feels itchy and like its on fire</td>\n",
              "    </tr>\n",
              "    <tr>\n",
              "      <th>4</th>\n",
              "      <td>0</td>\n",
              "      <td>@nationwideclass no, it's not behaving at all....</td>\n",
              "      <td>no, it's not behaving at all. i'm mad. why am ...</td>\n",
              "      <td>no, it's not behaving at all. i'm mad. why am ...</td>\n",
              "      <td>no it's not behaving at all i'm mad why am i h...</td>\n",
              "      <td>no it is not behaving at all i am mad why am i...</td>\n",
              "      <td>not it is not behaving at all i am mad why am ...</td>\n",
              "      <td>[not, it, is, not, behaving, at, all, i, am, m...</td>\n",
              "      <td>[behaving, mad, see]</td>\n",
              "      <td>not it is not behaving at all i am mad why am ...</td>\n",
              "    </tr>\n",
              "  </tbody>\n",
              "</table>\n",
              "</div>"
            ],
            "text/plain": [
              "   Polarity  ...                                  Tweet_pure_string\n",
              "0         0  ...  awww that is a bummer you should have got davi...\n",
              "1         0  ...  is upset that he can not update his facebook b...\n",
              "2         0  ...  i dived many times for the ball managed to sav...\n",
              "3         0  ...     my whole body feels itchy and like its on fire\n",
              "4         0  ...  not it is not behaving at all i am mad why am ...\n",
              "\n",
              "[5 rows x 10 columns]"
            ]
          },
          "metadata": {},
          "execution_count": 258
        }
      ]
    },
    {
      "cell_type": "code",
      "metadata": {
        "colab": {
          "base_uri": "https://localhost:8080/",
          "height": 581
        },
        "id": "jIce-XrfJzM3",
        "outputId": "1a428324-d373-4e42-ce27-0903b180bc4d"
      },
      "source": [
        "df['Tweet_token'] = df['Tweet_pure_string'].apply(tweet_word_tokenizer)\n",
        "df.head()"
      ],
      "execution_count": 259,
      "outputs": [
        {
          "output_type": "stream",
          "name": "stderr",
          "text": [
            "/usr/local/lib/python3.7/dist-packages/ipykernel_launcher.py:1: SettingWithCopyWarning: \n",
            "A value is trying to be set on a copy of a slice from a DataFrame.\n",
            "Try using .loc[row_indexer,col_indexer] = value instead\n",
            "\n",
            "See the caveats in the documentation: https://pandas.pydata.org/pandas-docs/stable/user_guide/indexing.html#returning-a-view-versus-a-copy\n",
            "  \"\"\"Entry point for launching an IPython kernel.\n"
          ]
        },
        {
          "output_type": "execute_result",
          "data": {
            "text/html": [
              "<div>\n",
              "<style scoped>\n",
              "    .dataframe tbody tr th:only-of-type {\n",
              "        vertical-align: middle;\n",
              "    }\n",
              "\n",
              "    .dataframe tbody tr th {\n",
              "        vertical-align: top;\n",
              "    }\n",
              "\n",
              "    .dataframe thead th {\n",
              "        text-align: right;\n",
              "    }\n",
              "</style>\n",
              "<table border=\"1\" class=\"dataframe\">\n",
              "  <thead>\n",
              "    <tr style=\"text-align: right;\">\n",
              "      <th></th>\n",
              "      <th>Polarity</th>\n",
              "      <th>Tweet</th>\n",
              "      <th>Tweet_regex</th>\n",
              "      <th>Tweet_emoji</th>\n",
              "      <th>Tweet_nopunc</th>\n",
              "      <th>Tweet_clitics</th>\n",
              "      <th>Tweet_shortforms</th>\n",
              "      <th>Tweet_token</th>\n",
              "      <th>Tweet_stopword</th>\n",
              "      <th>Tweet_pure_string</th>\n",
              "    </tr>\n",
              "  </thead>\n",
              "  <tbody>\n",
              "    <tr>\n",
              "      <th>0</th>\n",
              "      <td>0</td>\n",
              "      <td>@switchfoot http://twitpic.com/2y1zl - Awww, t...</td>\n",
              "      <td>- awww, that's a bummer. you shoulda got david...</td>\n",
              "      <td>- awww, that's a bummer. you shoulda got david...</td>\n",
              "      <td>awww that's a bummer you shoulda got david ca...</td>\n",
              "      <td>awww that is a bummer you shoulda got david c...</td>\n",
              "      <td>awww that is a bummer you should have got davi...</td>\n",
              "      <td>[awww, that, is, a, bummer, you, should, have,...</td>\n",
              "      <td>[awww, bummer, got, david, carr, third, day, l...</td>\n",
              "      <td>awww that is a bummer you should have got davi...</td>\n",
              "    </tr>\n",
              "    <tr>\n",
              "      <th>1</th>\n",
              "      <td>0</td>\n",
              "      <td>is upset that he can't update his Facebook by ...</td>\n",
              "      <td>is upset that he can't update his facebook by ...</td>\n",
              "      <td>is upset that he can't update his facebook by ...</td>\n",
              "      <td>is upset that he can't update his facebook by ...</td>\n",
              "      <td>is upset that he can not update his facebook b...</td>\n",
              "      <td>is upset that he can not update his facebook b...</td>\n",
              "      <td>[is, upset, that, he, can, not, update, his, f...</td>\n",
              "      <td>[upset, update, facebook, texting, might, cry,...</td>\n",
              "      <td>is upset that he can not update his facebook b...</td>\n",
              "    </tr>\n",
              "    <tr>\n",
              "      <th>2</th>\n",
              "      <td>0</td>\n",
              "      <td>@Kenichan I dived many times for the ball. Man...</td>\n",
              "      <td>i dived many times for the ball. managed to sa...</td>\n",
              "      <td>i dived many times for the ball. managed to sa...</td>\n",
              "      <td>i dived many times for the ball managed to sav...</td>\n",
              "      <td>i dived many times for the ball managed to sav...</td>\n",
              "      <td>i dived many times for the ball managed to sav...</td>\n",
              "      <td>[i, dived, many, times, for, the, ball, manage...</td>\n",
              "      <td>[dived, many, times, ball, managed, save, rest...</td>\n",
              "      <td>i dived many times for the ball managed to sav...</td>\n",
              "    </tr>\n",
              "    <tr>\n",
              "      <th>3</th>\n",
              "      <td>0</td>\n",
              "      <td>my whole body feels itchy and like its on fire</td>\n",
              "      <td>my whole body feels itchy and like its on fire</td>\n",
              "      <td>my whole body feels itchy and like its on fire</td>\n",
              "      <td>my whole body feels itchy and like its on fire</td>\n",
              "      <td>my whole body feels itchy and like its on fire</td>\n",
              "      <td>my whole body feels itchy and like its on fire</td>\n",
              "      <td>[my, whole, body, feels, itchy, and, like, its...</td>\n",
              "      <td>[whole, body, feels, itchy, like, fire]</td>\n",
              "      <td>my whole body feels itchy and like its on fire</td>\n",
              "    </tr>\n",
              "    <tr>\n",
              "      <th>4</th>\n",
              "      <td>0</td>\n",
              "      <td>@nationwideclass no, it's not behaving at all....</td>\n",
              "      <td>no, it's not behaving at all. i'm mad. why am ...</td>\n",
              "      <td>no, it's not behaving at all. i'm mad. why am ...</td>\n",
              "      <td>no it's not behaving at all i'm mad why am i h...</td>\n",
              "      <td>no it is not behaving at all i am mad why am i...</td>\n",
              "      <td>not it is not behaving at all i am mad why am ...</td>\n",
              "      <td>[not, it, is, not, behaving, at, all, i, am, m...</td>\n",
              "      <td>[behaving, mad, see]</td>\n",
              "      <td>not it is not behaving at all i am mad why am ...</td>\n",
              "    </tr>\n",
              "  </tbody>\n",
              "</table>\n",
              "</div>"
            ],
            "text/plain": [
              "   Polarity  ...                                  Tweet_pure_string\n",
              "0         0  ...  awww that is a bummer you should have got davi...\n",
              "1         0  ...  is upset that he can not update his facebook b...\n",
              "2         0  ...  i dived many times for the ball managed to sav...\n",
              "3         0  ...     my whole body feels itchy and like its on fire\n",
              "4         0  ...  not it is not behaving at all i am mad why am ...\n",
              "\n",
              "[5 rows x 10 columns]"
            ]
          },
          "metadata": {},
          "execution_count": 259
        }
      ]
    },
    {
      "cell_type": "code",
      "metadata": {
        "id": "cGoJsAybn3mJ",
        "colab": {
          "base_uri": "https://localhost:8080/",
          "height": 581
        },
        "outputId": "24023725-86bb-4ae6-a642-84ad5ac1053f"
      },
      "source": [
        "df['Tweet_stopword'] = df['Tweet_token'].apply(stopword_removal)\n",
        "df.head()"
      ],
      "execution_count": 260,
      "outputs": [
        {
          "output_type": "stream",
          "name": "stderr",
          "text": [
            "/usr/local/lib/python3.7/dist-packages/ipykernel_launcher.py:1: SettingWithCopyWarning: \n",
            "A value is trying to be set on a copy of a slice from a DataFrame.\n",
            "Try using .loc[row_indexer,col_indexer] = value instead\n",
            "\n",
            "See the caveats in the documentation: https://pandas.pydata.org/pandas-docs/stable/user_guide/indexing.html#returning-a-view-versus-a-copy\n",
            "  \"\"\"Entry point for launching an IPython kernel.\n"
          ]
        },
        {
          "output_type": "execute_result",
          "data": {
            "text/html": [
              "<div>\n",
              "<style scoped>\n",
              "    .dataframe tbody tr th:only-of-type {\n",
              "        vertical-align: middle;\n",
              "    }\n",
              "\n",
              "    .dataframe tbody tr th {\n",
              "        vertical-align: top;\n",
              "    }\n",
              "\n",
              "    .dataframe thead th {\n",
              "        text-align: right;\n",
              "    }\n",
              "</style>\n",
              "<table border=\"1\" class=\"dataframe\">\n",
              "  <thead>\n",
              "    <tr style=\"text-align: right;\">\n",
              "      <th></th>\n",
              "      <th>Polarity</th>\n",
              "      <th>Tweet</th>\n",
              "      <th>Tweet_regex</th>\n",
              "      <th>Tweet_emoji</th>\n",
              "      <th>Tweet_nopunc</th>\n",
              "      <th>Tweet_clitics</th>\n",
              "      <th>Tweet_shortforms</th>\n",
              "      <th>Tweet_token</th>\n",
              "      <th>Tweet_stopword</th>\n",
              "      <th>Tweet_pure_string</th>\n",
              "    </tr>\n",
              "  </thead>\n",
              "  <tbody>\n",
              "    <tr>\n",
              "      <th>0</th>\n",
              "      <td>0</td>\n",
              "      <td>@switchfoot http://twitpic.com/2y1zl - Awww, t...</td>\n",
              "      <td>- awww, that's a bummer. you shoulda got david...</td>\n",
              "      <td>- awww, that's a bummer. you shoulda got david...</td>\n",
              "      <td>awww that's a bummer you shoulda got david ca...</td>\n",
              "      <td>awww that is a bummer you shoulda got david c...</td>\n",
              "      <td>awww that is a bummer you should have got davi...</td>\n",
              "      <td>[awww, that, is, a, bummer, you, should, have,...</td>\n",
              "      <td>[awww, bummer, got, david, carr, third, day, l...</td>\n",
              "      <td>awww that is a bummer you should have got davi...</td>\n",
              "    </tr>\n",
              "    <tr>\n",
              "      <th>1</th>\n",
              "      <td>0</td>\n",
              "      <td>is upset that he can't update his Facebook by ...</td>\n",
              "      <td>is upset that he can't update his facebook by ...</td>\n",
              "      <td>is upset that he can't update his facebook by ...</td>\n",
              "      <td>is upset that he can't update his facebook by ...</td>\n",
              "      <td>is upset that he can not update his facebook b...</td>\n",
              "      <td>is upset that he can not update his facebook b...</td>\n",
              "      <td>[is, upset, that, he, can, not, update, his, f...</td>\n",
              "      <td>[upset, update, facebook, texting, might, cry,...</td>\n",
              "      <td>is upset that he can not update his facebook b...</td>\n",
              "    </tr>\n",
              "    <tr>\n",
              "      <th>2</th>\n",
              "      <td>0</td>\n",
              "      <td>@Kenichan I dived many times for the ball. Man...</td>\n",
              "      <td>i dived many times for the ball. managed to sa...</td>\n",
              "      <td>i dived many times for the ball. managed to sa...</td>\n",
              "      <td>i dived many times for the ball managed to sav...</td>\n",
              "      <td>i dived many times for the ball managed to sav...</td>\n",
              "      <td>i dived many times for the ball managed to sav...</td>\n",
              "      <td>[i, dived, many, times, for, the, ball, manage...</td>\n",
              "      <td>[dived, many, times, ball, managed, save, rest...</td>\n",
              "      <td>i dived many times for the ball managed to sav...</td>\n",
              "    </tr>\n",
              "    <tr>\n",
              "      <th>3</th>\n",
              "      <td>0</td>\n",
              "      <td>my whole body feels itchy and like its on fire</td>\n",
              "      <td>my whole body feels itchy and like its on fire</td>\n",
              "      <td>my whole body feels itchy and like its on fire</td>\n",
              "      <td>my whole body feels itchy and like its on fire</td>\n",
              "      <td>my whole body feels itchy and like its on fire</td>\n",
              "      <td>my whole body feels itchy and like its on fire</td>\n",
              "      <td>[my, whole, body, feels, itchy, and, like, its...</td>\n",
              "      <td>[whole, body, feels, itchy, like, fire]</td>\n",
              "      <td>my whole body feels itchy and like its on fire</td>\n",
              "    </tr>\n",
              "    <tr>\n",
              "      <th>4</th>\n",
              "      <td>0</td>\n",
              "      <td>@nationwideclass no, it's not behaving at all....</td>\n",
              "      <td>no, it's not behaving at all. i'm mad. why am ...</td>\n",
              "      <td>no, it's not behaving at all. i'm mad. why am ...</td>\n",
              "      <td>no it's not behaving at all i'm mad why am i h...</td>\n",
              "      <td>no it is not behaving at all i am mad why am i...</td>\n",
              "      <td>not it is not behaving at all i am mad why am ...</td>\n",
              "      <td>[not, it, is, not, behaving, at, all, i, am, m...</td>\n",
              "      <td>[behaving, mad, see]</td>\n",
              "      <td>not it is not behaving at all i am mad why am ...</td>\n",
              "    </tr>\n",
              "  </tbody>\n",
              "</table>\n",
              "</div>"
            ],
            "text/plain": [
              "   Polarity  ...                                  Tweet_pure_string\n",
              "0         0  ...  awww that is a bummer you should have got davi...\n",
              "1         0  ...  is upset that he can not update his facebook b...\n",
              "2         0  ...  i dived many times for the ball managed to sav...\n",
              "3         0  ...     my whole body feels itchy and like its on fire\n",
              "4         0  ...  not it is not behaving at all i am mad why am ...\n",
              "\n",
              "[5 rows x 10 columns]"
            ]
          },
          "metadata": {},
          "execution_count": 260
        }
      ]
    },
    {
      "cell_type": "code",
      "metadata": {
        "id": "gcQQo5RwTO2V"
      },
      "source": [
        ""
      ],
      "execution_count": 260,
      "outputs": []
    },
    {
      "cell_type": "code",
      "metadata": {
        "colab": {
          "base_uri": "https://localhost:8080/"
        },
        "id": "8-Xq_IT1Mka3",
        "outputId": "f460507d-df94-4958-b95b-0ca2955c3e4f"
      },
      "source": [
        "most = 0\n",
        "for lis in df['Tweet_stopword']:\n",
        "  most = max(most, len(lis))\n",
        "most"
      ],
      "execution_count": 261,
      "outputs": [
        {
          "output_type": "execute_result",
          "data": {
            "text/plain": [
              "28"
            ]
          },
          "metadata": {},
          "execution_count": 261
        }
      ]
    },
    {
      "cell_type": "code",
      "metadata": {
        "id": "cn8KcPyQn3mK"
      },
      "source": [
        "## Was absolutely useless to use\n",
        "# def stemmer(tweet):\n",
        "#     porter_stemmer = PorterStemmer()\n",
        "#     tweet = [porter_stemmer.stem(word) for word in tweet]\n",
        "#     return tweet"
      ],
      "execution_count": 132,
      "outputs": []
    },
    {
      "cell_type": "code",
      "metadata": {
        "id": "nqp-VCQin3mK"
      },
      "source": [
        "# stemmer(['I','am','playing','making', 'what','I','do'])"
      ],
      "execution_count": 133,
      "outputs": []
    },
    {
      "cell_type": "code",
      "metadata": {
        "id": "FOOQ4c5Mn3mK"
      },
      "source": [
        "# df['Tweet_stem'] = df['Tweet_shortforms'].apply(stemmer)\n",
        "# df.head()"
      ],
      "execution_count": 134,
      "outputs": []
    },
    {
      "cell_type": "code",
      "metadata": {
        "id": "zQpOgGAxn3mL"
      },
      "source": [
        "\n"
      ],
      "execution_count": 134,
      "outputs": []
    },
    {
      "cell_type": "code",
      "metadata": {
        "id": "Y_eo4YzXn3mL"
      },
      "source": [
        "def pos_tagger(nltk_tag):\n",
        "    if nltk_tag.startswith('J'):\n",
        "        return wordnet.ADJ\n",
        "    elif nltk_tag.startswith('V'):\n",
        "        return wordnet.VERB\n",
        "    elif nltk_tag.startswith('N'):\n",
        "        return wordnet.NOUN\n",
        "    elif nltk_tag.startswith('R'):\n",
        "        return wordnet.ADV\n",
        "    else:         \n",
        "        return None"
      ],
      "execution_count": 262,
      "outputs": []
    },
    {
      "cell_type": "code",
      "metadata": {
        "id": "zzpRmJQvn3mL"
      },
      "source": [
        "#### TO BE MODIFIED ######\n",
        "def pos_tagging(tweet):\n",
        "    # tweet = nltk.pos_tag(tweet) \n",
        "    tweet = nltk.pos_tag([i for i in tweet if i])\n",
        "    return tweet"
      ],
      "execution_count": 263,
      "outputs": []
    },
    {
      "cell_type": "code",
      "metadata": {
        "colab": {
          "base_uri": "https://localhost:8080/"
        },
        "id": "-DBiJMHxPOVd",
        "outputId": "10c50e55-87ac-4b44-cbb4-327b10b75d1b"
      },
      "source": [
        "pos_tagging(['','I','am','good'])"
      ],
      "execution_count": 264,
      "outputs": [
        {
          "output_type": "execute_result",
          "data": {
            "text/plain": [
              "[('I', 'PRP'), ('am', 'VBP'), ('good', 'JJ')]"
            ]
          },
          "metadata": {},
          "execution_count": 264
        }
      ]
    },
    {
      "cell_type": "code",
      "metadata": {
        "id": "-TPMJd4On3mL"
      },
      "source": [
        "### TO BE MODIFIED ################\n",
        "def tweet_lemmatizer(tweet):\n",
        "    lemmatizer = WordNetLemmatizer()\n",
        "    lemmatized = []\n",
        "    pos_wordnet = list(map(lambda x: (x[0], pos_tagger(x[1])), tweet))\n",
        "    for word, tag in pos_wordnet:\n",
        "        if tag is None:\n",
        "            lemmatized.append(word)\n",
        "        else:       \n",
        "            lemmatized.append(lemmatizer.lemmatize(word, tag))\n",
        "    lemmatized = ' '.join(lemmatized)\n",
        "    lemmatized_sent = ', '.join(lemmatized)\n",
        "    # print(list(lemmatized.split()))\n",
        "    return list(lemmatized.split())"
      ],
      "execution_count": 265,
      "outputs": []
    },
    {
      "cell_type": "code",
      "metadata": {
        "id": "6IYdhTT6n3mL"
      },
      "source": [
        ""
      ],
      "execution_count": 265,
      "outputs": []
    },
    {
      "cell_type": "code",
      "metadata": {
        "id": "eriBp7Gln3mM",
        "colab": {
          "base_uri": "https://localhost:8080/",
          "height": 683
        },
        "outputId": "188276ea-1e08-4dc6-97a4-ee899cca9061"
      },
      "source": [
        "df['Tweet_pos'] = df['Tweet_stopword'].apply(pos_tagging)\n",
        "df.head()"
      ],
      "execution_count": 266,
      "outputs": [
        {
          "output_type": "stream",
          "name": "stderr",
          "text": [
            "/usr/local/lib/python3.7/dist-packages/ipykernel_launcher.py:1: SettingWithCopyWarning: \n",
            "A value is trying to be set on a copy of a slice from a DataFrame.\n",
            "Try using .loc[row_indexer,col_indexer] = value instead\n",
            "\n",
            "See the caveats in the documentation: https://pandas.pydata.org/pandas-docs/stable/user_guide/indexing.html#returning-a-view-versus-a-copy\n",
            "  \"\"\"Entry point for launching an IPython kernel.\n"
          ]
        },
        {
          "output_type": "execute_result",
          "data": {
            "text/html": [
              "<div>\n",
              "<style scoped>\n",
              "    .dataframe tbody tr th:only-of-type {\n",
              "        vertical-align: middle;\n",
              "    }\n",
              "\n",
              "    .dataframe tbody tr th {\n",
              "        vertical-align: top;\n",
              "    }\n",
              "\n",
              "    .dataframe thead th {\n",
              "        text-align: right;\n",
              "    }\n",
              "</style>\n",
              "<table border=\"1\" class=\"dataframe\">\n",
              "  <thead>\n",
              "    <tr style=\"text-align: right;\">\n",
              "      <th></th>\n",
              "      <th>Polarity</th>\n",
              "      <th>Tweet</th>\n",
              "      <th>Tweet_regex</th>\n",
              "      <th>Tweet_emoji</th>\n",
              "      <th>Tweet_nopunc</th>\n",
              "      <th>Tweet_clitics</th>\n",
              "      <th>Tweet_shortforms</th>\n",
              "      <th>Tweet_token</th>\n",
              "      <th>Tweet_stopword</th>\n",
              "      <th>Tweet_pure_string</th>\n",
              "      <th>Tweet_pos</th>\n",
              "    </tr>\n",
              "  </thead>\n",
              "  <tbody>\n",
              "    <tr>\n",
              "      <th>0</th>\n",
              "      <td>0</td>\n",
              "      <td>@switchfoot http://twitpic.com/2y1zl - Awww, t...</td>\n",
              "      <td>- awww, that's a bummer. you shoulda got david...</td>\n",
              "      <td>- awww, that's a bummer. you shoulda got david...</td>\n",
              "      <td>awww that's a bummer you shoulda got david ca...</td>\n",
              "      <td>awww that is a bummer you shoulda got david c...</td>\n",
              "      <td>awww that is a bummer you should have got davi...</td>\n",
              "      <td>[awww, that, is, a, bummer, you, should, have,...</td>\n",
              "      <td>[awww, bummer, got, david, carr, third, day, l...</td>\n",
              "      <td>awww that is a bummer you should have got davi...</td>\n",
              "      <td>[(awww, JJ), (bummer, NN), (got, VBD), (david,...</td>\n",
              "    </tr>\n",
              "    <tr>\n",
              "      <th>1</th>\n",
              "      <td>0</td>\n",
              "      <td>is upset that he can't update his Facebook by ...</td>\n",
              "      <td>is upset that he can't update his facebook by ...</td>\n",
              "      <td>is upset that he can't update his facebook by ...</td>\n",
              "      <td>is upset that he can't update his facebook by ...</td>\n",
              "      <td>is upset that he can not update his facebook b...</td>\n",
              "      <td>is upset that he can not update his facebook b...</td>\n",
              "      <td>[is, upset, that, he, can, not, update, his, f...</td>\n",
              "      <td>[upset, update, facebook, texting, might, cry,...</td>\n",
              "      <td>is upset that he can not update his facebook b...</td>\n",
              "      <td>[(upset, JJ), (update, JJ), (facebook, NN), (t...</td>\n",
              "    </tr>\n",
              "    <tr>\n",
              "      <th>2</th>\n",
              "      <td>0</td>\n",
              "      <td>@Kenichan I dived many times for the ball. Man...</td>\n",
              "      <td>i dived many times for the ball. managed to sa...</td>\n",
              "      <td>i dived many times for the ball. managed to sa...</td>\n",
              "      <td>i dived many times for the ball managed to sav...</td>\n",
              "      <td>i dived many times for the ball managed to sav...</td>\n",
              "      <td>i dived many times for the ball managed to sav...</td>\n",
              "      <td>[i, dived, many, times, for, the, ball, manage...</td>\n",
              "      <td>[dived, many, times, ball, managed, save, rest...</td>\n",
              "      <td>i dived many times for the ball managed to sav...</td>\n",
              "      <td>[(dived, VBD), (many, JJ), (times, NNS), (ball...</td>\n",
              "    </tr>\n",
              "    <tr>\n",
              "      <th>3</th>\n",
              "      <td>0</td>\n",
              "      <td>my whole body feels itchy and like its on fire</td>\n",
              "      <td>my whole body feels itchy and like its on fire</td>\n",
              "      <td>my whole body feels itchy and like its on fire</td>\n",
              "      <td>my whole body feels itchy and like its on fire</td>\n",
              "      <td>my whole body feels itchy and like its on fire</td>\n",
              "      <td>my whole body feels itchy and like its on fire</td>\n",
              "      <td>[my, whole, body, feels, itchy, and, like, its...</td>\n",
              "      <td>[whole, body, feels, itchy, like, fire]</td>\n",
              "      <td>my whole body feels itchy and like its on fire</td>\n",
              "      <td>[(whole, JJ), (body, NN), (feels, NNS), (itchy...</td>\n",
              "    </tr>\n",
              "    <tr>\n",
              "      <th>4</th>\n",
              "      <td>0</td>\n",
              "      <td>@nationwideclass no, it's not behaving at all....</td>\n",
              "      <td>no, it's not behaving at all. i'm mad. why am ...</td>\n",
              "      <td>no, it's not behaving at all. i'm mad. why am ...</td>\n",
              "      <td>no it's not behaving at all i'm mad why am i h...</td>\n",
              "      <td>no it is not behaving at all i am mad why am i...</td>\n",
              "      <td>not it is not behaving at all i am mad why am ...</td>\n",
              "      <td>[not, it, is, not, behaving, at, all, i, am, m...</td>\n",
              "      <td>[behaving, mad, see]</td>\n",
              "      <td>not it is not behaving at all i am mad why am ...</td>\n",
              "      <td>[(behaving, VBG), (mad, JJ), (see, NN)]</td>\n",
              "    </tr>\n",
              "  </tbody>\n",
              "</table>\n",
              "</div>"
            ],
            "text/plain": [
              "   Polarity  ...                                          Tweet_pos\n",
              "0         0  ...  [(awww, JJ), (bummer, NN), (got, VBD), (david,...\n",
              "1         0  ...  [(upset, JJ), (update, JJ), (facebook, NN), (t...\n",
              "2         0  ...  [(dived, VBD), (many, JJ), (times, NNS), (ball...\n",
              "3         0  ...  [(whole, JJ), (body, NN), (feels, NNS), (itchy...\n",
              "4         0  ...            [(behaving, VBG), (mad, JJ), (see, NN)]\n",
              "\n",
              "[5 rows x 11 columns]"
            ]
          },
          "metadata": {},
          "execution_count": 266
        }
      ]
    },
    {
      "cell_type": "code",
      "metadata": {
        "colab": {
          "base_uri": "https://localhost:8080/",
          "height": 37
        },
        "id": "TkQTnx0bONh6",
        "outputId": "ce7cee61-3707-4165-8aba-85b17c37ecab"
      },
      "source": [
        "df.iloc[0]['Tweet_pure_string']"
      ],
      "execution_count": 268,
      "outputs": [
        {
          "output_type": "execute_result",
          "data": {
            "application/vnd.google.colaboratory.intrinsic+json": {
              "type": "string"
            },
            "text/plain": [
              "'awww that is a bummer you should have got david carr of third day to do it laugh'"
            ]
          },
          "metadata": {},
          "execution_count": 268
        }
      ]
    },
    {
      "cell_type": "code",
      "metadata": {
        "id": "nITQsdJ0n3mM",
        "colab": {
          "base_uri": "https://localhost:8080/",
          "height": 683
        },
        "outputId": "ea61353a-a963-4bdf-f511-41dab6465dbb"
      },
      "source": [
        "df['Tweet_lemma'] = df['Tweet_pos'].apply(tweet_lemmatizer)\n",
        "df.head()"
      ],
      "execution_count": 269,
      "outputs": [
        {
          "output_type": "stream",
          "name": "stderr",
          "text": [
            "/usr/local/lib/python3.7/dist-packages/ipykernel_launcher.py:1: SettingWithCopyWarning: \n",
            "A value is trying to be set on a copy of a slice from a DataFrame.\n",
            "Try using .loc[row_indexer,col_indexer] = value instead\n",
            "\n",
            "See the caveats in the documentation: https://pandas.pydata.org/pandas-docs/stable/user_guide/indexing.html#returning-a-view-versus-a-copy\n",
            "  \"\"\"Entry point for launching an IPython kernel.\n"
          ]
        },
        {
          "output_type": "execute_result",
          "data": {
            "text/html": [
              "<div>\n",
              "<style scoped>\n",
              "    .dataframe tbody tr th:only-of-type {\n",
              "        vertical-align: middle;\n",
              "    }\n",
              "\n",
              "    .dataframe tbody tr th {\n",
              "        vertical-align: top;\n",
              "    }\n",
              "\n",
              "    .dataframe thead th {\n",
              "        text-align: right;\n",
              "    }\n",
              "</style>\n",
              "<table border=\"1\" class=\"dataframe\">\n",
              "  <thead>\n",
              "    <tr style=\"text-align: right;\">\n",
              "      <th></th>\n",
              "      <th>Polarity</th>\n",
              "      <th>Tweet</th>\n",
              "      <th>Tweet_regex</th>\n",
              "      <th>Tweet_emoji</th>\n",
              "      <th>Tweet_nopunc</th>\n",
              "      <th>Tweet_clitics</th>\n",
              "      <th>Tweet_shortforms</th>\n",
              "      <th>Tweet_token</th>\n",
              "      <th>Tweet_stopword</th>\n",
              "      <th>Tweet_pure_string</th>\n",
              "      <th>Tweet_pos</th>\n",
              "      <th>Tweet_lemma</th>\n",
              "    </tr>\n",
              "  </thead>\n",
              "  <tbody>\n",
              "    <tr>\n",
              "      <th>0</th>\n",
              "      <td>0</td>\n",
              "      <td>@switchfoot http://twitpic.com/2y1zl - Awww, t...</td>\n",
              "      <td>- awww, that's a bummer. you shoulda got david...</td>\n",
              "      <td>- awww, that's a bummer. you shoulda got david...</td>\n",
              "      <td>awww that's a bummer you shoulda got david ca...</td>\n",
              "      <td>awww that is a bummer you shoulda got david c...</td>\n",
              "      <td>awww that is a bummer you should have got davi...</td>\n",
              "      <td>[awww, that, is, a, bummer, you, should, have,...</td>\n",
              "      <td>[awww, bummer, got, david, carr, third, day, l...</td>\n",
              "      <td>awww that is a bummer you should have got davi...</td>\n",
              "      <td>[(awww, JJ), (bummer, NN), (got, VBD), (david,...</td>\n",
              "      <td>[awww, bummer, get, david, carr, third, day, l...</td>\n",
              "    </tr>\n",
              "    <tr>\n",
              "      <th>1</th>\n",
              "      <td>0</td>\n",
              "      <td>is upset that he can't update his Facebook by ...</td>\n",
              "      <td>is upset that he can't update his facebook by ...</td>\n",
              "      <td>is upset that he can't update his facebook by ...</td>\n",
              "      <td>is upset that he can't update his facebook by ...</td>\n",
              "      <td>is upset that he can not update his facebook b...</td>\n",
              "      <td>is upset that he can not update his facebook b...</td>\n",
              "      <td>[is, upset, that, he, can, not, update, his, f...</td>\n",
              "      <td>[upset, update, facebook, texting, might, cry,...</td>\n",
              "      <td>is upset that he can not update his facebook b...</td>\n",
              "      <td>[(upset, JJ), (update, JJ), (facebook, NN), (t...</td>\n",
              "      <td>[upset, update, facebook, texting, might, cry,...</td>\n",
              "    </tr>\n",
              "    <tr>\n",
              "      <th>2</th>\n",
              "      <td>0</td>\n",
              "      <td>@Kenichan I dived many times for the ball. Man...</td>\n",
              "      <td>i dived many times for the ball. managed to sa...</td>\n",
              "      <td>i dived many times for the ball. managed to sa...</td>\n",
              "      <td>i dived many times for the ball managed to sav...</td>\n",
              "      <td>i dived many times for the ball managed to sav...</td>\n",
              "      <td>i dived many times for the ball managed to sav...</td>\n",
              "      <td>[i, dived, many, times, for, the, ball, manage...</td>\n",
              "      <td>[dived, many, times, ball, managed, save, rest...</td>\n",
              "      <td>i dived many times for the ball managed to sav...</td>\n",
              "      <td>[(dived, VBD), (many, JJ), (times, NNS), (ball...</td>\n",
              "      <td>[dive, many, time, ball, manage, save, rest, g...</td>\n",
              "    </tr>\n",
              "    <tr>\n",
              "      <th>3</th>\n",
              "      <td>0</td>\n",
              "      <td>my whole body feels itchy and like its on fire</td>\n",
              "      <td>my whole body feels itchy and like its on fire</td>\n",
              "      <td>my whole body feels itchy and like its on fire</td>\n",
              "      <td>my whole body feels itchy and like its on fire</td>\n",
              "      <td>my whole body feels itchy and like its on fire</td>\n",
              "      <td>my whole body feels itchy and like its on fire</td>\n",
              "      <td>[my, whole, body, feels, itchy, and, like, its...</td>\n",
              "      <td>[whole, body, feels, itchy, like, fire]</td>\n",
              "      <td>my whole body feels itchy and like its on fire</td>\n",
              "      <td>[(whole, JJ), (body, NN), (feels, NNS), (itchy...</td>\n",
              "      <td>[whole, body, feel, itchy, like, fire]</td>\n",
              "    </tr>\n",
              "    <tr>\n",
              "      <th>4</th>\n",
              "      <td>0</td>\n",
              "      <td>@nationwideclass no, it's not behaving at all....</td>\n",
              "      <td>no, it's not behaving at all. i'm mad. why am ...</td>\n",
              "      <td>no, it's not behaving at all. i'm mad. why am ...</td>\n",
              "      <td>no it's not behaving at all i'm mad why am i h...</td>\n",
              "      <td>no it is not behaving at all i am mad why am i...</td>\n",
              "      <td>not it is not behaving at all i am mad why am ...</td>\n",
              "      <td>[not, it, is, not, behaving, at, all, i, am, m...</td>\n",
              "      <td>[behaving, mad, see]</td>\n",
              "      <td>not it is not behaving at all i am mad why am ...</td>\n",
              "      <td>[(behaving, VBG), (mad, JJ), (see, NN)]</td>\n",
              "      <td>[behave, mad, see]</td>\n",
              "    </tr>\n",
              "  </tbody>\n",
              "</table>\n",
              "</div>"
            ],
            "text/plain": [
              "   Polarity  ...                                        Tweet_lemma\n",
              "0         0  ...  [awww, bummer, get, david, carr, third, day, l...\n",
              "1         0  ...  [upset, update, facebook, texting, might, cry,...\n",
              "2         0  ...  [dive, many, time, ball, manage, save, rest, g...\n",
              "3         0  ...             [whole, body, feel, itchy, like, fire]\n",
              "4         0  ...                                 [behave, mad, see]\n",
              "\n",
              "[5 rows x 12 columns]"
            ]
          },
          "metadata": {},
          "execution_count": 269
        }
      ]
    },
    {
      "cell_type": "code",
      "metadata": {
        "id": "IxYHa-0un3mM"
      },
      "source": [
        ""
      ],
      "execution_count": 269,
      "outputs": []
    },
    {
      "cell_type": "code",
      "metadata": {
        "id": "A7xmeQN4n3mN"
      },
      "source": [
        "def make_sentences(df, col, title):\n",
        "    df[title] = df[col].apply(lambda x:' '.join([i for i in x]))\n",
        "    return df"
      ],
      "execution_count": 270,
      "outputs": []
    },
    {
      "cell_type": "code",
      "metadata": {
        "id": "cxPIAu_vn3mN",
        "colab": {
          "base_uri": "https://localhost:8080/",
          "height": 683
        },
        "outputId": "209497a1-e399-4581-b881-293f4ea0bbad"
      },
      "source": [
        "df = make_sentences(df, 'Tweet_lemma', 'Tweet_sent')\n",
        "df.head()"
      ],
      "execution_count": 271,
      "outputs": [
        {
          "output_type": "stream",
          "name": "stderr",
          "text": [
            "/usr/local/lib/python3.7/dist-packages/ipykernel_launcher.py:2: SettingWithCopyWarning: \n",
            "A value is trying to be set on a copy of a slice from a DataFrame.\n",
            "Try using .loc[row_indexer,col_indexer] = value instead\n",
            "\n",
            "See the caveats in the documentation: https://pandas.pydata.org/pandas-docs/stable/user_guide/indexing.html#returning-a-view-versus-a-copy\n",
            "  \n"
          ]
        },
        {
          "output_type": "execute_result",
          "data": {
            "text/html": [
              "<div>\n",
              "<style scoped>\n",
              "    .dataframe tbody tr th:only-of-type {\n",
              "        vertical-align: middle;\n",
              "    }\n",
              "\n",
              "    .dataframe tbody tr th {\n",
              "        vertical-align: top;\n",
              "    }\n",
              "\n",
              "    .dataframe thead th {\n",
              "        text-align: right;\n",
              "    }\n",
              "</style>\n",
              "<table border=\"1\" class=\"dataframe\">\n",
              "  <thead>\n",
              "    <tr style=\"text-align: right;\">\n",
              "      <th></th>\n",
              "      <th>Polarity</th>\n",
              "      <th>Tweet</th>\n",
              "      <th>Tweet_regex</th>\n",
              "      <th>Tweet_emoji</th>\n",
              "      <th>Tweet_nopunc</th>\n",
              "      <th>Tweet_clitics</th>\n",
              "      <th>Tweet_shortforms</th>\n",
              "      <th>Tweet_token</th>\n",
              "      <th>Tweet_stopword</th>\n",
              "      <th>Tweet_pure_string</th>\n",
              "      <th>Tweet_pos</th>\n",
              "      <th>Tweet_lemma</th>\n",
              "      <th>Tweet_sent</th>\n",
              "    </tr>\n",
              "  </thead>\n",
              "  <tbody>\n",
              "    <tr>\n",
              "      <th>0</th>\n",
              "      <td>0</td>\n",
              "      <td>@switchfoot http://twitpic.com/2y1zl - Awww, t...</td>\n",
              "      <td>- awww, that's a bummer. you shoulda got david...</td>\n",
              "      <td>- awww, that's a bummer. you shoulda got david...</td>\n",
              "      <td>awww that's a bummer you shoulda got david ca...</td>\n",
              "      <td>awww that is a bummer you shoulda got david c...</td>\n",
              "      <td>awww that is a bummer you should have got davi...</td>\n",
              "      <td>[awww, that, is, a, bummer, you, should, have,...</td>\n",
              "      <td>[awww, bummer, got, david, carr, third, day, l...</td>\n",
              "      <td>awww that is a bummer you should have got davi...</td>\n",
              "      <td>[(awww, JJ), (bummer, NN), (got, VBD), (david,...</td>\n",
              "      <td>[awww, bummer, get, david, carr, third, day, l...</td>\n",
              "      <td>awww bummer get david carr third day laugh</td>\n",
              "    </tr>\n",
              "    <tr>\n",
              "      <th>1</th>\n",
              "      <td>0</td>\n",
              "      <td>is upset that he can't update his Facebook by ...</td>\n",
              "      <td>is upset that he can't update his facebook by ...</td>\n",
              "      <td>is upset that he can't update his facebook by ...</td>\n",
              "      <td>is upset that he can't update his facebook by ...</td>\n",
              "      <td>is upset that he can not update his facebook b...</td>\n",
              "      <td>is upset that he can not update his facebook b...</td>\n",
              "      <td>[is, upset, that, he, can, not, update, his, f...</td>\n",
              "      <td>[upset, update, facebook, texting, might, cry,...</td>\n",
              "      <td>is upset that he can not update his facebook b...</td>\n",
              "      <td>[(upset, JJ), (update, JJ), (facebook, NN), (t...</td>\n",
              "      <td>[upset, update, facebook, texting, might, cry,...</td>\n",
              "      <td>upset update facebook texting might cry result...</td>\n",
              "    </tr>\n",
              "    <tr>\n",
              "      <th>2</th>\n",
              "      <td>0</td>\n",
              "      <td>@Kenichan I dived many times for the ball. Man...</td>\n",
              "      <td>i dived many times for the ball. managed to sa...</td>\n",
              "      <td>i dived many times for the ball. managed to sa...</td>\n",
              "      <td>i dived many times for the ball managed to sav...</td>\n",
              "      <td>i dived many times for the ball managed to sav...</td>\n",
              "      <td>i dived many times for the ball managed to sav...</td>\n",
              "      <td>[i, dived, many, times, for, the, ball, manage...</td>\n",
              "      <td>[dived, many, times, ball, managed, save, rest...</td>\n",
              "      <td>i dived many times for the ball managed to sav...</td>\n",
              "      <td>[(dived, VBD), (many, JJ), (times, NNS), (ball...</td>\n",
              "      <td>[dive, many, time, ball, manage, save, rest, g...</td>\n",
              "      <td>dive many time ball manage save rest go bound</td>\n",
              "    </tr>\n",
              "    <tr>\n",
              "      <th>3</th>\n",
              "      <td>0</td>\n",
              "      <td>my whole body feels itchy and like its on fire</td>\n",
              "      <td>my whole body feels itchy and like its on fire</td>\n",
              "      <td>my whole body feels itchy and like its on fire</td>\n",
              "      <td>my whole body feels itchy and like its on fire</td>\n",
              "      <td>my whole body feels itchy and like its on fire</td>\n",
              "      <td>my whole body feels itchy and like its on fire</td>\n",
              "      <td>[my, whole, body, feels, itchy, and, like, its...</td>\n",
              "      <td>[whole, body, feels, itchy, like, fire]</td>\n",
              "      <td>my whole body feels itchy and like its on fire</td>\n",
              "      <td>[(whole, JJ), (body, NN), (feels, NNS), (itchy...</td>\n",
              "      <td>[whole, body, feel, itchy, like, fire]</td>\n",
              "      <td>whole body feel itchy like fire</td>\n",
              "    </tr>\n",
              "    <tr>\n",
              "      <th>4</th>\n",
              "      <td>0</td>\n",
              "      <td>@nationwideclass no, it's not behaving at all....</td>\n",
              "      <td>no, it's not behaving at all. i'm mad. why am ...</td>\n",
              "      <td>no, it's not behaving at all. i'm mad. why am ...</td>\n",
              "      <td>no it's not behaving at all i'm mad why am i h...</td>\n",
              "      <td>no it is not behaving at all i am mad why am i...</td>\n",
              "      <td>not it is not behaving at all i am mad why am ...</td>\n",
              "      <td>[not, it, is, not, behaving, at, all, i, am, m...</td>\n",
              "      <td>[behaving, mad, see]</td>\n",
              "      <td>not it is not behaving at all i am mad why am ...</td>\n",
              "      <td>[(behaving, VBG), (mad, JJ), (see, NN)]</td>\n",
              "      <td>[behave, mad, see]</td>\n",
              "      <td>behave mad see</td>\n",
              "    </tr>\n",
              "  </tbody>\n",
              "</table>\n",
              "</div>"
            ],
            "text/plain": [
              "   Polarity  ...                                         Tweet_sent\n",
              "0         0  ...         awww bummer get david carr third day laugh\n",
              "1         0  ...  upset update facebook texting might cry result...\n",
              "2         0  ...      dive many time ball manage save rest go bound\n",
              "3         0  ...                    whole body feel itchy like fire\n",
              "4         0  ...                                     behave mad see\n",
              "\n",
              "[5 rows x 13 columns]"
            ]
          },
          "metadata": {},
          "execution_count": 271
        }
      ]
    },
    {
      "cell_type": "code",
      "metadata": {
        "id": "HebhZ1r3WCIr"
      },
      "source": [
        ""
      ],
      "execution_count": null,
      "outputs": []
    },
    {
      "cell_type": "code",
      "metadata": {
        "colab": {
          "base_uri": "https://localhost:8080/"
        },
        "id": "Mkfs5-v5WG1a",
        "outputId": "30603ad2-a8a9-4f0b-83e6-9cd53ca81d15"
      },
      "source": [
        "wordnet.synsets('helloo')"
      ],
      "execution_count": 279,
      "outputs": [
        {
          "output_type": "execute_result",
          "data": {
            "text/plain": [
              "[]"
            ]
          },
          "metadata": {},
          "execution_count": 279
        }
      ]
    },
    {
      "cell_type": "code",
      "metadata": {
        "id": "cBOLGluLW0rs"
      },
      "source": [
        "## TO BE MODIFIED #####\n",
        "def normalisation_words(tweet):\n",
        "    tweet = tweet.replace(r'([a-z])\\1{1,}', r'\\1\\1')\n",
        "    tweet = ' '.join([word if len(wordnet.synsets(word)) > 0 else re.sub(r'([a-z])\\1{1,}', r'\\1', word) for word in tweet.split()])\n",
        "    tweet = tweet.replace(r'(ha)\\1{1,}', r'\\1')\n",
        "    return tweet"
      ],
      "execution_count": 296,
      "outputs": []
    },
    {
      "cell_type": "code",
      "metadata": {
        "colab": {
          "base_uri": "https://localhost:8080/",
          "height": 37
        },
        "id": "4APiy1icXJ3n",
        "outputId": "6199a1ef-d707-43ea-e953-525386bfa1df"
      },
      "source": [
        "normalisation_words('awww hahahahahaha bummer get david carr third day laugh')"
      ],
      "execution_count": 297,
      "outputs": [
        {
          "output_type": "execute_result",
          "data": {
            "application/vnd.google.colaboratory.intrinsic+json": {
              "type": "string"
            },
            "text/plain": [
              "'aw hahahahahaha bummer get david car third day laugh'"
            ]
          },
          "metadata": {},
          "execution_count": 297
        }
      ]
    },
    {
      "cell_type": "code",
      "metadata": {
        "colab": {
          "base_uri": "https://localhost:8080/",
          "height": 683
        },
        "id": "3TG5vlkdWCAD",
        "outputId": "44f3f609-6fa5-4b9f-d3ae-2cdda19a9083"
      },
      "source": [
        "df['Tweet_normalised'] = df['Tweet_sent'].apply(normalisation_words)\n",
        "df.head()"
      ],
      "execution_count": 299,
      "outputs": [
        {
          "output_type": "stream",
          "name": "stderr",
          "text": [
            "/usr/local/lib/python3.7/dist-packages/ipykernel_launcher.py:1: SettingWithCopyWarning: \n",
            "A value is trying to be set on a copy of a slice from a DataFrame.\n",
            "Try using .loc[row_indexer,col_indexer] = value instead\n",
            "\n",
            "See the caveats in the documentation: https://pandas.pydata.org/pandas-docs/stable/user_guide/indexing.html#returning-a-view-versus-a-copy\n",
            "  \"\"\"Entry point for launching an IPython kernel.\n"
          ]
        },
        {
          "output_type": "execute_result",
          "data": {
            "text/html": [
              "<div>\n",
              "<style scoped>\n",
              "    .dataframe tbody tr th:only-of-type {\n",
              "        vertical-align: middle;\n",
              "    }\n",
              "\n",
              "    .dataframe tbody tr th {\n",
              "        vertical-align: top;\n",
              "    }\n",
              "\n",
              "    .dataframe thead th {\n",
              "        text-align: right;\n",
              "    }\n",
              "</style>\n",
              "<table border=\"1\" class=\"dataframe\">\n",
              "  <thead>\n",
              "    <tr style=\"text-align: right;\">\n",
              "      <th></th>\n",
              "      <th>Polarity</th>\n",
              "      <th>Tweet</th>\n",
              "      <th>Tweet_regex</th>\n",
              "      <th>Tweet_emoji</th>\n",
              "      <th>Tweet_nopunc</th>\n",
              "      <th>Tweet_clitics</th>\n",
              "      <th>Tweet_shortforms</th>\n",
              "      <th>Tweet_token</th>\n",
              "      <th>Tweet_stopword</th>\n",
              "      <th>Tweet_pure_string</th>\n",
              "      <th>Tweet_pos</th>\n",
              "      <th>Tweet_lemma</th>\n",
              "      <th>Tweet_sent</th>\n",
              "      <th>Tweet_normalised</th>\n",
              "    </tr>\n",
              "  </thead>\n",
              "  <tbody>\n",
              "    <tr>\n",
              "      <th>0</th>\n",
              "      <td>0</td>\n",
              "      <td>@switchfoot http://twitpic.com/2y1zl - Awww, t...</td>\n",
              "      <td>- awww, that's a bummer. you shoulda got david...</td>\n",
              "      <td>- awww, that's a bummer. you shoulda got david...</td>\n",
              "      <td>awww that's a bummer you shoulda got david ca...</td>\n",
              "      <td>awww that is a bummer you shoulda got david c...</td>\n",
              "      <td>awww that is a bummer you should have got davi...</td>\n",
              "      <td>[awww, that, is, a, bummer, you, should, have,...</td>\n",
              "      <td>[awww, bummer, got, david, carr, third, day, l...</td>\n",
              "      <td>awww that is a bummer you should have got davi...</td>\n",
              "      <td>[(awww, JJ), (bummer, NN), (got, VBD), (david,...</td>\n",
              "      <td>[awww, bummer, get, david, carr, third, day, l...</td>\n",
              "      <td>awww bummer get david carr third day laugh</td>\n",
              "      <td>aw bummer get david car third day laugh</td>\n",
              "    </tr>\n",
              "    <tr>\n",
              "      <th>1</th>\n",
              "      <td>0</td>\n",
              "      <td>is upset that he can't update his Facebook by ...</td>\n",
              "      <td>is upset that he can't update his facebook by ...</td>\n",
              "      <td>is upset that he can't update his facebook by ...</td>\n",
              "      <td>is upset that he can't update his facebook by ...</td>\n",
              "      <td>is upset that he can not update his facebook b...</td>\n",
              "      <td>is upset that he can not update his facebook b...</td>\n",
              "      <td>[is, upset, that, he, can, not, update, his, f...</td>\n",
              "      <td>[upset, update, facebook, texting, might, cry,...</td>\n",
              "      <td>is upset that he can not update his facebook b...</td>\n",
              "      <td>[(upset, JJ), (update, JJ), (facebook, NN), (t...</td>\n",
              "      <td>[upset, update, facebook, texting, might, cry,...</td>\n",
              "      <td>upset update facebook texting might cry result...</td>\n",
              "      <td>upset update facebok texting might cry result ...</td>\n",
              "    </tr>\n",
              "    <tr>\n",
              "      <th>2</th>\n",
              "      <td>0</td>\n",
              "      <td>@Kenichan I dived many times for the ball. Man...</td>\n",
              "      <td>i dived many times for the ball. managed to sa...</td>\n",
              "      <td>i dived many times for the ball. managed to sa...</td>\n",
              "      <td>i dived many times for the ball managed to sav...</td>\n",
              "      <td>i dived many times for the ball managed to sav...</td>\n",
              "      <td>i dived many times for the ball managed to sav...</td>\n",
              "      <td>[i, dived, many, times, for, the, ball, manage...</td>\n",
              "      <td>[dived, many, times, ball, managed, save, rest...</td>\n",
              "      <td>i dived many times for the ball managed to sav...</td>\n",
              "      <td>[(dived, VBD), (many, JJ), (times, NNS), (ball...</td>\n",
              "      <td>[dive, many, time, ball, manage, save, rest, g...</td>\n",
              "      <td>dive many time ball manage save rest go bound</td>\n",
              "      <td>dive many time ball manage save rest go bound</td>\n",
              "    </tr>\n",
              "    <tr>\n",
              "      <th>3</th>\n",
              "      <td>0</td>\n",
              "      <td>my whole body feels itchy and like its on fire</td>\n",
              "      <td>my whole body feels itchy and like its on fire</td>\n",
              "      <td>my whole body feels itchy and like its on fire</td>\n",
              "      <td>my whole body feels itchy and like its on fire</td>\n",
              "      <td>my whole body feels itchy and like its on fire</td>\n",
              "      <td>my whole body feels itchy and like its on fire</td>\n",
              "      <td>[my, whole, body, feels, itchy, and, like, its...</td>\n",
              "      <td>[whole, body, feels, itchy, like, fire]</td>\n",
              "      <td>my whole body feels itchy and like its on fire</td>\n",
              "      <td>[(whole, JJ), (body, NN), (feels, NNS), (itchy...</td>\n",
              "      <td>[whole, body, feel, itchy, like, fire]</td>\n",
              "      <td>whole body feel itchy like fire</td>\n",
              "      <td>whole body feel itchy like fire</td>\n",
              "    </tr>\n",
              "    <tr>\n",
              "      <th>4</th>\n",
              "      <td>0</td>\n",
              "      <td>@nationwideclass no, it's not behaving at all....</td>\n",
              "      <td>no, it's not behaving at all. i'm mad. why am ...</td>\n",
              "      <td>no, it's not behaving at all. i'm mad. why am ...</td>\n",
              "      <td>no it's not behaving at all i'm mad why am i h...</td>\n",
              "      <td>no it is not behaving at all i am mad why am i...</td>\n",
              "      <td>not it is not behaving at all i am mad why am ...</td>\n",
              "      <td>[not, it, is, not, behaving, at, all, i, am, m...</td>\n",
              "      <td>[behaving, mad, see]</td>\n",
              "      <td>not it is not behaving at all i am mad why am ...</td>\n",
              "      <td>[(behaving, VBG), (mad, JJ), (see, NN)]</td>\n",
              "      <td>[behave, mad, see]</td>\n",
              "      <td>behave mad see</td>\n",
              "      <td>behave mad see</td>\n",
              "    </tr>\n",
              "  </tbody>\n",
              "</table>\n",
              "</div>"
            ],
            "text/plain": [
              "   Polarity  ...                                   Tweet_normalised\n",
              "0         0  ...            aw bummer get david car third day laugh\n",
              "1         0  ...  upset update facebok texting might cry result ...\n",
              "2         0  ...      dive many time ball manage save rest go bound\n",
              "3         0  ...                    whole body feel itchy like fire\n",
              "4         0  ...                                     behave mad see\n",
              "\n",
              "[5 rows x 14 columns]"
            ]
          },
          "metadata": {},
          "execution_count": 299
        }
      ]
    },
    {
      "cell_type": "code",
      "metadata": {
        "id": "mUlsuWqAZPXD"
      },
      "source": [
        ""
      ],
      "execution_count": null,
      "outputs": []
    },
    {
      "cell_type": "code",
      "metadata": {
        "colab": {
          "base_uri": "https://localhost:8080/"
        },
        "id": "MJMDNZfdZPQm",
        "outputId": "762e85db-c29e-44ab-e165-ba19787ef402"
      },
      "source": [
        "df.drop(df[df[\"Tweet_normalised\"] == ''].index, inplace=True)\n",
        "df = df.reset_index(drop=True)"
      ],
      "execution_count": 301,
      "outputs": [
        {
          "output_type": "stream",
          "name": "stderr",
          "text": [
            "/usr/local/lib/python3.7/dist-packages/pandas/core/frame.py:4174: SettingWithCopyWarning: \n",
            "A value is trying to be set on a copy of a slice from a DataFrame\n",
            "\n",
            "See the caveats in the documentation: https://pandas.pydata.org/pandas-docs/stable/user_guide/indexing.html#returning-a-view-versus-a-copy\n",
            "  errors=errors,\n"
          ]
        }
      ]
    },
    {
      "cell_type": "code",
      "metadata": {
        "colab": {
          "base_uri": "https://localhost:8080/",
          "height": 581
        },
        "id": "UhBbxLJqZPKi",
        "outputId": "083997e7-b90e-4802-a54f-0ecda098eb3d"
      },
      "source": [
        "df.head()"
      ],
      "execution_count": 302,
      "outputs": [
        {
          "output_type": "execute_result",
          "data": {
            "text/html": [
              "<div>\n",
              "<style scoped>\n",
              "    .dataframe tbody tr th:only-of-type {\n",
              "        vertical-align: middle;\n",
              "    }\n",
              "\n",
              "    .dataframe tbody tr th {\n",
              "        vertical-align: top;\n",
              "    }\n",
              "\n",
              "    .dataframe thead th {\n",
              "        text-align: right;\n",
              "    }\n",
              "</style>\n",
              "<table border=\"1\" class=\"dataframe\">\n",
              "  <thead>\n",
              "    <tr style=\"text-align: right;\">\n",
              "      <th></th>\n",
              "      <th>Polarity</th>\n",
              "      <th>Tweet</th>\n",
              "      <th>Tweet_regex</th>\n",
              "      <th>Tweet_emoji</th>\n",
              "      <th>Tweet_nopunc</th>\n",
              "      <th>Tweet_clitics</th>\n",
              "      <th>Tweet_shortforms</th>\n",
              "      <th>Tweet_token</th>\n",
              "      <th>Tweet_stopword</th>\n",
              "      <th>Tweet_pure_string</th>\n",
              "      <th>Tweet_pos</th>\n",
              "      <th>Tweet_lemma</th>\n",
              "      <th>Tweet_sent</th>\n",
              "      <th>Tweet_normalised</th>\n",
              "    </tr>\n",
              "  </thead>\n",
              "  <tbody>\n",
              "    <tr>\n",
              "      <th>0</th>\n",
              "      <td>0</td>\n",
              "      <td>@switchfoot http://twitpic.com/2y1zl - Awww, t...</td>\n",
              "      <td>- awww, that's a bummer. you shoulda got david...</td>\n",
              "      <td>- awww, that's a bummer. you shoulda got david...</td>\n",
              "      <td>awww that's a bummer you shoulda got david ca...</td>\n",
              "      <td>awww that is a bummer you shoulda got david c...</td>\n",
              "      <td>awww that is a bummer you should have got davi...</td>\n",
              "      <td>[awww, that, is, a, bummer, you, should, have,...</td>\n",
              "      <td>[awww, bummer, got, david, carr, third, day, l...</td>\n",
              "      <td>awww that is a bummer you should have got davi...</td>\n",
              "      <td>[(awww, JJ), (bummer, NN), (got, VBD), (david,...</td>\n",
              "      <td>[awww, bummer, get, david, carr, third, day, l...</td>\n",
              "      <td>awww bummer get david carr third day laugh</td>\n",
              "      <td>aw bummer get david car third day laugh</td>\n",
              "    </tr>\n",
              "    <tr>\n",
              "      <th>1</th>\n",
              "      <td>0</td>\n",
              "      <td>is upset that he can't update his Facebook by ...</td>\n",
              "      <td>is upset that he can't update his facebook by ...</td>\n",
              "      <td>is upset that he can't update his facebook by ...</td>\n",
              "      <td>is upset that he can't update his facebook by ...</td>\n",
              "      <td>is upset that he can not update his facebook b...</td>\n",
              "      <td>is upset that he can not update his facebook b...</td>\n",
              "      <td>[is, upset, that, he, can, not, update, his, f...</td>\n",
              "      <td>[upset, update, facebook, texting, might, cry,...</td>\n",
              "      <td>is upset that he can not update his facebook b...</td>\n",
              "      <td>[(upset, JJ), (update, JJ), (facebook, NN), (t...</td>\n",
              "      <td>[upset, update, facebook, texting, might, cry,...</td>\n",
              "      <td>upset update facebook texting might cry result...</td>\n",
              "      <td>upset update facebok texting might cry result ...</td>\n",
              "    </tr>\n",
              "    <tr>\n",
              "      <th>2</th>\n",
              "      <td>0</td>\n",
              "      <td>@Kenichan I dived many times for the ball. Man...</td>\n",
              "      <td>i dived many times for the ball. managed to sa...</td>\n",
              "      <td>i dived many times for the ball. managed to sa...</td>\n",
              "      <td>i dived many times for the ball managed to sav...</td>\n",
              "      <td>i dived many times for the ball managed to sav...</td>\n",
              "      <td>i dived many times for the ball managed to sav...</td>\n",
              "      <td>[i, dived, many, times, for, the, ball, manage...</td>\n",
              "      <td>[dived, many, times, ball, managed, save, rest...</td>\n",
              "      <td>i dived many times for the ball managed to sav...</td>\n",
              "      <td>[(dived, VBD), (many, JJ), (times, NNS), (ball...</td>\n",
              "      <td>[dive, many, time, ball, manage, save, rest, g...</td>\n",
              "      <td>dive many time ball manage save rest go bound</td>\n",
              "      <td>dive many time ball manage save rest go bound</td>\n",
              "    </tr>\n",
              "    <tr>\n",
              "      <th>3</th>\n",
              "      <td>0</td>\n",
              "      <td>my whole body feels itchy and like its on fire</td>\n",
              "      <td>my whole body feels itchy and like its on fire</td>\n",
              "      <td>my whole body feels itchy and like its on fire</td>\n",
              "      <td>my whole body feels itchy and like its on fire</td>\n",
              "      <td>my whole body feels itchy and like its on fire</td>\n",
              "      <td>my whole body feels itchy and like its on fire</td>\n",
              "      <td>[my, whole, body, feels, itchy, and, like, its...</td>\n",
              "      <td>[whole, body, feels, itchy, like, fire]</td>\n",
              "      <td>my whole body feels itchy and like its on fire</td>\n",
              "      <td>[(whole, JJ), (body, NN), (feels, NNS), (itchy...</td>\n",
              "      <td>[whole, body, feel, itchy, like, fire]</td>\n",
              "      <td>whole body feel itchy like fire</td>\n",
              "      <td>whole body feel itchy like fire</td>\n",
              "    </tr>\n",
              "    <tr>\n",
              "      <th>4</th>\n",
              "      <td>0</td>\n",
              "      <td>@nationwideclass no, it's not behaving at all....</td>\n",
              "      <td>no, it's not behaving at all. i'm mad. why am ...</td>\n",
              "      <td>no, it's not behaving at all. i'm mad. why am ...</td>\n",
              "      <td>no it's not behaving at all i'm mad why am i h...</td>\n",
              "      <td>no it is not behaving at all i am mad why am i...</td>\n",
              "      <td>not it is not behaving at all i am mad why am ...</td>\n",
              "      <td>[not, it, is, not, behaving, at, all, i, am, m...</td>\n",
              "      <td>[behaving, mad, see]</td>\n",
              "      <td>not it is not behaving at all i am mad why am ...</td>\n",
              "      <td>[(behaving, VBG), (mad, JJ), (see, NN)]</td>\n",
              "      <td>[behave, mad, see]</td>\n",
              "      <td>behave mad see</td>\n",
              "      <td>behave mad see</td>\n",
              "    </tr>\n",
              "  </tbody>\n",
              "</table>\n",
              "</div>"
            ],
            "text/plain": [
              "   Polarity  ...                                   Tweet_normalised\n",
              "0         0  ...            aw bummer get david car third day laugh\n",
              "1         0  ...  upset update facebok texting might cry result ...\n",
              "2         0  ...      dive many time ball manage save rest go bound\n",
              "3         0  ...                    whole body feel itchy like fire\n",
              "4         0  ...                                     behave mad see\n",
              "\n",
              "[5 rows x 14 columns]"
            ]
          },
          "metadata": {},
          "execution_count": 302
        }
      ]
    },
    {
      "cell_type": "code",
      "metadata": {
        "id": "avKai0rAZ24R"
      },
      "source": [
        ""
      ],
      "execution_count": null,
      "outputs": []
    },
    {
      "cell_type": "code",
      "metadata": {
        "id": "g7ijUT5lZ2y-"
      },
      "source": [
        "# Think if you want to do stratify\n",
        "X_train, X_test, y_train, y_test = train_test_split(df['Tweet_normalised'], df['Polarity'], test_size=0.1, random_state=2)"
      ],
      "execution_count": 313,
      "outputs": []
    },
    {
      "cell_type": "code",
      "metadata": {
        "id": "u0gB20PRZ2tE"
      },
      "source": [
        "X_train, X_dev, y_train, y_dev = train_test_split(X_train, y_train, test_size=0.1, random_state=2)"
      ],
      "execution_count": 314,
      "outputs": []
    },
    {
      "cell_type": "code",
      "metadata": {
        "colab": {
          "base_uri": "https://localhost:8080/"
        },
        "id": "7zSQ68pkZ2nu",
        "outputId": "9a937a7f-bc3f-4462-d27d-1de880b0f80e"
      },
      "source": [
        "X_train.shape"
      ],
      "execution_count": 315,
      "outputs": [
        {
          "output_type": "execute_result",
          "data": {
            "text/plain": [
              "(24256,)"
            ]
          },
          "metadata": {},
          "execution_count": 315
        }
      ]
    },
    {
      "cell_type": "code",
      "metadata": {
        "colab": {
          "base_uri": "https://localhost:8080/"
        },
        "id": "HntiKSPaZ2iv",
        "outputId": "180b7a47-cfb2-4c55-99c4-904af4c4cedc"
      },
      "source": [
        "X_test.shape"
      ],
      "execution_count": 316,
      "outputs": [
        {
          "output_type": "execute_result",
          "data": {
            "text/plain": [
              "(2995,)"
            ]
          },
          "metadata": {},
          "execution_count": 316
        }
      ]
    },
    {
      "cell_type": "code",
      "metadata": {
        "colab": {
          "base_uri": "https://localhost:8080/"
        },
        "id": "0d4KbtchZ2dL",
        "outputId": "d9d1845b-5546-4fc1-ed6c-a8105ff7edef"
      },
      "source": [
        "X_dev.shape"
      ],
      "execution_count": 317,
      "outputs": [
        {
          "output_type": "execute_result",
          "data": {
            "text/plain": [
              "(2696,)"
            ]
          },
          "metadata": {},
          "execution_count": 317
        }
      ]
    },
    {
      "cell_type": "code",
      "metadata": {
        "id": "mCxzxwIwbTOX"
      },
      "source": [
        ""
      ],
      "execution_count": null,
      "outputs": []
    },
    {
      "cell_type": "code",
      "metadata": {
        "id": "Qn_sVopqbTGF"
      },
      "source": [
        "import csv, collections\n",
        "from sklearn.base import BaseEstimator\n",
        "from sklearn.feature_extraction.text import TfidfVectorizer\n",
        "from sklearn.pipeline import FeatureUnion\n",
        "from sklearn.naive_bayes import MultinomialNB\n",
        "from sklearn.pipeline import Pipeline\n",
        "import numpy as np\n",
        "from sklearn.metrics import roc_curve, auc"
      ],
      "execution_count": 323,
      "outputs": []
    },
    {
      "cell_type": "code",
      "metadata": {
        "id": "Lk-2ljkObJh_"
      },
      "source": [
        "def load_sent_word_net():\n",
        "    sent_scores = collections.defaultdict(list)\n",
        "\n",
        "    with open(\"../content/drive/MyDrive/COL772_A2/SentiWordNet_3.0.0.txt\",\"r\") as csvfile:\n",
        "        reader = csv.reader(csvfile, delimiter='\\t', quotechar='\"')\n",
        "\n",
        "        for line in reader:\n",
        "            if line[0].startswith(\"#\"):\n",
        "                continue\n",
        "            if len(line) == 1:\n",
        "                continue\n",
        "            POS, ID, PosScore, NegScore, SynsetTerms, Glos = line\n",
        "            if len(POS) == 0 or len(ID) == 0:\n",
        "                continue\n",
        "            for term in SynsetTerms.split(\" \"):\n",
        "                term = term.split('#')[0]\n",
        "                # print(term)\n",
        "                term = term.replace(\"-\", \" \").replace(\"_\", \" \")\n",
        "                key = \"%s/%s\" % (POS, term)\n",
        "                # print(key)\n",
        "                sent_scores[key].append((float(PosScore), float(NegScore)))\n",
        "                # print(sent_scores)\n",
        "        for key, value in sent_scores.items():\n",
        "            sent_scores[key] = np.mean(value, axis=0)\n",
        "\n",
        "        return sent_scores\n",
        "\n",
        "\n",
        "sent_word_net = load_sent_word_net()"
      ],
      "execution_count": 325,
      "outputs": []
    },
    {
      "cell_type": "code",
      "metadata": {
        "id": "3p2X3-DiZ2YP"
      },
      "source": [
        "class LinguisticVectorizer(BaseEstimator):\n",
        "\n",
        "    def get_feature_names(self):\n",
        "        return np.array(['sent_pos', 'sent_neg', 'nouns', 'adjectives', 'verbs', 'adverbs'])\n",
        "\n",
        "    def fit(self, documents, y=None):\n",
        "        return self\n",
        "\n",
        "    def _get_sentiments(self, d):\n",
        "        sent = tuple(d.split())\n",
        "        tagged = nltk.pos_tag(sent)\n",
        "\n",
        "        pos_vals = []\n",
        "        neg_vals = []\n",
        "\n",
        "        nouns = 0.\n",
        "        adjectives = 0.\n",
        "        verbs = 0.\n",
        "        adverbs = 0.\n",
        "\n",
        "        i = 0\n",
        "        for w, t in tagged:\n",
        "\n",
        "            p, n = 0, 0\n",
        "            sent_pos_type = None\n",
        "            if t.startswith(\"NN\"):\n",
        "                #noun\n",
        "                sent_pos_type = \"n\"\n",
        "                nouns += 1\n",
        "            elif t.startswith(\"JJ\"):\n",
        "                #adjective\n",
        "                sent_pos_type = \"a\"\n",
        "                adjectives += 1\n",
        "            elif t.startswith(\"VB\"):\n",
        "                #verb\n",
        "                sent_pos_type = \"v\"\n",
        "                verbs += 1\n",
        "            elif t.startswith(\"RB\"):\n",
        "                #adverb\n",
        "                sent_pos_type = \"r\"\n",
        "                adverbs += 1\n",
        "            else:\n",
        "                sent_pos_type = \"Nan\"\n",
        "\n",
        "                i += 1\n",
        "                l = len(sent) - i\n",
        "\n",
        "                if l == 0:\n",
        "                    l = 1\n",
        "                else:\n",
        "                    pass\n",
        "\n",
        "            if sent_pos_type is not None:\n",
        "\n",
        "                sent_word = \"%s/%s\" % (sent_pos_type, w)\n",
        "\n",
        "                if sent_word in sent_word_net:\n",
        "                    p, n = sent_word_net[sent_word]\n",
        "                elif sent_word == \"Nan\":\n",
        "                    p, n = 0, 0\n",
        "\n",
        "                pos_vals.append(p)\n",
        "                neg_vals.append(n)\n",
        "\n",
        "        if i == 0:\n",
        "            l = len(sent)\n",
        "        else:\n",
        "            pass\n",
        "\n",
        "        avg_pos_val = np.mean(pos_vals)\n",
        "        avg_neg_val = np.mean(neg_vals)\n",
        "\n",
        "        return [avg_pos_val, avg_neg_val, nouns / l, adjectives / l, verbs / l, adverbs / l]\n",
        "\n",
        "    # print(_get_sentiments('This be fantastic'))\n",
        "\n",
        "    def transform(self, documents):\n",
        "        pos_val, neg_val, nouns, adjectives, verbs, adverbs = np.array([self._get_sentiments(d) for d in documents]).T\n",
        "        result = np.array([pos_val, neg_val, nouns, adjectives, verbs, adverbs]).T\n",
        "\n",
        "        return result"
      ],
      "execution_count": 326,
      "outputs": []
    },
    {
      "cell_type": "code",
      "metadata": {
        "id": "-fmvMI_1Z2Sn"
      },
      "source": [
        ""
      ],
      "execution_count": null,
      "outputs": []
    },
    {
      "cell_type": "code",
      "metadata": {
        "colab": {
          "base_uri": "https://localhost:8080/"
        },
        "id": "VNENQ2ymZ2Ni",
        "outputId": "a4b7258b-228d-4a3d-c0de-b34ab2f20641"
      },
      "source": [
        "tfidf_ngrams = TfidfVectorizer(min_df=5, ngram_range=(1, 3))\n",
        "ling_stats = LinguisticVectorizer()\n",
        "all_features = FeatureUnion([('ling', ling_stats), ('tfidf', tfidf_ngrams)])\n",
        "clf = MultinomialNB(alpha=5)\n",
        "\n",
        "pipeline = Pipeline([('all', all_features), ('clf', clf)])\n",
        "\n",
        "pipeline.fit(X_train, y_train)"
      ],
      "execution_count": 328,
      "outputs": [
        {
          "output_type": "execute_result",
          "data": {
            "text/plain": [
              "Pipeline(memory=None,\n",
              "         steps=[('all',\n",
              "                 FeatureUnion(n_jobs=None,\n",
              "                              transformer_list=[('ling',\n",
              "                                                 LinguisticVectorizer()),\n",
              "                                                ('tfidf',\n",
              "                                                 TfidfVectorizer(analyzer='word',\n",
              "                                                                 binary=False,\n",
              "                                                                 decode_error='strict',\n",
              "                                                                 dtype=<class 'numpy.float64'>,\n",
              "                                                                 encoding='utf-8',\n",
              "                                                                 input='content',\n",
              "                                                                 lowercase=True,\n",
              "                                                                 max_df=1.0,\n",
              "                                                                 max_features=None,\n",
              "                                                                 min_df=5,\n",
              "                                                                 ngram_range=(1,\n",
              "                                                                              3),\n",
              "                                                                 norm='l2',\n",
              "                                                                 preprocessor=None,\n",
              "                                                                 smooth_idf=True,\n",
              "                                                                 stop_words=None,\n",
              "                                                                 strip_accents=None,\n",
              "                                                                 sublinear_tf=False,\n",
              "                                                                 token_pattern='(?u)\\\\b\\\\w\\\\w+\\\\b',\n",
              "                                                                 tokenizer=None,\n",
              "                                                                 use_idf=True,\n",
              "                                                                 vocabulary=None))],\n",
              "                              transformer_weights=None, verbose=False)),\n",
              "                ('clf',\n",
              "                 MultinomialNB(alpha=5, class_prior=None, fit_prior=True))],\n",
              "         verbose=False)"
            ]
          },
          "metadata": {},
          "execution_count": 328
        }
      ]
    },
    {
      "cell_type": "code",
      "metadata": {
        "colab": {
          "base_uri": "https://localhost:8080/"
        },
        "id": "uwN-qih1Z2IQ",
        "outputId": "b32c79f8-a619-47ad-ff02-7c1cb8a479ab"
      },
      "source": [
        "pd.DataFrame(pipeline.predict(X_test)).value_counts()"
      ],
      "execution_count": 343,
      "outputs": [
        {
          "output_type": "execute_result",
          "data": {
            "text/plain": [
              "0    2995\n",
              "dtype: int64"
            ]
          },
          "metadata": {},
          "execution_count": 343
        }
      ]
    },
    {
      "cell_type": "code",
      "metadata": {
        "colab": {
          "base_uri": "https://localhost:8080/"
        },
        "id": "3L_Iefp5Z2Db",
        "outputId": "b2ceb6ad-99e2-44c5-9b62-3b7458de93d8"
      },
      "source": [
        "y_train_pred = pipeline.predict_proba(X_train)[:, 1] \n",
        "y_test_pred = pipeline.predict_proba(X_test)[:, 1]\n",
        "train_fpr, train_tpr, train_thresholds = roc_curve(y_train, y_train_pred)\n",
        "test_fpr, test_tpr, test_thresholds = roc_curve(y_test, y_test_pred)"
      ],
      "execution_count": 333,
      "outputs": [
        {
          "output_type": "stream",
          "name": "stderr",
          "text": [
            "/usr/local/lib/python3.7/dist-packages/sklearn/metrics/_ranking.py:808: UndefinedMetricWarning: No positive samples in y_true, true positive value should be meaningless\n",
            "  UndefinedMetricWarning)\n"
          ]
        }
      ]
    },
    {
      "cell_type": "code",
      "metadata": {
        "colab": {
          "base_uri": "https://localhost:8080/"
        },
        "id": "3nS0BXbkdbHQ",
        "outputId": "eaa56ecd-1bf9-4c6b-b503-75fbe1a3e2e6"
      },
      "source": [
        "len(y_test_pred)"
      ],
      "execution_count": 338,
      "outputs": [
        {
          "output_type": "execute_result",
          "data": {
            "text/plain": [
              "2995"
            ]
          },
          "metadata": {},
          "execution_count": 338
        }
      ]
    },
    {
      "cell_type": "code",
      "metadata": {
        "id": "gCqjb_CCZ1-J"
      },
      "source": [
        "plt.plot(train_fpr, train_tpr, label=\"train AUC =\" + str(auc(train_fpr, train_tpr)))\n",
        "plt.plot(test_fpr, test_tpr, label=\"test AUC =\" + str(auc(test_fpr, test_tpr)))\n",
        "plt.legend()\n",
        "plt.title(\"AUC PLOTS\")\n",
        "plt.grid()\n",
        "plt.show()"
      ],
      "execution_count": 339,
      "outputs": []
    },
    {
      "cell_type": "code",
      "metadata": {
        "id": "ZpCbMOv_Z15H"
      },
      "source": [
        "trauc=round(auc(train_fpr, train_tpr),3)\n",
        "teauc=round(auc(test_fpr, test_tpr),3)\n",
        "print('Train AUC=',trauc)\n",
        "print('Test AUC=',teauc)"
      ],
      "execution_count": 340,
      "outputs": []
    },
    {
      "cell_type": "code",
      "metadata": {
        "id": "S5o7L53qZ1zq"
      },
      "source": [
        ""
      ],
      "execution_count": null,
      "outputs": []
    },
    {
      "cell_type": "code",
      "metadata": {
        "id": "dbuFA6EhZ1uU"
      },
      "source": [
        ""
      ],
      "execution_count": null,
      "outputs": []
    },
    {
      "cell_type": "code",
      "metadata": {
        "id": "8qL19-cSZ1o3"
      },
      "source": [
        ""
      ],
      "execution_count": null,
      "outputs": []
    },
    {
      "cell_type": "code",
      "metadata": {
        "id": "DCb7XVMPZ1j0"
      },
      "source": [
        ""
      ],
      "execution_count": null,
      "outputs": []
    },
    {
      "cell_type": "code",
      "metadata": {
        "id": "l3jVKVs_Z1aP"
      },
      "source": [
        ""
      ],
      "execution_count": null,
      "outputs": []
    },
    {
      "cell_type": "code",
      "metadata": {
        "id": "vtdKRlGfn3mN"
      },
      "source": [
        "pos_st = df[df['Polarity'] == 4]['Tweet_lemma'].sum()\n",
        "neg_st = df[df['Polarity'] == 0]['Tweet_lemma'].sum()"
      ],
      "execution_count": null,
      "outputs": []
    },
    {
      "cell_type": "code",
      "metadata": {
        "colab": {
          "base_uri": "https://localhost:8080/"
        },
        "id": "5uD2CgyWV74M",
        "outputId": "c9b390c5-21c0-4928-c0ca-afda65d73cf7"
      },
      "source": [
        "df.iloc[208]"
      ],
      "execution_count": 303,
      "outputs": [
        {
          "output_type": "execute_result",
          "data": {
            "text/plain": [
              "Polarity                                                             0\n",
              "Tweet                @twista202 I think I want to read some books b...\n",
              "Tweet_regex          i think i want to read some books but the libr...\n",
              "Tweet_emoji          i think i want to read some books but the libr...\n",
              "Tweet_nopunc         i think i want to read some books but the libr...\n",
              "Tweet_clitics        i think i want to read some books but the libr...\n",
              "Tweet_shortforms     i think i want to read some books but the libr...\n",
              "Tweet_token          [i, think, i, want, to, read, some, books, but...\n",
              "Tweet_stopword                     [think, want, read, books, library]\n",
              "Tweet_pure_string    i think i want to read some books but the libr...\n",
              "Tweet_pos            [(think, NN), (want, VBP), (read, VBN), (books...\n",
              "Tweet_lemma                         [think, want, read, book, library]\n",
              "Tweet_sent                                think want read book library\n",
              "Tweet_normalised                          think want read book library\n",
              "Name: 208, dtype: object"
            ]
          },
          "metadata": {},
          "execution_count": 303
        }
      ]
    },
    {
      "cell_type": "code",
      "metadata": {
        "id": "cW_FmkKKn3mN"
      },
      "source": [
        "# neg_st"
      ],
      "execution_count": null,
      "outputs": []
    },
    {
      "cell_type": "code",
      "metadata": {
        "id": "YPGrxogYn3mN"
      },
      "source": [
        "pos_uni_freq = FreqDist(ngrams(pos_st, 1))\n",
        "neg_uni_freq = FreqDist(ngrams(neg_st, 1))\n",
        "pos_bi_freq = FreqDist(ngrams(pos_st, 2))\n",
        "neg_bi_freq = FreqDist(ngrams(neg_st, 2))\n",
        "pos_tri_freq = FreqDist(ngrams(pos_st, 3))\n",
        "neg_tri_freq = FreqDist(ngrams(neg_st, 3))"
      ],
      "execution_count": null,
      "outputs": []
    },
    {
      "cell_type": "code",
      "metadata": {
        "id": "q5f6omYen3mO"
      },
      "source": [
        "pos_uni_freq"
      ],
      "execution_count": null,
      "outputs": []
    },
    {
      "cell_type": "code",
      "metadata": {
        "id": "83lJc7SGn3mO"
      },
      "source": [
        "pos_uni_top = pos_uni_freq.most_common(1000)\n",
        "neg_uni_top = neg_uni_freq.most_common(1000)\n",
        "pos_bi_top = pos_bi_freq.most_common(1000)\n",
        "neg_bi_top = neg_bi_freq.most_common(1000)\n",
        "pos_tri_top = pos_tri_freq.most_common(1000)\n",
        "neg_tri_top = neg_tri_freq.most_common(1000)"
      ],
      "execution_count": null,
      "outputs": []
    },
    {
      "cell_type": "code",
      "metadata": {
        "id": "4LQYUjw2n3mO"
      },
      "source": [
        "len(pos_uni_top)"
      ],
      "execution_count": null,
      "outputs": []
    },
    {
      "cell_type": "code",
      "metadata": {
        "id": "XYwMmhK7n3mO"
      },
      "source": [
        "def get_top_words(sent_list):\n",
        "    word_list = []\n",
        "    for i in range(len(sent_list)):\n",
        "        word_list.append(sent_list[i][0][0])\n",
        "    return word_list"
      ],
      "execution_count": null,
      "outputs": []
    },
    {
      "cell_type": "code",
      "metadata": {
        "id": "FNpIVe1En3mO"
      },
      "source": [
        "pos_uni_top_words = get_top_words(pos_uni_top)\n",
        "neg_uni_top_words = get_top_words(neg_uni_top)\n",
        "pos_bi_top_words = get_top_words(pos_bi_top)\n",
        "neg_bi_top_words = get_top_words(neg_bi_top)\n",
        "pos_tri_top_words = get_top_words(pos_tri_top)\n",
        "neg_tri_top_words = get_top_words(neg_tri_top)"
      ],
      "execution_count": null,
      "outputs": []
    },
    {
      "cell_type": "code",
      "metadata": {
        "id": "K_8TSTCln3mP"
      },
      "source": [
        "print(len(pos_uni_top_words))\n",
        "print(len(neg_uni_top_words))\n"
      ],
      "execution_count": null,
      "outputs": []
    },
    {
      "cell_type": "code",
      "metadata": {
        "id": "AtR4fAUzn3mP"
      },
      "source": [
        "uni_top_common = set(set(pos_uni_top_words) & set(neg_uni_top_words))\n",
        "pos_best_words = list(set(pos_uni_top_words) - uni_top_common)\n",
        "neg_best_words = list(set(neg_uni_top_words) - uni_top_common)"
      ],
      "execution_count": null,
      "outputs": []
    },
    {
      "cell_type": "code",
      "metadata": {
        "id": "ViSkXIhKn3mP"
      },
      "source": [
        "uni_top_common_list = list(uni_top_common)"
      ],
      "execution_count": null,
      "outputs": []
    },
    {
      "cell_type": "code",
      "metadata": {
        "id": "pwgQaTDzn3mP"
      },
      "source": [
        "pos_best_words"
      ],
      "execution_count": null,
      "outputs": []
    },
    {
      "cell_type": "code",
      "metadata": {
        "id": "fyDW7ZHEn3mP"
      },
      "source": [
        "neg_best_words"
      ],
      "execution_count": null,
      "outputs": []
    },
    {
      "cell_type": "code",
      "metadata": {
        "id": "_OMzecSSn3mP"
      },
      "source": [
        "len(pos_best_words)"
      ],
      "execution_count": null,
      "outputs": []
    },
    {
      "cell_type": "code",
      "metadata": {
        "id": "5L3PGj_tn3mQ"
      },
      "source": [
        "df['Tweet'].iloc[50]"
      ],
      "execution_count": null,
      "outputs": []
    },
    {
      "cell_type": "code",
      "metadata": {
        "id": "hJQGu8MQn3mQ"
      },
      "source": [
        "df['Tweet_sent'].iloc[50]"
      ],
      "execution_count": null,
      "outputs": []
    },
    {
      "cell_type": "code",
      "metadata": {
        "id": "3PgsEeJgn3mQ"
      },
      "source": [
        "data.iloc[786897,:]"
      ],
      "execution_count": null,
      "outputs": []
    },
    {
      "cell_type": "code",
      "metadata": {
        "id": "y8uV_BEUn3mQ"
      },
      "source": [
        "df.iloc[786897]"
      ],
      "execution_count": null,
      "outputs": []
    },
    {
      "cell_type": "code",
      "metadata": {
        "id": "jO2zLY4en3mQ"
      },
      "source": [
        ""
      ],
      "execution_count": null,
      "outputs": []
    },
    {
      "cell_type": "code",
      "metadata": {
        "id": "TOsgBKtVn3mQ"
      },
      "source": [
        "def dummy(tweet):\n",
        "    return tweet"
      ],
      "execution_count": null,
      "outputs": []
    },
    {
      "cell_type": "code",
      "metadata": {
        "id": "8PZLGWtln3mQ"
      },
      "source": [
        "cv = CountVectorizer(  \n",
        "                      tokenizer=dummy,\n",
        "                      preprocessor=dummy,\n",
        "                      ngram_range=(1,1)\n",
        "                    )"
      ],
      "execution_count": null,
      "outputs": []
    },
    {
      "cell_type": "code",
      "metadata": {
        "id": "QDzznVAv4pvv"
      },
      "source": [
        "print(\"Hi\")"
      ],
      "execution_count": null,
      "outputs": []
    },
    {
      "cell_type": "code",
      "metadata": {
        "id": "XTbL9jXA97B4"
      },
      "source": [
        "X = df['Polarity', 'Tweet_final_sent']\n",
        "X_train, X_test, y_train, y_test = train_test_split(X['Tweet_final_sent'], X['Polarity'], test_size=0.25, random_state=2)"
      ],
      "execution_count": null,
      "outputs": []
    },
    {
      "cell_type": "code",
      "metadata": {
        "id": "mhpBw2z0AaNB"
      },
      "source": [
        ""
      ],
      "execution_count": null,
      "outputs": []
    },
    {
      "cell_type": "code",
      "metadata": {
        "id": "A5XuISksn3mQ"
      },
      "source": [
        "# X = cv.fit_transform(df['Tweet_lemma']).toarray()"
      ],
      "execution_count": null,
      "outputs": []
    },
    {
      "cell_type": "code",
      "metadata": {
        "id": "3DGeOOIin3mR"
      },
      "source": [
        "X"
      ],
      "execution_count": null,
      "outputs": []
    },
    {
      "cell_type": "code",
      "metadata": {
        "id": "XsU_eJ5An3mR"
      },
      "source": [
        "X.shape"
      ],
      "execution_count": null,
      "outputs": []
    },
    {
      "cell_type": "code",
      "metadata": {
        "id": "nFtvESIZn3mR"
      },
      "source": [
        "# X_train, X_test, y_train, y_test = train_test_split(X, df['Polarity'], test_size=0.25, random_state=2)"
      ],
      "execution_count": null,
      "outputs": []
    },
    {
      "cell_type": "code",
      "metadata": {
        "id": "_ypp_tZnn3mR"
      },
      "source": [
        "# X_train = X[:80000,:]\n",
        "# X_test = X[80000:,:]\n",
        "# y_train = df['Polarity'][:80000]\n",
        "# y_test = df['Polarity'][80000:]"
      ],
      "execution_count": null,
      "outputs": []
    },
    {
      "cell_type": "code",
      "metadata": {
        "id": "pD79Odccn3mR"
      },
      "source": [
        "X_train.shape"
      ],
      "execution_count": null,
      "outputs": []
    },
    {
      "cell_type": "code",
      "metadata": {
        "id": "orS-wg43n3mR"
      },
      "source": [
        "X_train"
      ],
      "execution_count": null,
      "outputs": []
    },
    {
      "cell_type": "code",
      "metadata": {
        "id": "mTd8FBWUn3mR"
      },
      "source": [
        "def model_run(model, X_train, y_train):\n",
        "    model.fit(X_train, y_train)"
      ],
      "execution_count": null,
      "outputs": []
    },
    {
      "cell_type": "code",
      "metadata": {
        "id": "wqpCXItln3mS"
      },
      "source": [
        "def model_predict(model, X_test, y_test):\n",
        "    print('Accuracy is: ', model.score(X_test, y_test)*100)\n",
        "    y_pred = model.predict(X_test)\n",
        "    print(classification_report(y_test, y_pred))"
      ],
      "execution_count": null,
      "outputs": []
    },
    {
      "cell_type": "code",
      "metadata": {
        "id": "uQ87hKTBn3mS"
      },
      "source": [
        "model = MultinomialNB()\n",
        "model_run(model, X_train, y_train)\n",
        "model_predict(model, X_test, y_test)"
      ],
      "execution_count": null,
      "outputs": []
    },
    {
      "cell_type": "code",
      "metadata": {
        "id": "00iZcq3hn3mS"
      },
      "source": [
        "# model = LogisticRegression()\n",
        "# model_run(model, X_train, y_train)\n",
        "# model_predict(model, X_test, y_test)"
      ],
      "execution_count": null,
      "outputs": []
    },
    {
      "cell_type": "code",
      "metadata": {
        "id": "gG2O5mrBn3mS"
      },
      "source": [
        "model_predict(model, X_test, y_test)"
      ],
      "execution_count": null,
      "outputs": []
    },
    {
      "cell_type": "code",
      "metadata": {
        "id": "9nel28Mkn3mS"
      },
      "source": [
        "model = LinearSVC()\n",
        "model_run(model, X_train, y_train)\n",
        "model_predict(model, X_test, y_test)"
      ],
      "execution_count": null,
      "outputs": []
    },
    {
      "cell_type": "code",
      "metadata": {
        "id": "iFivm_OIn3mS"
      },
      "source": [
        "df.head()"
      ],
      "execution_count": null,
      "outputs": []
    },
    {
      "cell_type": "code",
      "metadata": {
        "id": "2YYEKtBZn3mS"
      },
      "source": [
        ""
      ],
      "execution_count": null,
      "outputs": []
    },
    {
      "cell_type": "code",
      "metadata": {
        "id": "4yX_9h_On3mS"
      },
      "source": [
        "tfidf_counts = TfidfVectorizer(tokenizer= word_tokenize, # type of tokenization\n",
        "                               ngram_range=(1,1)) # number of n-grams\n",
        "tfidf_data = tfidf_counts.fit_transform(df['Tweet_sent'])"
      ],
      "execution_count": null,
      "outputs": []
    },
    {
      "cell_type": "code",
      "metadata": {
        "id": "cSrxzm9Jn3mT"
      },
      "source": [
        "# tfidf_counts = TfidfVectorizer()\n",
        "# tfidf_data = tfidf_counts.fit_transform(a)"
      ],
      "execution_count": null,
      "outputs": []
    },
    {
      "cell_type": "code",
      "metadata": {
        "id": "A9fQlzEJn3mT"
      },
      "source": [
        "tfidf_data.shape"
      ],
      "execution_count": null,
      "outputs": []
    },
    {
      "cell_type": "code",
      "metadata": {
        "id": "uigcoDrPn3mT"
      },
      "source": [
        "X_train_tfidf, X_test_tfidf, y_train_tfidf, y_test_tfidf = train_test_split(tfidf_data, df['Polarity'], test_size=0.25, random_state=2)"
      ],
      "execution_count": null,
      "outputs": []
    },
    {
      "cell_type": "code",
      "metadata": {
        "id": "H6qOVYs8n3mT"
      },
      "source": [
        "print(X_train_tfidf.shape)\n",
        "print(X_test_tfidf.shape)\n",
        "print(y_train_tfidf.shape)\n",
        "print(y_test_tfidf.shape)"
      ],
      "execution_count": null,
      "outputs": []
    },
    {
      "cell_type": "code",
      "metadata": {
        "id": "mESGywGun3mT"
      },
      "source": [
        "model = MultinomialNB()\n",
        "model_run(model, X_train_tfidf, y_train_tfidf)\n",
        "model_predict(model, X_test_tfidf, y_test_tfidf)"
      ],
      "execution_count": null,
      "outputs": []
    },
    {
      "cell_type": "code",
      "metadata": {
        "id": "AZx8UNnPn3mT"
      },
      "source": [
        "model = LinearSVC()\n",
        "model_run(model, X_train_tfidf, y_train_tfidf)\n",
        "model_predict(model, X_test_tfidf, y_test_tfidf)"
      ],
      "execution_count": null,
      "outputs": []
    },
    {
      "cell_type": "code",
      "metadata": {
        "id": "-RV7QCEqn3mT"
      },
      "source": [
        "# model = LogisticRegression()\n",
        "# model_run(model, X_train_tfidf, y_train_tfidf)\n",
        "# model_predict(model, X_test_tfidf, y_test_tfidf)"
      ],
      "execution_count": null,
      "outputs": []
    },
    {
      "cell_type": "code",
      "metadata": {
        "id": "t0fs6PGyn3mT"
      },
      "source": [
        ""
      ],
      "execution_count": null,
      "outputs": []
    },
    {
      "cell_type": "code",
      "metadata": {
        "id": "Z7XlAJhKn3mT"
      },
      "source": [
        "def remove_extra_words(tweet):\n",
        "    tweet = [word for word in tweet if word in uni_top_common_list]\n",
        "    if len(tweet) == 0:\n",
        "        tweet = ['None']\n",
        "    return tweet"
      ],
      "execution_count": null,
      "outputs": []
    },
    {
      "cell_type": "code",
      "metadata": {
        "colab": {
          "base_uri": "https://localhost:8080/",
          "height": 462
        },
        "id": "jvmXb6ehn3mU",
        "outputId": "d38dce81-97de-441a-ac83-277822d5d5d6"
      },
      "source": [
        "df['Tweet_remove_extra'] = df['Tweet_lemma'].apply(remove_extra_words)\n",
        "df.head()"
      ],
      "execution_count": null,
      "outputs": [
        {
          "output_type": "execute_result",
          "data": {
            "text/html": [
              "<div>\n",
              "<style scoped>\n",
              "    .dataframe tbody tr th:only-of-type {\n",
              "        vertical-align: middle;\n",
              "    }\n",
              "\n",
              "    .dataframe tbody tr th {\n",
              "        vertical-align: top;\n",
              "    }\n",
              "\n",
              "    .dataframe thead th {\n",
              "        text-align: right;\n",
              "    }\n",
              "</style>\n",
              "<table border=\"1\" class=\"dataframe\">\n",
              "  <thead>\n",
              "    <tr style=\"text-align: right;\">\n",
              "      <th></th>\n",
              "      <th>Polarity</th>\n",
              "      <th>Tweet</th>\n",
              "      <th>Tweet_regex</th>\n",
              "      <th>Tweet_clean</th>\n",
              "      <th>Tweet_stopword</th>\n",
              "      <th>Tweet_clitics</th>\n",
              "      <th>Tweet_shortforms</th>\n",
              "      <th>Tweet_pos</th>\n",
              "      <th>Tweet_lemma</th>\n",
              "      <th>Tweet_sent</th>\n",
              "      <th>Tweet_remove_extra</th>\n",
              "    </tr>\n",
              "  </thead>\n",
              "  <tbody>\n",
              "    <tr>\n",
              "      <th>514293</th>\n",
              "      <td>0</td>\n",
              "      <td>i miss nikki nu nu already  shes always there ...</td>\n",
              "      <td>miss nikki nu nu already shes always there whe...</td>\n",
              "      <td>[miss, nikki, nu, nu, already, shes, always, t...</td>\n",
              "      <td>[miss, nikki, nu, nu, already, shes, always, n...</td>\n",
              "      <td>[miss, nikki, nu, nu, already, shes, always, n...</td>\n",
              "      <td>[miss, nikki, nu, nu, already, shes, always, n...</td>\n",
              "      <td>[(miss, JJ), (nikki, NN), (nu, JJ), (nu, JJ), ...</td>\n",
              "      <td>[miss, nikki, nu, nu, already, shes, always, n...</td>\n",
              "      <td>miss nikki nu nu already shes always need than...</td>\n",
              "      <td>[miss, already, shes, always, need, thank, xxx]</td>\n",
              "    </tr>\n",
              "    <tr>\n",
              "      <th>142282</th>\n",
              "      <td>0</td>\n",
              "      <td>So I had a dream last night. I  remember a sig...</td>\n",
              "      <td>So had dream last night remember sign which cl...</td>\n",
              "      <td>[So, had, dream, last, night, remember, sign, ...</td>\n",
              "      <td>[So, dream, last, night, remember, sign, clear...</td>\n",
              "      <td>[So, dream, last, night, remember, sign, clear...</td>\n",
              "      <td>[So, dream, last, night, remember, sign, clear...</td>\n",
              "      <td>[(So, RB), (dream, NN), (last, JJ), (night, NN...</td>\n",
              "      <td>[So, dream, last, night, remember, sign, clear...</td>\n",
              "      <td>So dream last night remember sign clearly tell...</td>\n",
              "      <td>[So, dream, last, night, remember, sign, tell,...</td>\n",
              "    </tr>\n",
              "    <tr>\n",
              "      <th>403727</th>\n",
              "      <td>0</td>\n",
              "      <td>@girlyghost ohh poor sickly you   (((hugs)) ho...</td>\n",
              "      <td>ohh poor sickly you hugs hope you feel little ...</td>\n",
              "      <td>[ohh, poor, sickly, you, hugs, hope, you, feel...</td>\n",
              "      <td>[ohh, poor, sickly, hugs, hope, feel, little, ...</td>\n",
              "      <td>[ohh, poor, sickly, hugs, hope, feel, little, ...</td>\n",
              "      <td>[ohh, poor, sickly, hugs, hope, feel, little, ...</td>\n",
              "      <td>[(ohh, JJ), (poor, JJ), (sickly, JJ), (hugs, N...</td>\n",
              "      <td>[ohh, poor, sickly, hug, hope, feel, little, g...</td>\n",
              "      <td>ohh poor sickly hug hope feel little good soon</td>\n",
              "      <td>[hug, hope, feel, little, good, soon]</td>\n",
              "    </tr>\n",
              "    <tr>\n",
              "      <th>649503</th>\n",
              "      <td>0</td>\n",
              "      <td>it is raining again</td>\n",
              "      <td>it is raining again</td>\n",
              "      <td>[it, is, raining, again]</td>\n",
              "      <td>[raining]</td>\n",
              "      <td>[raining]</td>\n",
              "      <td>[raining]</td>\n",
              "      <td>[(raining, VBG)]</td>\n",
              "      <td>[rain]</td>\n",
              "      <td>rain</td>\n",
              "      <td>[rain]</td>\n",
              "    </tr>\n",
              "    <tr>\n",
              "      <th>610789</th>\n",
              "      <td>0</td>\n",
              "      <td>@MissKeriBaby wish I was in LA right now</td>\n",
              "      <td>wish was in LA right now</td>\n",
              "      <td>[wish, was, in, LA, right, now]</td>\n",
              "      <td>[wish, LA, right]</td>\n",
              "      <td>[wish, LA, right]</td>\n",
              "      <td>[wish, LA, right]</td>\n",
              "      <td>[(wish, JJ), (LA, NNP), (right, NN)]</td>\n",
              "      <td>[wish, LA, right]</td>\n",
              "      <td>wish LA right</td>\n",
              "      <td>[wish, LA, right]</td>\n",
              "    </tr>\n",
              "  </tbody>\n",
              "</table>\n",
              "</div>"
            ],
            "text/plain": [
              "        Polarity  ...                                 Tweet_remove_extra\n",
              "514293         0  ...    [miss, already, shes, always, need, thank, xxx]\n",
              "142282         0  ...  [So, dream, last, night, remember, sign, tell,...\n",
              "403727         0  ...              [hug, hope, feel, little, good, soon]\n",
              "649503         0  ...                                             [rain]\n",
              "610789         0  ...                                  [wish, LA, right]\n",
              "\n",
              "[5 rows x 11 columns]"
            ]
          },
          "metadata": {},
          "execution_count": 60
        }
      ]
    },
    {
      "cell_type": "code",
      "metadata": {
        "colab": {
          "base_uri": "https://localhost:8080/",
          "height": 462
        },
        "id": "HATMatIln3mU",
        "outputId": "a58ccc56-e601-4464-d83e-340d77dd8165"
      },
      "source": [
        "df = make_sentences(df, 'Tweet_remove_extra', 'Tweet_final_sent')\n",
        "df.head()"
      ],
      "execution_count": null,
      "outputs": [
        {
          "output_type": "execute_result",
          "data": {
            "text/html": [
              "<div>\n",
              "<style scoped>\n",
              "    .dataframe tbody tr th:only-of-type {\n",
              "        vertical-align: middle;\n",
              "    }\n",
              "\n",
              "    .dataframe tbody tr th {\n",
              "        vertical-align: top;\n",
              "    }\n",
              "\n",
              "    .dataframe thead th {\n",
              "        text-align: right;\n",
              "    }\n",
              "</style>\n",
              "<table border=\"1\" class=\"dataframe\">\n",
              "  <thead>\n",
              "    <tr style=\"text-align: right;\">\n",
              "      <th></th>\n",
              "      <th>Polarity</th>\n",
              "      <th>Tweet</th>\n",
              "      <th>Tweet_regex</th>\n",
              "      <th>Tweet_clean</th>\n",
              "      <th>Tweet_stopword</th>\n",
              "      <th>Tweet_clitics</th>\n",
              "      <th>Tweet_shortforms</th>\n",
              "      <th>Tweet_pos</th>\n",
              "      <th>Tweet_lemma</th>\n",
              "      <th>Tweet_sent</th>\n",
              "      <th>Tweet_remove_extra</th>\n",
              "      <th>Tweet_final_sent</th>\n",
              "    </tr>\n",
              "  </thead>\n",
              "  <tbody>\n",
              "    <tr>\n",
              "      <th>514293</th>\n",
              "      <td>0</td>\n",
              "      <td>i miss nikki nu nu already  shes always there ...</td>\n",
              "      <td>miss nikki nu nu already shes always there whe...</td>\n",
              "      <td>[miss, nikki, nu, nu, already, shes, always, t...</td>\n",
              "      <td>[miss, nikki, nu, nu, already, shes, always, n...</td>\n",
              "      <td>[miss, nikki, nu, nu, already, shes, always, n...</td>\n",
              "      <td>[miss, nikki, nu, nu, already, shes, always, n...</td>\n",
              "      <td>[(miss, JJ), (nikki, NN), (nu, JJ), (nu, JJ), ...</td>\n",
              "      <td>[miss, nikki, nu, nu, already, shes, always, n...</td>\n",
              "      <td>miss nikki nu nu already shes always need than...</td>\n",
              "      <td>[miss, already, shes, always, need, thank, xxx]</td>\n",
              "      <td>miss already shes always need thank xxx</td>\n",
              "    </tr>\n",
              "    <tr>\n",
              "      <th>142282</th>\n",
              "      <td>0</td>\n",
              "      <td>So I had a dream last night. I  remember a sig...</td>\n",
              "      <td>So had dream last night remember sign which cl...</td>\n",
              "      <td>[So, had, dream, last, night, remember, sign, ...</td>\n",
              "      <td>[So, dream, last, night, remember, sign, clear...</td>\n",
              "      <td>[So, dream, last, night, remember, sign, clear...</td>\n",
              "      <td>[So, dream, last, night, remember, sign, clear...</td>\n",
              "      <td>[(So, RB), (dream, NN), (last, JJ), (night, NN...</td>\n",
              "      <td>[So, dream, last, night, remember, sign, clear...</td>\n",
              "      <td>So dream last night remember sign clearly tell...</td>\n",
              "      <td>[So, dream, last, night, remember, sign, tell,...</td>\n",
              "      <td>So dream last night remember sign tell get job...</td>\n",
              "    </tr>\n",
              "    <tr>\n",
              "      <th>403727</th>\n",
              "      <td>0</td>\n",
              "      <td>@girlyghost ohh poor sickly you   (((hugs)) ho...</td>\n",
              "      <td>ohh poor sickly you hugs hope you feel little ...</td>\n",
              "      <td>[ohh, poor, sickly, you, hugs, hope, you, feel...</td>\n",
              "      <td>[ohh, poor, sickly, hugs, hope, feel, little, ...</td>\n",
              "      <td>[ohh, poor, sickly, hugs, hope, feel, little, ...</td>\n",
              "      <td>[ohh, poor, sickly, hugs, hope, feel, little, ...</td>\n",
              "      <td>[(ohh, JJ), (poor, JJ), (sickly, JJ), (hugs, N...</td>\n",
              "      <td>[ohh, poor, sickly, hug, hope, feel, little, g...</td>\n",
              "      <td>ohh poor sickly hug hope feel little good soon</td>\n",
              "      <td>[hug, hope, feel, little, good, soon]</td>\n",
              "      <td>hug hope feel little good soon</td>\n",
              "    </tr>\n",
              "    <tr>\n",
              "      <th>649503</th>\n",
              "      <td>0</td>\n",
              "      <td>it is raining again</td>\n",
              "      <td>it is raining again</td>\n",
              "      <td>[it, is, raining, again]</td>\n",
              "      <td>[raining]</td>\n",
              "      <td>[raining]</td>\n",
              "      <td>[raining]</td>\n",
              "      <td>[(raining, VBG)]</td>\n",
              "      <td>[rain]</td>\n",
              "      <td>rain</td>\n",
              "      <td>[rain]</td>\n",
              "      <td>rain</td>\n",
              "    </tr>\n",
              "    <tr>\n",
              "      <th>610789</th>\n",
              "      <td>0</td>\n",
              "      <td>@MissKeriBaby wish I was in LA right now</td>\n",
              "      <td>wish was in LA right now</td>\n",
              "      <td>[wish, was, in, LA, right, now]</td>\n",
              "      <td>[wish, LA, right]</td>\n",
              "      <td>[wish, LA, right]</td>\n",
              "      <td>[wish, LA, right]</td>\n",
              "      <td>[(wish, JJ), (LA, NNP), (right, NN)]</td>\n",
              "      <td>[wish, LA, right]</td>\n",
              "      <td>wish LA right</td>\n",
              "      <td>[wish, LA, right]</td>\n",
              "      <td>wish LA right</td>\n",
              "    </tr>\n",
              "  </tbody>\n",
              "</table>\n",
              "</div>"
            ],
            "text/plain": [
              "        Polarity  ...                                   Tweet_final_sent\n",
              "514293         0  ...            miss already shes always need thank xxx\n",
              "142282         0  ...  So dream last night remember sign tell get job...\n",
              "403727         0  ...                     hug hope feel little good soon\n",
              "649503         0  ...                                               rain\n",
              "610789         0  ...                                      wish LA right\n",
              "\n",
              "[5 rows x 12 columns]"
            ]
          },
          "metadata": {},
          "execution_count": 61
        }
      ]
    },
    {
      "cell_type": "code",
      "metadata": {
        "id": "fyEMK9Zgn3mU"
      },
      "source": [
        "tfidf_counts_clean = TfidfVectorizer(tokenizer= word_tokenize, # type of tokenization\n",
        "                               ngram_range=(1,2)) # number of n-grams\n",
        "tfidf_data_clean = tfidf_counts_clean.fit_transform(df['Tweet_final_sent'])"
      ],
      "execution_count": null,
      "outputs": []
    },
    {
      "cell_type": "code",
      "metadata": {
        "id": "MOAglaNrn3mU"
      },
      "source": [
        "X_train_tfidf, X_test_tfidf, y_train_tfidf, y_test_tfidf = train_test_split(tfidf_data_clean, df['Polarity'], test_size=0.25, random_state=2)"
      ],
      "execution_count": null,
      "outputs": []
    },
    {
      "cell_type": "code",
      "metadata": {
        "colab": {
          "base_uri": "https://localhost:8080/"
        },
        "id": "LmdAtf87n3mU",
        "outputId": "02b91324-d84f-4518-fc46-eebcf973d06b"
      },
      "source": [
        "print(X_train_tfidf.shape)\n",
        "print(X_test_tfidf.shape)\n",
        "print(y_train_tfidf.shape)\n",
        "print(y_test_tfidf.shape)"
      ],
      "execution_count": null,
      "outputs": [
        {
          "output_type": "stream",
          "name": "stdout",
          "text": [
            "(30000, 69746)\n",
            "(10000, 69746)\n",
            "(30000,)\n",
            "(10000,)\n"
          ]
        }
      ]
    },
    {
      "cell_type": "code",
      "metadata": {
        "id": "zwYS2-hIn3mV"
      },
      "source": [
        ""
      ],
      "execution_count": null,
      "outputs": []
    },
    {
      "cell_type": "code",
      "metadata": {
        "colab": {
          "base_uri": "https://localhost:8080/"
        },
        "id": "zIswNSMrn3mV",
        "outputId": "add4a826-b502-4358-e696-56cb24e8350c"
      },
      "source": [
        "model = MultinomialNB()\n",
        "model_run(model, X_train_tfidf, y_train_tfidf)\n",
        "model_predict(model, X_test_tfidf, y_test_tfidf)"
      ],
      "execution_count": null,
      "outputs": [
        {
          "output_type": "stream",
          "name": "stdout",
          "text": [
            "Accuracy is:  70.34\n",
            "              precision    recall  f1-score   support\n",
            "\n",
            "           0       0.71      0.70      0.70      5048\n",
            "           4       0.70      0.71      0.70      4952\n",
            "\n",
            "    accuracy                           0.70     10000\n",
            "   macro avg       0.70      0.70      0.70     10000\n",
            "weighted avg       0.70      0.70      0.70     10000\n",
            "\n"
          ]
        }
      ]
    },
    {
      "cell_type": "code",
      "metadata": {
        "colab": {
          "base_uri": "https://localhost:8080/"
        },
        "id": "vVWsBS3Jn3mV",
        "outputId": "111bbdeb-32c3-42e6-d263-54708a2c7208"
      },
      "source": [
        "model = LinearSVC()\n",
        "model_run(model, X_train_tfidf, y_train_tfidf)\n",
        "model_predict(model, X_test_tfidf, y_test_tfidf)"
      ],
      "execution_count": null,
      "outputs": [
        {
          "output_type": "stream",
          "name": "stdout",
          "text": [
            "Accuracy is:  69.61\n",
            "              precision    recall  f1-score   support\n",
            "\n",
            "           0       0.71      0.66      0.69      5048\n",
            "           4       0.68      0.73      0.70      4952\n",
            "\n",
            "    accuracy                           0.70     10000\n",
            "   macro avg       0.70      0.70      0.70     10000\n",
            "weighted avg       0.70      0.70      0.70     10000\n",
            "\n"
          ]
        }
      ]
    },
    {
      "cell_type": "code",
      "metadata": {
        "colab": {
          "base_uri": "https://localhost:8080/"
        },
        "id": "CCZZ5xLpn3mV",
        "outputId": "b2c74952-1dbf-49f7-c119-1d097b35e27b"
      },
      "source": [
        "model = LogisticRegression()\n",
        "model_run(model, X_train_tfidf, y_train_tfidf)\n",
        "model_predict(model, X_test_tfidf, y_test_tfidf)"
      ],
      "execution_count": null,
      "outputs": [
        {
          "output_type": "stream",
          "name": "stdout",
          "text": [
            "Accuracy is:  71.04\n",
            "              precision    recall  f1-score   support\n",
            "\n",
            "           0       0.73      0.69      0.71      5048\n",
            "           4       0.70      0.74      0.72      4952\n",
            "\n",
            "    accuracy                           0.71     10000\n",
            "   macro avg       0.71      0.71      0.71     10000\n",
            "weighted avg       0.71      0.71      0.71     10000\n",
            "\n"
          ]
        }
      ]
    },
    {
      "cell_type": "code",
      "metadata": {
        "id": "OBmCEDNxn3mV"
      },
      "source": [
        ""
      ],
      "execution_count": null,
      "outputs": []
    },
    {
      "cell_type": "code",
      "metadata": {
        "id": "tlctbH1y9sBJ"
      },
      "source": [
        "from sklearn.pipeline import Pipeline"
      ],
      "execution_count": null,
      "outputs": []
    },
    {
      "cell_type": "code",
      "metadata": {
        "id": "xuG25I_j9r7-"
      },
      "source": [
        "text_clf = Pipeline([\n",
        "    ('tfidf',TfidfVectorizer(preprocessor=None,\n",
        "                             tokenizer=word_tokenize,\n",
        "                             analyzer='word',\n",
        "                             stop_words=None,\n",
        "                             strip_accents=None,\n",
        "                             lowercase=True,\n",
        "                             ngram_range=(1,3),\n",
        "                             min_df=0.0001,\n",
        "                             max_df=0.9,\n",
        "                             binary=False,\n",
        "                             norm='l2',\n",
        "                             use_idf=1,\n",
        "                             smooth_idf=1,\n",
        "                             sublinear_tf=1)),\n",
        "    ('clf', LogisticRegression(penalty='l2',\n",
        "                               solver='saga',\n",
        "                               multi_class='multinomial',\n",
        "                              tol=1e-5,\n",
        "                              n_jobs = -1)),\n",
        "])"
      ],
      "execution_count": null,
      "outputs": []
    },
    {
      "cell_type": "code",
      "metadata": {
        "id": "4U8vp1Fu9srh"
      },
      "source": [
        "\n",
        "text_clf.fit(X_train,y_train)"
      ],
      "execution_count": null,
      "outputs": []
    }
  ]
}