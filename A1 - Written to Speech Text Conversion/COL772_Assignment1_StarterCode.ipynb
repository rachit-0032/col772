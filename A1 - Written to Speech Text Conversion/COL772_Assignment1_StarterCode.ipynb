{
  "nbformat": 4,
  "nbformat_minor": 2,
  "metadata": {
    "colab": {
      "name": "COL772_Assignment1_StarterCode.ipynb",
      "provenance": [],
      "collapsed_sections": []
    },
    "kernelspec": {
      "name": "python3",
      "display_name": "Python 3.6.13 64-bit ('col772_a1': conda)"
    },
    "language_info": {
      "name": "python",
      "version": "3.6.13",
      "mimetype": "text/x-python",
      "codemirror_mode": {
        "name": "ipython",
        "version": 3
      },
      "pygments_lexer": "ipython3",
      "nbconvert_exporter": "python",
      "file_extension": ".py"
    },
    "interpreter": {
      "hash": "dab2f99c4a8de8421c6e84418b41a2fad660a89a0f6310e49f91d98320cba282"
    }
  },
  "cells": [
    {
      "cell_type": "markdown",
      "source": [
        "# Downloading data and unzipping"
      ],
      "metadata": {
        "id": "zugunLHfANT0"
      }
    },
    {
      "cell_type": "code",
      "execution_count": null,
      "source": [
        "# !gdown https://drive.google.com/uc?id=1STTlixkDCgeUMgWqrrYmiwaa3w6B9MFe&export=download"
      ],
      "outputs": [
        {
          "output_type": "stream",
          "name": "stdout",
          "text": [
            "Downloading...\n",
            "From: https://drive.google.com/uc?id=1STTlixkDCgeUMgWqrrYmiwaa3w6B9MFe\n",
            "To: /content/assignment_1_data.zip\n",
            "\r  0% 0.00/16.6k [00:00<?, ?B/s]\r100% 16.6k/16.6k [00:00<00:00, 14.0MB/s]\n"
          ]
        }
      ],
      "metadata": {
        "colab": {
          "base_uri": "https://localhost:8080/"
        },
        "id": "UEA3E3C5-ukf",
        "outputId": "8e40be8a-8d46-4fa6-c0d7-bea97dd95e89"
      }
    },
    {
      "cell_type": "code",
      "execution_count": null,
      "source": [
        "# !unzip assignment_1_data.zip"
      ],
      "outputs": [
        {
          "output_type": "stream",
          "name": "stdout",
          "text": [
            "Archive:  assignment_1_data.zip\n",
            "   creating: assignment_1_data/\n",
            "  inflating: assignment_1_data/input.json  \n",
            "  inflating: assignment_1_data/output.json  \n"
          ]
        }
      ],
      "metadata": {
        "colab": {
          "base_uri": "https://localhost:8080/"
        },
        "id": "s2_VhfkEAVWQ",
        "outputId": "ef1c1fc8-58fe-44e2-aeb3-7debe3bab39d"
      }
    },
    {
      "cell_type": "markdown",
      "source": [
        "# Importing input data"
      ],
      "metadata": {
        "id": "c12xz50vAcUV"
      }
    },
    {
      "cell_type": "code",
      "execution_count": 2,
      "source": [
        "import json\n",
        "import re"
      ],
      "outputs": [],
      "metadata": {
        "id": "2awnU1AuAjqk"
      }
    },
    {
      "cell_type": "code",
      "execution_count": 3,
      "source": [
        "with open('assignment_1_data/input.json','r', encoding='utf-8') as input_file:\n",
        "  input_data = json.load(input_file)\n",
        "  input_file.close()"
      ],
      "outputs": [],
      "metadata": {
        "id": "4oOZGWIDAkpP"
      }
    },
    {
      "cell_type": "code",
      "execution_count": 4,
      "source": [
        "with open('assignment_1_data/output.json','r', encoding='utf-8') as output_file:\n",
        "  output_data = json.load(output_file)\n",
        "  output_file.close()"
      ],
      "outputs": [],
      "metadata": {
        "id": "PRN-gmirLzxH"
      }
    },
    {
      "cell_type": "code",
      "execution_count": 5,
      "source": [
        "print(input_data[0])\n",
        "print(output_data[0])"
      ],
      "outputs": [
        {
          "output_type": "stream",
          "name": "stdout",
          "text": [
            "{'sid': 0, 'input_tokens': ['For', 'every', '100', 'females', 'there', 'were', '90.0', 'males', '.']}\n",
            "{'sid': 0, 'output_tokens': ['<self>', '<self>', 'one hundred', '<self>', '<self>', '<self>', 'ninety point zero', '<self>', 'sil']}\n"
          ]
        }
      ],
      "metadata": {
        "colab": {
          "base_uri": "https://localhost:8080/"
        },
        "id": "f4tTNlyqUeyY",
        "outputId": "a69cd684-1150-403a-ab0e-241514548ecf"
      }
    },
    {
      "cell_type": "markdown",
      "source": [
        "# Sample functions for generating the output"
      ],
      "metadata": {
        "id": "n50B4_KTA_PB"
      }
    },
    {
      "cell_type": "markdown",
      "source": [
        "- If there is a numeric inside the string, the check for the following:\n",
        "    - If there is no other character except for numerics, then it should be handled like a number.\n",
        "    - If there is a symbol in front of numerics like symbols of currency, then they should be handled as per currency.\n",
        "    - If there are any characters, then the string can either be a date or might be having some units associated with the numeric, eg: 5m."
      ],
      "metadata": {}
    },
    {
      "cell_type": "code",
      "execution_count": 6,
      "source": [
        "# # Return the text version associated to the numeric in the input string\n",
        "# def convert_number(input_string):\n",
        "    "
      ],
      "outputs": [],
      "metadata": {}
    },
    {
      "cell_type": "code",
      "execution_count": 64,
      "source": [
        "roman_numerals = {\n",
        "    'I': 'first',\n",
        "    'II': 'second',\n",
        "    'III': 'third',\n",
        "    'IV': 'fourth',\n",
        "    'V': 'fifth',\n",
        "    'VI': 'sixth',\n",
        "    'VII': 'seventh',\n",
        "    'VIII': 'eighth',\n",
        "    'IX': 'ninth',\n",
        "    'X': 'tenth',\n",
        "    'XI': 'eleventh',\n",
        "    'XII': 'twelfth',\n",
        "}"
      ],
      "outputs": [],
      "metadata": {}
    },
    {
      "cell_type": "code",
      "execution_count": 494,
      "source": [
        "full_form = {\n",
        "        'm': 'meter', \n",
        "        'mm': 'millimeter',\n",
        "        'cm': 'centimeter',\n",
        "        'km': 'kilometer',\n",
        "\n",
        "        'm2': 'square meters',\n",
        "        'mm2': 'square millimeters',\n",
        "        'cm2': 'square centimeters',\n",
        "        'km2': 'square kilometers',\n",
        "        \n",
        "        'sq': 'squares',\n",
        "        'sqm': 'square meters',\n",
        "        'sqcm': 'square centimeters',\n",
        "        'sqkm': 'square kilometers',\n",
        "\n",
        "        'm3': 'cubic meter',\n",
        "        'mm3': 'cubic millimeter',\n",
        "        'cm3': 'cubic centimeter',\n",
        "        'km3': 'cubic kilometer',\n",
        "\n",
        "        'a.m.': 'a m',\n",
        "        'p.m.': 'p m',\n",
        "\n",
        "        'M': 'million',\n",
        "        'm': 'million',\n",
        "        'mn': 'million',\n",
        "\n",
        "        'B': 'billion',\n",
        "        'b': 'billion',\n",
        "        'bn': 'billion',\n",
        "\n",
        "        'KB': 'kilobytes',\n",
        "        'MB': 'megabytes',\n",
        "        'GB': 'gigabytes',\n",
        "        'TB': 'terabytes',\n",
        "\n",
        "        'Kbps': 'kilobits per second',\n",
        "        'Mbps': 'megabits per second',\n",
        "        'Gbps': 'gigabits per second',\n",
        "        'Tbps': 'terabits per second',\n",
        "\n",
        "        'mA': 'milliamperes'\n",
        "        }"
      ],
      "outputs": [],
      "metadata": {}
    },
    {
      "cell_type": "code",
      "execution_count": 351,
      "source": [
        "numbers = {\n",
        "    '-': 'minus',\n",
        "    '0': 'zero',\n",
        "    '1': 'one',\n",
        "    '2': 'two',\n",
        "    '3': 'three',\n",
        "    '4': 'four',\n",
        "    '5': 'five',\n",
        "    '6': 'six',\n",
        "    '7': 'seven',\n",
        "    '8': 'eight',\n",
        "    '9': 'nine',\n",
        "    '10': 'ten',\n",
        "    '11': 'eleven',\n",
        "    '12': 'twelve',\n",
        "    '13': 'thirteen',\n",
        "    '14': 'fourteen',\n",
        "    '15': 'fifteen',\n",
        "    '16': 'sixteen',\n",
        "    '17': 'seventeen',\n",
        "    '18': 'eighteen',\n",
        "    '19': 'nineteen',\n",
        "    '20': 'twenty',\n",
        "    '30': 'thirty',\n",
        "    '40': 'forty',\n",
        "    '50': 'fifty',\n",
        "    '60': 'sixty',\n",
        "    '70': 'seventy',\n",
        "    '80': 'eighty',\n",
        "    '90': 'ninety'\n",
        "}"
      ],
      "outputs": [],
      "metadata": {}
    },
    {
      "cell_type": "code",
      "execution_count": 678,
      "source": [
        "extended_nums = {\n",
        "    '0': 'ieth',         # y is replaced by this if the last numeric is 0\n",
        "    '1': 'first',\n",
        "    '2': 'second',\n",
        "    '3': 'third',\n",
        "    '4': 'fourth',\n",
        "    '5': 'fifth',\n",
        "    '6': 'sixth',\n",
        "    '7': 'seventh',\n",
        "    '8': 'eighth',\n",
        "    '9': 'ninth'\n",
        "}"
      ],
      "outputs": [],
      "metadata": {}
    },
    {
      "cell_type": "code",
      "execution_count": 7,
      "source": [
        "def is_symbol(input_string):\n",
        "    if bool(re.search(r'\\$', input_string)):\n",
        "        return 'dollar'\n",
        "    elif bool(re.search(r'\\£', input_string)):\n",
        "        return 'pound'\n",
        "    elif bool(re.search(r'\\€', input_string)):\n",
        "        return 'euro'"
      ],
      "outputs": [],
      "metadata": {}
    },
    {
      "cell_type": "code",
      "execution_count": null,
      "source": [],
      "outputs": [],
      "metadata": {}
    },
    {
      "cell_type": "code",
      "execution_count": 8,
      "source": [
        "is_symbol('€349')"
      ],
      "outputs": [
        {
          "output_type": "execute_result",
          "data": {
            "text/plain": [
              "'euro'"
            ]
          },
          "metadata": {},
          "execution_count": 8
        }
      ],
      "metadata": {}
    },
    {
      "cell_type": "markdown",
      "source": [
        "- If there are two "
      ],
      "metadata": {}
    },
    {
      "cell_type": "code",
      "execution_count": 9,
      "source": [
        "# Returns if a punctuation is present in the input string\n",
        "def has_punc(input_string):\n",
        "    return bool(re.search(r'[^\\w\\s]', input_string))"
      ],
      "outputs": [],
      "metadata": {}
    },
    {
      "cell_type": "code",
      "execution_count": 315,
      "source": [
        "def get_punc(input_string):\n",
        "    return 'sil'"
      ],
      "outputs": [],
      "metadata": {}
    },
    {
      "cell_type": "code",
      "execution_count": 10,
      "source": [
        "# Returns true if the input string has a numeric present\n",
        "def has_numeric(input_string):\n",
        "    return bool(re.search(r'\\d', input_string))"
      ],
      "outputs": [],
      "metadata": {}
    },
    {
      "cell_type": "code",
      "execution_count": 798,
      "source": [
        "# Returns true if the input string has only 4 numerical characters, which would be indicative of an year\n",
        "def has_fournumeric(input_string):\n",
        "    return bool(re.search(r'^\\d{4}$', input_string))"
      ],
      "outputs": [],
      "metadata": {}
    },
    {
      "cell_type": "code",
      "execution_count": 802,
      "source": [
        "get_onlydigits('06')"
      ],
      "outputs": [
        {
          "output_type": "execute_result",
          "data": {
            "text/plain": [
              "'six'"
            ]
          },
          "metadata": {},
          "execution_count": 802
        }
      ],
      "metadata": {}
    },
    {
      "cell_type": "code",
      "execution_count": 812,
      "source": [
        "def get_fournumeric(input_string):\n",
        "    if input_string[1:3] == '00':               # handles 2007 --> 'two thousand seven'\n",
        "        return get_onlydigits(input_string)\n",
        "    else:                                       # handles 1906 --> 'nineteen o six'; but 2012 --> 'twenty twelve'\n",
        "        first_two = input_string[0:2]\n",
        "        last_two = input_string[-2:]\n",
        "        if get_onlydigits(first_two) != 'zero':\n",
        "            if input_string[2] == '0':              # handles 1906 --> 'nineteen o six';\n",
        "                return get_onlydigits(first_two) + ' o ' + get_onlydigits(last_two)\n",
        "            else:                                   # handles 2012 --> 'twenty twelve';\n",
        "                return get_onlydigits(first_two) + ' ' + get_onlydigits(last_two)\n",
        "        else:                                       # handles 0002 --> 'two';\n",
        "            return get_onlydigits(last_two)"
      ],
      "outputs": [],
      "metadata": {}
    },
    {
      "cell_type": "code",
      "execution_count": 813,
      "source": [
        "get_fournumeric('1906')"
      ],
      "outputs": [
        {
          "output_type": "execute_result",
          "data": {
            "text/plain": [
              "'nineteen o six'"
            ]
          },
          "metadata": {},
          "execution_count": 813
        }
      ],
      "metadata": {}
    },
    {
      "cell_type": "code",
      "execution_count": 169,
      "source": [
        "# Return true if the input string has only numerical digits\n",
        "def has_onlydigits(input_string):\n",
        "    return bool(re.search(r'^(-|\\d)\\d*$', input_string))"
      ],
      "outputs": [],
      "metadata": {}
    },
    {
      "cell_type": "code",
      "execution_count": 172,
      "source": [
        "has_onlydigits('-0')"
      ],
      "outputs": [
        {
          "output_type": "execute_result",
          "data": {
            "text/plain": [
              "True"
            ]
          },
          "metadata": {},
          "execution_count": 172
        }
      ],
      "metadata": {}
    },
    {
      "cell_type": "code",
      "execution_count": 313,
      "source": [
        "# Return true if the input string has a sequence similar to a ISBN codes that have a dashed sequence.\n",
        "def has_isbncode(input_string):\n",
        "    return bool(re.search(r'^\\d+[ |-]\\d+', input_string))           # Since we want to find a repeating pattern, either the start or the end fixer has to be relaxed"
      ],
      "outputs": [],
      "metadata": {}
    },
    {
      "cell_type": "code",
      "execution_count": 350,
      "source": [
        "# The case for dates in the same format still need to be handled\n",
        "has_isbncode('31-2-2020')"
      ],
      "outputs": [
        {
          "output_type": "execute_result",
          "data": {
            "text/plain": [
              "True"
            ]
          },
          "metadata": {},
          "execution_count": 350
        }
      ],
      "metadata": {}
    },
    {
      "cell_type": "code",
      "execution_count": 495,
      "source": [
        "def get_isbncode(input_string):\n",
        "    res = ''\n",
        "    for char in input_string:\n",
        "        # Punctuation case needs to be handled first, else '-' would be taken as 'minus' from the numbers dictionary\n",
        "        if has_punc(char) or char == ' ':\n",
        "            res += ' ' + get_punc(char)\n",
        "            continue\n",
        "        \n",
        "        # '0' case needs to be handled before other numerals since this is converted to 'o' rather than 'zero'\n",
        "        if char == '0':\n",
        "            res += ' o'\n",
        "        \n",
        "        else:\n",
        "            res += ' ' + numbers[char]\n",
        "    \n",
        "    res = ' '.join(res.split())             # to remove extra spaces at the front or end\n",
        "    return res"
      ],
      "outputs": [],
      "metadata": {}
    },
    {
      "cell_type": "code",
      "execution_count": 496,
      "source": [
        "get_isbncode('803.05')"
      ],
      "outputs": [
        {
          "output_type": "execute_result",
          "data": {
            "text/plain": [
              "'eight o three sil o five'"
            ]
          },
          "metadata": {},
          "execution_count": 496
        }
      ],
      "metadata": {}
    },
    {
      "cell_type": "code",
      "execution_count": 331,
      "source": [
        "def get_onlydigits(input_string):\n",
        "    res = ''\n",
        "    int_string = int(input_string)\n",
        "    \n",
        "    if int_string < 0:\n",
        "        res += 'minus '                     # there would surely be something in front of the negative sign here.\n",
        "        input_string = input_string[1:]\n",
        "        int_string *= -1\n",
        "\n",
        "    # The case with only 4 digits needs to be incorporated; 1991 --> nineteen ninety one; the first two numerals are separated from the other two\n",
        "\n",
        "    # Handling numbers directly from dictionary\n",
        "    if int_string <= 20:\n",
        "        res += numbers[str(int_string)]     # for example: '07' means '7' and thus has to be looked this way in the dictionary\n",
        "        return res                          # since we do not need to do anything further from here\n",
        "\n",
        "\n",
        "    # Handling two digit numbers not in dictionary\n",
        "    if int_string < 100:\n",
        "        if str(int_string) in numbers.keys():       # '30' --> 'thirty'\n",
        "            res += numbers[str(int_string)]\n",
        "            return res\n",
        "        else:\n",
        "            tenth_place = (int_string//10) * 10     # '35' --> 'thirty five'\n",
        "            unit_place = (int_string % 10)\n",
        "            res += numbers[str(tenth_place)] + ' ' + numbers[str(unit_place)]\n",
        "            return res\n",
        "\n",
        "    t = 1000\n",
        "    # Handling hundreds\n",
        "    if int_string < t:\n",
        "        hundred_place = int_string // 100\n",
        "        if int_string % 100 == 0:                   # '900' --> 'nine hundred'\n",
        "            res += numbers[str(hundred_place)] + ' hundred'\n",
        "            return res\n",
        "        else:\n",
        "            res += numbers[str(hundred_place)] + ' hundred ' + get_onlydigits(str(int_string % 100))\n",
        "            return res\n",
        "\n",
        "    # Handling thousands\n",
        "    # As the number increases, the number of zeroes becomes over-whelming! Better to convert it into a variable\n",
        "    m = t*t\n",
        "    if int_string < m:\n",
        "        thousand_place = int_string // t\n",
        "        if int_string % t == 0:                   \n",
        "            res += get_onlydigits(str(thousand_place)) + ' thousand' # '72000' --> 'seventy two thousand'; and 72 is not in the main dictionary and thus recursion needs to be done\n",
        "            return res\n",
        "        else:\n",
        "            res += get_onlydigits(str(thousand_place)) + ' thousand ' + get_onlydigits(str(int_string % t))\n",
        "            return res\n",
        "\n",
        "    # Handling millions\n",
        "    b = m*t\n",
        "    if int_string < b:\n",
        "        million_place = int_string // m\n",
        "        if int_string % m == 0:                   \n",
        "            res += get_onlydigits(str(million_place)) + ' million' # '72000' --> 'seventy two thousand'; and 72 is not in the main dictionary and thus recursion needs to be done\n",
        "            return res\n",
        "        else:\n",
        "            res += get_onlydigits(str(million_place)) + ' million ' + get_onlydigits(str(int_string % m))\n",
        "            return res\n",
        "\n",
        "    # Handling billions\n",
        "    tr = b*t\n",
        "    if int_string < tr:\n",
        "        billion_place = int_string // b\n",
        "        if int_string % b == 0:                   \n",
        "            res += get_onlydigits(str(billion_place)) + ' billion' # '72000' --> 'seventy two thousand'; and 72 is not in the main dictionary and thus recursion needs to be done\n",
        "            return res\n",
        "        else:\n",
        "            res += get_onlydigits(str(billion_place)) + ' billion ' + get_onlydigits(str(int_string % b))\n",
        "            return res\n",
        "\n",
        "    # Handling trillions\n",
        "    pr = tr*t\n",
        "    if int_string < pr:\n",
        "        prillion_place = int_string // tr\n",
        "        if int_string % tr == 0:                   \n",
        "            res += get_onlydigits(str(prillion_place)) + ' trillion' # '72000' --> 'seventy two thousand'; and 72 is not in the main dictionary and thus recursion needs to be done\n",
        "            return res\n",
        "        else:\n",
        "            res += get_onlydigits(str(prillion_place)) + ' trillion ' + get_onlydigits(str(int_string % tr))\n",
        "            return res\n",
        "\n",
        "    # Check if numbers greater than billions appear in the corpus often; ref: GDP is also only in trillions!\n",
        "\n",
        "    # Symbols need to be incorporated; $20 --> '20 dollars'; $1 --> 'one dollar'\n",
        "\n",
        "\n",
        "    # Check if the numbers can also come with thousand separators like 1,000,000\n",
        "\n",
        "    # 'res +=' can also be removed since we are not making any use of that operation!\n",
        "\n",
        "    return res"
      ],
      "outputs": [],
      "metadata": {}
    },
    {
      "cell_type": "code",
      "execution_count": 352,
      "source": [
        "get_onlydigits('-7210210250210')"
      ],
      "outputs": [
        {
          "output_type": "execute_result",
          "data": {
            "text/plain": [
              "'minus seven trillion two hundred ten billion two hundred ten million two hundred fifty thousand two hundred ten'"
            ]
          },
          "metadata": {},
          "execution_count": 352
        }
      ],
      "metadata": {}
    },
    {
      "cell_type": "code",
      "execution_count": 740,
      "source": [
        "get_onlydigits(19)"
      ],
      "outputs": [
        {
          "output_type": "execute_result",
          "data": {
            "text/plain": [
              "'nineteen'"
            ]
          },
          "metadata": {},
          "execution_count": 740
        }
      ],
      "metadata": {}
    },
    {
      "cell_type": "code",
      "execution_count": 379,
      "source": [
        "def has_decimal(input_string):\n",
        "    return bool(re.search(r'^\\d+[.]\\d+$', input_string))      # ending on a digit is justified since period (.) is a different token in the corpus"
      ],
      "outputs": [],
      "metadata": {}
    },
    {
      "cell_type": "code",
      "execution_count": 381,
      "source": [
        "has_decimal('0.13.')"
      ],
      "outputs": [
        {
          "output_type": "execute_result",
          "data": {
            "text/plain": [
              "False"
            ]
          },
          "metadata": {},
          "execution_count": 381
        }
      ],
      "metadata": {}
    },
    {
      "cell_type": "code",
      "execution_count": 383,
      "source": [
        "a = '0.153'\n",
        "a.split('.')"
      ],
      "outputs": [
        {
          "output_type": "execute_result",
          "data": {
            "text/plain": [
              "['0', '153']"
            ]
          },
          "metadata": {},
          "execution_count": 383
        }
      ],
      "metadata": {}
    },
    {
      "cell_type": "code",
      "execution_count": 384,
      "source": [
        "def get_decimal(input_string):\n",
        "    res = ''\n",
        "    num_list = input_string.split('.')\n",
        "    res = res + get_onlydigits(num_list[0]) + ' point ' + get_isbncode(num_list[1])\n",
        "    return res"
      ],
      "outputs": [],
      "metadata": {}
    },
    {
      "cell_type": "code",
      "execution_count": 480,
      "source": [
        "get_decimal('31212.14')"
      ],
      "outputs": [
        {
          "output_type": "execute_result",
          "data": {
            "text/plain": [
              "'thirty one thousand two hundred twelve point one four'"
            ]
          },
          "metadata": {},
          "execution_count": 480
        }
      ],
      "metadata": {}
    },
    {
      "cell_type": "code",
      "execution_count": 511,
      "source": [
        "def has_units(input_string):\n",
        "    return bool(re.search(r'^\\d+.*[a-zA-Z]+', input_string))"
      ],
      "outputs": [],
      "metadata": {}
    },
    {
      "cell_type": "code",
      "execution_count": 519,
      "source": [
        "get_units('823.06 KB')"
      ],
      "outputs": [
        {
          "output_type": "execute_result",
          "data": {
            "text/plain": [
              "'eight hundred twenty three point o six kilobytes'"
            ]
          },
          "metadata": {},
          "execution_count": 519
        }
      ],
      "metadata": {}
    },
    {
      "cell_type": "code",
      "execution_count": 520,
      "source": [
        "def get_units(input_string):\n",
        "    res = ''\n",
        "    is_per = False\n",
        "    is_space = False\n",
        "    \n",
        "    if re.search(r'\\d[/][a-zA-Z]', input_string):       # for ex: '70.05/sqkm' --> 'seventy point zero five per square kilometer'\n",
        "        words_list = re.split('[/]', input_string)\n",
        "        is_per = True\n",
        "    \n",
        "    if not is_per:\n",
        "        words_list = input_string.split(' ')\n",
        "        is_space = True\n",
        "\n",
        "    for word in words_list:\n",
        "        # if not is_space:                    # If the split is already done on ' ', then another split is not required\n",
        "        temp_list = word.split(' ')\n",
        "        \n",
        "        for temp in temp_list:\n",
        "            # Handling the abbreviations of units\n",
        "            if word in full_form.keys():\n",
        "                if is_per:                                      # this would tell us if there was a '/' symbol followed by a letter or not\n",
        "                    res += ' per ' + full_form[word] + ' ' \n",
        "                else:\n",
        "                    res += full_form[word] + ' '\n",
        "\n",
        "            # Handling the numerical part\n",
        "            elif has_decimal(word):\n",
        "                res += get_decimal(word) + ' '\n",
        "            \n",
        "            elif has_onlydigits(word):\n",
        "                res += get_onlydigits(word) + ' '\n",
        "    \n",
        "    res = ' '.join(res.split())             # to remove extra spaces at the front or end\n",
        "    return res"
      ],
      "outputs": [],
      "metadata": {}
    },
    {
      "cell_type": "code",
      "execution_count": 521,
      "source": [
        "re.split('[/]', '51.3/ sqkm')"
      ],
      "outputs": [
        {
          "output_type": "execute_result",
          "data": {
            "text/plain": [
              "['51.3', ' sqkm']"
            ]
          },
          "metadata": {},
          "execution_count": 521
        }
      ],
      "metadata": {}
    },
    {
      "cell_type": "code",
      "execution_count": 522,
      "source": [
        "'pa'.split(' ')"
      ],
      "outputs": [
        {
          "output_type": "execute_result",
          "data": {
            "text/plain": [
              "['pa']"
            ]
          },
          "metadata": {},
          "execution_count": 522
        }
      ],
      "metadata": {}
    },
    {
      "cell_type": "code",
      "execution_count": 523,
      "source": [
        "get_units('179.4/km2')"
      ],
      "outputs": [
        {
          "output_type": "execute_result",
          "data": {
            "text/plain": [
              "'one hundred seventy nine point four per square kilometers'"
            ]
          },
          "metadata": {},
          "execution_count": 523
        }
      ],
      "metadata": {}
    },
    {
      "cell_type": "code",
      "execution_count": 524,
      "source": [
        "get_units('823.08 KB')"
      ],
      "outputs": [
        {
          "output_type": "execute_result",
          "data": {
            "text/plain": [
              "'eight hundred twenty three point o eight kilobytes'"
            ]
          },
          "metadata": {},
          "execution_count": 524
        }
      ],
      "metadata": {}
    },
    {
      "cell_type": "code",
      "execution_count": 679,
      "source": [
        "def has_extendednums(input_string):\n",
        "    return bool(re.search(r'\\d+[ ]*(st|nd|rd|th)', input_string))"
      ],
      "outputs": [],
      "metadata": {}
    },
    {
      "cell_type": "code",
      "execution_count": 682,
      "source": [
        "has_extendednums('21 st')"
      ],
      "outputs": [
        {
          "output_type": "execute_result",
          "data": {
            "text/plain": [
              "True"
            ]
          },
          "metadata": {},
          "execution_count": 682
        }
      ],
      "metadata": {}
    },
    {
      "cell_type": "code",
      "execution_count": 780,
      "source": [
        "# Handles the cases of extended numerals; for ex: '100th' --> 'one hundredth'\n",
        "def get_extendednums(input_string):\n",
        "    # Getting the last numeric digit present in the string\n",
        "    numeric = re.sub(r'[^\\d]', '', input_string)\n",
        "    non_unit_numeric = (int(numeric) // 10) * 10\n",
        "    unit_numeric = numeric[-1]\n",
        "\n",
        "    # If the last two digits are between 10 and 20 (both inclusive), then we have to get its direct form\n",
        "    last_two_digits = int(numeric[-2:])\n",
        "    if len(numeric) == 2 and (last_two_digits >= 10) and (int(last_two_digits) < 20):\n",
        "        return get_onlydigits(last_two_digits) + 'th'\n",
        "    elif len(numeric) > 2 and (last_two_digits >= 10) and (int(last_two_digits) < 20):\n",
        "        return get_onlydigits((int(numeric) // 100) * 100) + ' ' + get_extendednums(str(last_two_digits))\n",
        "    else:\n",
        "        # Getting the translation for the non-last digit\n",
        "        non_unit_string = get_onlydigits(non_unit_numeric)\n",
        "        # Handling case with last two digits as 0; for ex: 100th --> 'one hundreth' and not 'one hundreith'\n",
        "        if last_two_digits == 0:\n",
        "            return get_onlydigits((int(numeric) // 100) * 100) + 'th'\n",
        "        # Handling case with last two digits as 0; for ex: 130th --> 'one hundred thirieth' and not 'one hundred thirtyth'\n",
        "        elif unit_numeric == '0':\n",
        "            return non_unit_string[:-1] + extended_nums[unit_numeric]\n",
        "        else:\n",
        "            return non_unit_string + ' ' + extended_nums[unit_numeric]"
      ],
      "outputs": [],
      "metadata": {}
    },
    {
      "cell_type": "code",
      "execution_count": 781,
      "source": [
        "get_extendednums('100th')"
      ],
      "outputs": [
        {
          "output_type": "execute_result",
          "data": {
            "text/plain": [
              "'one hundredth'"
            ]
          },
          "metadata": {},
          "execution_count": 781
        }
      ],
      "metadata": {}
    },
    {
      "cell_type": "code",
      "execution_count": 782,
      "source": [
        "def has_allcaps(input_string):\n",
        "    return bool(re.search(r'^[A-Z]+$', input_string))"
      ],
      "outputs": [],
      "metadata": {}
    },
    {
      "cell_type": "code",
      "execution_count": 783,
      "source": [
        "# Converst the abbreviated version to a spaced version as per output format\n",
        "def get_allcaps(input_string):                          # ref: sid 202\n",
        "    return ((' '.join(input_string)).lower())"
      ],
      "outputs": [],
      "metadata": {}
    },
    {
      "cell_type": "code",
      "execution_count": 784,
      "source": [
        "# Returns true if the input string forms a part of an abbreviation\n",
        "def get_abbr(input_string):\n",
        "    if input_string in full_form.keys():\n",
        "        return full_form[input_string]"
      ],
      "outputs": [],
      "metadata": {}
    },
    {
      "cell_type": "code",
      "execution_count": 785,
      "source": [
        "# bool(re.search(r'[A-Z]\\.', input_string)"
      ],
      "outputs": [],
      "metadata": {}
    },
    {
      "cell_type": "code",
      "execution_count": 786,
      "source": [
        "get_abbr('sq')"
      ],
      "outputs": [
        {
          "output_type": "execute_result",
          "data": {
            "text/plain": [
              "'squares'"
            ]
          },
          "metadata": {},
          "execution_count": 786
        }
      ],
      "metadata": {}
    },
    {
      "cell_type": "code",
      "execution_count": 787,
      "source": [
        "has_numeric('He has #22# dogs')"
      ],
      "outputs": [
        {
          "output_type": "execute_result",
          "data": {
            "text/plain": [
              "True"
            ]
          },
          "metadata": {},
          "execution_count": 787
        }
      ],
      "metadata": {}
    },
    {
      "cell_type": "code",
      "execution_count": 788,
      "source": [
        "has_allcaps('BABA')"
      ],
      "outputs": [
        {
          "output_type": "execute_result",
          "data": {
            "text/plain": [
              "True"
            ]
          },
          "metadata": {},
          "execution_count": 788
        }
      ],
      "metadata": {}
    },
    {
      "cell_type": "code",
      "execution_count": null,
      "source": [],
      "outputs": [],
      "metadata": {}
    },
    {
      "cell_type": "code",
      "execution_count": 814,
      "source": [
        "#todo: write your own solution.\n",
        "def solution(input_tokens):\n",
        "  sol = []\n",
        "  flag = False\n",
        "\n",
        "  for token in input_tokens:\n",
        "\n",
        "    # All the extra spaces at the start and end of the token should be trimmed since the tokenisation may have a problem (for ex: sid 85 --> \"21 \")\n",
        "    token = ' '.join(token.split())\n",
        "    \n",
        "    # Handling Punctuation.\n",
        "    if((has_punc(token) and (len(token) == 1)) and not flag):\n",
        "      sol.append(get_punc(token))\n",
        "      flag = True\n",
        "    \n",
        "    # Handling roman numerals.\n",
        "    if token in roman_numerals.keys() and not flag:\n",
        "      sol.append('the ' + roman_numerals[token])\n",
        "      flag = True\n",
        "\n",
        "    # Handling all capital tokens (not as abbreviations though).\n",
        "    if has_allcaps(token) and (len(token) > 1) and not flag:\n",
        "      sol.append(get_allcaps(token))\n",
        "      flag = True\n",
        "    \n",
        "    # Handling 4 digits of numerals; years in general, if there are no symbols, before other numerical strings\n",
        "    if has_fournumeric(token) and not flag:\n",
        "      sol.append(get_fournumeric(token))\n",
        "      flag = True\n",
        "\n",
        "    # Handling pure numericals (numbers)\n",
        "    if has_onlydigits(token) and not flag:\n",
        "      sol.append(get_onlydigits(token))\n",
        "      flag = True\n",
        "    \n",
        "    ## Date has to be handled here\n",
        "\n",
        "    # Handling extended numericals, for ex: 21st --> 'twenty first'; has to be handled before units\n",
        "    if has_extendednums(token) and not flag:\n",
        "      sol.append(get_extendednums(token))\n",
        "      flag = True\n",
        "\n",
        "    # Handling tokens having numeric character with units (has to be done before ISBN; for ex: 823.05 KB)      \n",
        "    if has_units(token) and not flag:\n",
        "      sol.append(get_units(token))\n",
        "      flag = True\n",
        "\n",
        "    # Handling ISBN Code\n",
        "    if has_isbncode(token) and not flag:\n",
        "      sol.append(get_isbncode(token))\n",
        "      flag = True\n",
        "\n",
        "    # Handling decimal values\n",
        "    if has_decimal(token) and not flag:\n",
        "      sol.append(get_decimal(token))\n",
        "      flag = True\n",
        "\n",
        "    # If nothing else, then the token should be <self>\n",
        "    if not flag:\n",
        "      sol.append('<self>')\n",
        "\n",
        "    flag = False    # preparing for the next iteration.\n",
        "\n",
        "  return sol \n"
      ],
      "outputs": [],
      "metadata": {
        "id": "K6s2ie_4BLyi"
      }
    },
    {
      "cell_type": "code",
      "execution_count": 816,
      "source": [
        "solution(['21112-2302-2121', '3.1', '823.06 KB', '21st', '1906'])"
      ],
      "outputs": [
        {
          "output_type": "execute_result",
          "data": {
            "text/plain": [
              "['two one one one two sil two three o two sil two one two one',\n",
              " 'three point one',\n",
              " 'eight hundred twenty three point o six kilobytes',\n",
              " 'twenty first',\n",
              " 'nineteen o six']"
            ]
          },
          "metadata": {},
          "execution_count": 816
        }
      ],
      "metadata": {}
    },
    {
      "cell_type": "code",
      "execution_count": 817,
      "source": [
        "has_units('823.06 KB')\n",
        "get_units('823.06 KB')"
      ],
      "outputs": [
        {
          "output_type": "execute_result",
          "data": {
            "text/plain": [
              "'eight hundred twenty three point o six kilobytes'"
            ]
          },
          "metadata": {},
          "execution_count": 817
        }
      ],
      "metadata": {}
    },
    {
      "cell_type": "code",
      "execution_count": 818,
      "source": [
        "' '.join('21 '.split())"
      ],
      "outputs": [
        {
          "output_type": "execute_result",
          "data": {
            "text/plain": [
              "'21'"
            ]
          },
          "metadata": {},
          "execution_count": 818
        }
      ],
      "metadata": {}
    },
    {
      "cell_type": "code",
      "execution_count": 819,
      "source": [
        "def solution_dump(solution_file_path):\n",
        "  solution_data = []\n",
        "  for input_sentence in input_data:\n",
        "    solution_sid = input_sentence['sid']\n",
        "    solution_tokens = solution(input_sentence['input_tokens'])\n",
        "    solution_data.append({'sid':solution_sid,\n",
        "                          'output_tokens':solution_tokens})\n",
        "\n",
        "  with open(solution_file_path,'w') as solution_file:\n",
        "    json.dump(solution_data, solution_file, indent=2, ensure_ascii=False)\n",
        "    solution_file.close()"
      ],
      "outputs": [],
      "metadata": {
        "id": "XqHgMWqcBppu"
      }
    },
    {
      "cell_type": "code",
      "execution_count": 820,
      "source": [
        "solution_dump('solution.json')"
      ],
      "outputs": [],
      "metadata": {
        "id": "LIs3r-nrDNMJ"
      }
    },
    {
      "cell_type": "code",
      "execution_count": null,
      "source": [],
      "outputs": [],
      "metadata": {}
    },
    {
      "cell_type": "markdown",
      "source": [
        "## Error in Solution wrt Ground Truth Data"
      ],
      "metadata": {}
    },
    {
      "cell_type": "code",
      "execution_count": 821,
      "source": [
        "with open('solution.json','r', encoding='utf-8') as solution_file:\n",
        "  solution_data = json.load(solution_file)\n",
        "  solution_file.close()"
      ],
      "outputs": [],
      "metadata": {}
    },
    {
      "cell_type": "code",
      "execution_count": 822,
      "source": [
        "# Finding count of differences\n",
        "error_list = {}\n",
        "count = 0\n",
        "percentage_error = 0\n",
        "total_perc_error = 0\n",
        "\n",
        "for output_sentence in output_data:\n",
        "    res_sid = output_sentence['sid']\n",
        "    res_token = output_sentence['output_tokens']\n",
        "\n",
        "    sol_token  = solution_data[res_sid]['output_tokens']\n",
        "    for i in range(len(res_token)):\n",
        "        if (res_token[i] != sol_token[i]):\n",
        "            count += 1\n",
        "    percentage_error = 100*count/len(res_token)\n",
        "    total_perc_error += percentage_error\n",
        "    error_list[res_sid] = percentage_error\n",
        "    count = 0\n",
        "\n",
        "error_list['total'] = total_perc_error/len(error_list)"
      ],
      "outputs": [],
      "metadata": {}
    },
    {
      "cell_type": "code",
      "execution_count": 823,
      "source": [
        "with open('error_list.json','w') as error_file:\n",
        "    json.dump(error_list, error_file, indent=2, ensure_ascii=False)\n",
        "    error_file.close()"
      ],
      "outputs": [],
      "metadata": {}
    },
    {
      "cell_type": "code",
      "execution_count": null,
      "source": [],
      "outputs": [],
      "metadata": {}
    },
    {
      "cell_type": "markdown",
      "source": [
        "# Expected submission"
      ],
      "metadata": {
        "id": "VVKdCj0_Dz2h"
      }
    },
    {
      "cell_type": "code",
      "execution_count": null,
      "source": [
        "'''\n",
        "We expect a .py file which takes as input the input file path and the solution file path:\n",
        "\n",
        "python run_assignment1.py --input_path <path_to_input> --solution_path <path_to_solution>\n",
        "\n",
        "Once the solution file is generated, we will run a checker script to get the performance metrics:\n",
        "\n",
        "python run_checker.py --solution_path <path_to_solution> --ground_truth_path <path_to_ground_truth>\n",
        "\n",
        "'''"
      ],
      "outputs": [],
      "metadata": {
        "id": "DajdEGW_D5qt"
      }
    },
    {
      "cell_type": "markdown",
      "source": [
        "# Running on HPC"
      ],
      "metadata": {
        "id": "1CS_PDyXMXeN"
      }
    },
    {
      "cell_type": "code",
      "execution_count": null,
      "source": [
        "'''\n",
        "Students may use the hpc run their code. Please use the following commands to create a conda environment:\n",
        "\n",
        "\n",
        "module load apps/anaconda/3EnvCreation\n",
        "conda create --prefix=~/<environment_name> python=3.6\n",
        "module unload apps/anaconda/3EnvCreation\n",
        "\n",
        "This is a one-time process. Once the environment is created, the students may wish to install some packages. This can be done as follows:\n",
        "\n",
        "module load apps/anaconda/3\n",
        "conda activate ~/<environment_name>\n",
        "module unload apps/anaconda/3\n",
        "pip install <package_name> \n",
        "\n",
        "It is highly recommended that the students do not install PyTorch in this fashion. The recommended way of configuring PyTorch will be discused in the PyTorch tutorial class scheduled for later this semester.\n",
        "\n",
        "This assignment will be entirely run on CPU. An interactive CPU job can be run as follows:\n",
        "\n",
        "qsub -I -P <project_name> -l select=1:ncpus=1:mem=16G -l walltime=<hh:mm:ss>\n",
        "\n",
        "Once the job is ready, the conda environment would have to be activated again as follows:\n",
        "\n",
        "module load apps/anaconda/3\n",
        "conda activate ~/<environment_name>\n",
        "module unload apps/anaconda/3\n",
        "\n",
        "Students may be interested to run a jupyter notebook on HPC. Kindly follow the steps from the link below:\n",
        "\n",
        "https://supercomputing.iitd.ac.in/?softevents=jupyternotebook\n",
        "\n",
        "'''"
      ],
      "outputs": [],
      "metadata": {
        "id": "-LUnbiT3MaNz"
      }
    }
  ]
}