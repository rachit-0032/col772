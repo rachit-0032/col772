{
  "nbformat": 4,
  "nbformat_minor": 2,
  "metadata": {
    "colab": {
      "name": "COL772_Assignment1_StarterCode.ipynb",
      "provenance": [],
      "collapsed_sections": []
    },
    "kernelspec": {
      "name": "python3",
      "display_name": "Python 3.6.13 64-bit ('col772_a1': conda)"
    },
    "language_info": {
      "name": "python",
      "version": "3.6.13",
      "mimetype": "text/x-python",
      "codemirror_mode": {
        "name": "ipython",
        "version": 3
      },
      "pygments_lexer": "ipython3",
      "nbconvert_exporter": "python",
      "file_extension": ".py"
    },
    "interpreter": {
      "hash": "dab2f99c4a8de8421c6e84418b41a2fad660a89a0f6310e49f91d98320cba282"
    }
  },
  "cells": [
    {
      "cell_type": "markdown",
      "source": [
        "# Downloading data and unzipping"
      ],
      "metadata": {
        "id": "zugunLHfANT0"
      }
    },
    {
      "cell_type": "code",
      "execution_count": null,
      "source": [
        "# !gdown https://drive.google.com/uc?id=1STTlixkDCgeUMgWqrrYmiwaa3w6B9MFe&export=download"
      ],
      "outputs": [
        {
          "output_type": "stream",
          "name": "stdout",
          "text": [
            "Downloading...\n",
            "From: https://drive.google.com/uc?id=1STTlixkDCgeUMgWqrrYmiwaa3w6B9MFe\n",
            "To: /content/assignment_1_data.zip\n",
            "\r  0% 0.00/16.6k [00:00<?, ?B/s]\r100% 16.6k/16.6k [00:00<00:00, 14.0MB/s]\n"
          ]
        }
      ],
      "metadata": {
        "colab": {
          "base_uri": "https://localhost:8080/"
        },
        "id": "UEA3E3C5-ukf",
        "outputId": "8e40be8a-8d46-4fa6-c0d7-bea97dd95e89"
      }
    },
    {
      "cell_type": "code",
      "execution_count": null,
      "source": [
        "# !unzip assignment_1_data.zip"
      ],
      "outputs": [
        {
          "output_type": "stream",
          "name": "stdout",
          "text": [
            "Archive:  assignment_1_data.zip\n",
            "   creating: assignment_1_data/\n",
            "  inflating: assignment_1_data/input.json  \n",
            "  inflating: assignment_1_data/output.json  \n"
          ]
        }
      ],
      "metadata": {
        "colab": {
          "base_uri": "https://localhost:8080/"
        },
        "id": "s2_VhfkEAVWQ",
        "outputId": "ef1c1fc8-58fe-44e2-aeb3-7debe3bab39d"
      }
    },
    {
      "cell_type": "markdown",
      "source": [
        "# Importing input data"
      ],
      "metadata": {
        "id": "c12xz50vAcUV"
      }
    },
    {
      "cell_type": "code",
      "execution_count": 2,
      "source": [
        "import json\n",
        "import re"
      ],
      "outputs": [],
      "metadata": {
        "id": "2awnU1AuAjqk"
      }
    },
    {
      "cell_type": "code",
      "execution_count": 3,
      "source": [
        "with open('assignment_1_data/input.json','r', encoding='utf-8') as input_file:\n",
        "  input_data = json.load(input_file)\n",
        "  input_file.close()"
      ],
      "outputs": [],
      "metadata": {
        "id": "4oOZGWIDAkpP"
      }
    },
    {
      "cell_type": "code",
      "execution_count": 4,
      "source": [
        "with open('assignment_1_data/output.json','r', encoding='utf-8') as output_file:\n",
        "  output_data = json.load(output_file)\n",
        "  output_file.close()"
      ],
      "outputs": [],
      "metadata": {
        "id": "PRN-gmirLzxH"
      }
    },
    {
      "cell_type": "code",
      "execution_count": 5,
      "source": [
        "print(input_data[0])\n",
        "print(output_data[0])"
      ],
      "outputs": [
        {
          "output_type": "stream",
          "name": "stdout",
          "text": [
            "{'sid': 0, 'input_tokens': ['For', 'every', '100', 'females', 'there', 'were', '90.0', 'males', '.']}\n",
            "{'sid': 0, 'output_tokens': ['<self>', '<self>', 'one hundred', '<self>', '<self>', '<self>', 'ninety point zero', '<self>', 'sil']}\n"
          ]
        }
      ],
      "metadata": {
        "colab": {
          "base_uri": "https://localhost:8080/"
        },
        "id": "f4tTNlyqUeyY",
        "outputId": "a69cd684-1150-403a-ab0e-241514548ecf"
      }
    },
    {
      "cell_type": "markdown",
      "source": [
        "# Sample functions for generating the output"
      ],
      "metadata": {
        "id": "n50B4_KTA_PB"
      }
    },
    {
      "cell_type": "markdown",
      "source": [
        "- If there is a numeric inside the string, the check for the following:\n",
        "    - If there is no other character except for numerics, then it should be handled like a number.\n",
        "    - If there is a symbol in front of numerics like symbols of currency, then they should be handled as per currency.\n",
        "    - If there are any characters, then the string can either be a date or might be having some units associated with the numeric, eg: 5m."
      ],
      "metadata": {}
    },
    {
      "cell_type": "code",
      "execution_count": 6,
      "source": [
        "# # Return the text version associated to the numeric in the input string\n",
        "# def convert_number(input_string):\n",
        "    "
      ],
      "outputs": [],
      "metadata": {}
    },
    {
      "cell_type": "code",
      "execution_count": 64,
      "source": [
        "roman_numerals = {\n",
        "    'I': 'first',\n",
        "    'II': 'second',\n",
        "    'III': 'third',\n",
        "    'IV': 'fourth',\n",
        "    'V': 'fifth',\n",
        "    'VI': 'sixth',\n",
        "    'VII': 'seventh',\n",
        "    'VIII': 'eighth',\n",
        "    'IX': 'ninth',\n",
        "    'X': 'tenth',\n",
        "    'XI': 'eleventh',\n",
        "    'XII': 'twelfth',\n",
        "}"
      ],
      "outputs": [],
      "metadata": {}
    },
    {
      "cell_type": "code",
      "execution_count": 14,
      "source": [
        "full_form = {\n",
        "        'm': 'meter', \n",
        "        'mm': 'millimeter',\n",
        "        'cm': 'centimeter',\n",
        "        'km': 'kilometer',\n",
        "\n",
        "        'm2': 'square meter',\n",
        "        'mm2': 'square millimeter',\n",
        "        'cm2': 'square centimeter',\n",
        "        'km2': 'square kilometer',\n",
        "        'sq': 'square',\n",
        "\n",
        "        'm3': 'cubic meter',\n",
        "        'mm3': 'cubic millimeter',\n",
        "        'cm3': 'cubic centimeter',\n",
        "        'km3': 'cubic kilometer',\n",
        "\n",
        "        'a.m.': 'a m',\n",
        "        'p.m.': 'p m',\n",
        "\n",
        "        'M': 'million',\n",
        "        'm': 'million',\n",
        "        'mn': 'million'\n",
        "\n",
        "        'B': 'billion',\n",
        "        'b': 'billion',\n",
        "        'bn': 'billion'\n",
        "\n",
        "        'mA': 'milliamperes'\n",
        "        }"
      ],
      "outputs": [],
      "metadata": {}
    },
    {
      "cell_type": "code",
      "execution_count": 351,
      "source": [
        "numbers = {\n",
        "    '-': 'minus',\n",
        "    '0': 'zero',\n",
        "    '1': 'one',\n",
        "    '2': 'two',\n",
        "    '3': 'three',\n",
        "    '4': 'four',\n",
        "    '5': 'five',\n",
        "    '6': 'six',\n",
        "    '7': 'seven',\n",
        "    '8': 'eight',\n",
        "    '9': 'nine',\n",
        "    '10': 'ten',\n",
        "    '11': 'eleven',\n",
        "    '12': 'twelve',\n",
        "    '13': 'thirteen',\n",
        "    '14': 'fourteen',\n",
        "    '15': 'fifteen',\n",
        "    '16': 'sixteen',\n",
        "    '17': 'seventeen',\n",
        "    '18': 'eighteen',\n",
        "    '19': 'nineteen',\n",
        "    '20': 'twenty',\n",
        "    '30': 'thirty',\n",
        "    '40': 'forty',\n",
        "    '50': 'fifty',\n",
        "    '60': 'sixty',\n",
        "    '70': 'seventy',\n",
        "    '80': 'eighty',\n",
        "    '90': 'ninety'\n",
        "}"
      ],
      "outputs": [],
      "metadata": {}
    },
    {
      "cell_type": "code",
      "execution_count": 7,
      "source": [
        "def is_symbol(input_string):\n",
        "    if bool(re.search(r'\\$', input_string)):\n",
        "        return 'dollar'\n",
        "    elif bool(re.search(r'\\£', input_string)):\n",
        "        return 'pound'\n",
        "    elif bool(re.search(r'\\€', input_string)):\n",
        "        return 'euro'"
      ],
      "outputs": [],
      "metadata": {}
    },
    {
      "cell_type": "code",
      "execution_count": null,
      "source": [],
      "outputs": [],
      "metadata": {}
    },
    {
      "cell_type": "code",
      "execution_count": 8,
      "source": [
        "is_symbol('€349')"
      ],
      "outputs": [
        {
          "output_type": "execute_result",
          "data": {
            "text/plain": [
              "'euro'"
            ]
          },
          "metadata": {},
          "execution_count": 8
        }
      ],
      "metadata": {}
    },
    {
      "cell_type": "markdown",
      "source": [
        "- If there are two "
      ],
      "metadata": {}
    },
    {
      "cell_type": "code",
      "execution_count": 9,
      "source": [
        "# Returns if a punctuation is present in the input string\n",
        "def has_punc(input_string):\n",
        "    return bool(re.search(r'[^\\w\\s]', input_string))"
      ],
      "outputs": [],
      "metadata": {}
    },
    {
      "cell_type": "code",
      "execution_count": 315,
      "source": [
        "def get_punc(input_string):\n",
        "    return 'sil'"
      ],
      "outputs": [],
      "metadata": {}
    },
    {
      "cell_type": "code",
      "execution_count": 10,
      "source": [
        "# Returns true if the input string has a numeric present\n",
        "def has_numeric(input_string):\n",
        "    return bool(re.search(r'\\d', input_string))"
      ],
      "outputs": [],
      "metadata": {}
    },
    {
      "cell_type": "code",
      "execution_count": 55,
      "source": [
        "# Returns true if the input string has only 4 numerical characters, which would be indicative of an year\n",
        "def has_fournumeric(input_string):\n",
        "    return bool(re.search(r'^\\d{4}$', input_string))"
      ],
      "outputs": [],
      "metadata": {}
    },
    {
      "cell_type": "code",
      "execution_count": 88,
      "source": [
        "# def get_fournumeric(input_string):\n",
        "#     if(input_string[1] == )"
      ],
      "outputs": [],
      "metadata": {}
    },
    {
      "cell_type": "code",
      "execution_count": 87,
      "source": [
        "# has_fournumeric('45211')"
      ],
      "outputs": [],
      "metadata": {}
    },
    {
      "cell_type": "code",
      "execution_count": 169,
      "source": [
        "# Return true if the input string has only numerical digits\n",
        "def has_onlydigits(input_string):\n",
        "    return bool(re.search(r'^(-|\\d)\\d*$', input_string))"
      ],
      "outputs": [],
      "metadata": {}
    },
    {
      "cell_type": "code",
      "execution_count": 172,
      "source": [
        "has_onlydigits('-0')"
      ],
      "outputs": [
        {
          "output_type": "execute_result",
          "data": {
            "text/plain": [
              "True"
            ]
          },
          "metadata": {},
          "execution_count": 172
        }
      ],
      "metadata": {}
    },
    {
      "cell_type": "code",
      "execution_count": 313,
      "source": [
        "# Return true if the input string has a sequence similar to a ISBN codes that have a dashed sequence.\n",
        "def has_isbncode(input_string):\n",
        "    return bool(re.search(r'^\\d+[ |-]\\d+', input_string))           # Since we want to find a repeating pattern, either the start or the end fixer has to be relaxed"
      ],
      "outputs": [],
      "metadata": {}
    },
    {
      "cell_type": "code",
      "execution_count": 350,
      "source": [
        "# The case for dates in the same format still need to be handled\n",
        "has_isbncode('31-2-2020')"
      ],
      "outputs": [
        {
          "output_type": "execute_result",
          "data": {
            "text/plain": [
              "True"
            ]
          },
          "metadata": {},
          "execution_count": 350
        }
      ],
      "metadata": {}
    },
    {
      "cell_type": "code",
      "execution_count": 348,
      "source": [
        "def get_isbncode(input_string):\n",
        "    res = ''\n",
        "    for char in input_string:\n",
        "        # Punctuation case needs to be handled first, else '-' would be taken as 'minus' from the numbers dictionary\n",
        "        if has_punc(char) or char == ' ':\n",
        "            res += ' ' + get_punc(char)\n",
        "            continue\n",
        "        \n",
        "        # '0' case needs to be handled before other numerals since this is converted to 'o' rather than 'zero'\n",
        "        if char == '0':\n",
        "            res += ' o'\n",
        "        \n",
        "        else:\n",
        "            res += ' ' + numbers[char]\n",
        "    \n",
        "    res = ' '.join(res.split())             # to remove extra spaces at the front or end\n",
        "    return res"
      ],
      "outputs": [],
      "metadata": {}
    },
    {
      "cell_type": "code",
      "execution_count": 349,
      "source": [
        "get_isbncode('30 10 20')"
      ],
      "outputs": [
        {
          "output_type": "execute_result",
          "data": {
            "text/plain": [
              "'three o sil one o sil two o'"
            ]
          },
          "metadata": {},
          "execution_count": 349
        }
      ],
      "metadata": {}
    },
    {
      "cell_type": "code",
      "execution_count": 331,
      "source": [
        "def get_onlydigits(input_string):\n",
        "    res = ''\n",
        "    int_string = int(input_string)\n",
        "    \n",
        "    if int_string < 0:\n",
        "        res += 'minus '                     # there would surely be something in front of the negative sign here.\n",
        "        input_string = input_string[1:]\n",
        "        int_string *= -1\n",
        "\n",
        "    # The case with only 4 digits needs to be incorporated; 1991 --> nineteen ninety one; the first two numerals are separated from the other two\n",
        "\n",
        "    # Handling numbers directly from dictionary\n",
        "    if int_string <= 20:\n",
        "        res += numbers[str(int_string)]     # for example: '07' means '7' and thus has to be looked this way in the dictionary\n",
        "        return res                          # since we do not need to do anything further from here\n",
        "\n",
        "\n",
        "    # Handling two digit numbers not in dictionary\n",
        "    if int_string < 100:\n",
        "        if str(int_string) in numbers.keys():       # '30' --> 'thirty'\n",
        "            res += numbers[str(int_string)]\n",
        "            return res\n",
        "        else:\n",
        "            tenth_place = (int_string//10) * 10     # '35' --> 'thirty five'\n",
        "            unit_place = (int_string % 10)\n",
        "            res += numbers[str(tenth_place)] + ' ' + numbers[str(unit_place)]\n",
        "            return res\n",
        "\n",
        "    t = 1000\n",
        "    # Handling hundreds\n",
        "    if int_string < t:\n",
        "        hundred_place = int_string // 100\n",
        "        if int_string % 100 == 0:                   # '900' --> 'nine hundred'\n",
        "            res += numbers[str(hundred_place)] + ' hundred'\n",
        "            return res\n",
        "        else:\n",
        "            res += numbers[str(hundred_place)] + ' hundred ' + get_onlydigits(str(int_string % 100))\n",
        "            return res\n",
        "\n",
        "    # Handling thousands\n",
        "    # As the number increases, the number of zeroes becomes over-whelming! Better to convert it into a variable\n",
        "    m = t*t\n",
        "    if int_string < m:\n",
        "        thousand_place = int_string // t\n",
        "        if int_string % t == 0:                   \n",
        "            res += get_onlydigits(str(thousand_place)) + ' thousand' # '72000' --> 'seventy two thousand'; and 72 is not in the main dictionary and thus recursion needs to be done\n",
        "            return res\n",
        "        else:\n",
        "            res += get_onlydigits(str(thousand_place)) + ' thousand ' + get_onlydigits(str(int_string % t))\n",
        "            return res\n",
        "\n",
        "    # Handling millions\n",
        "    b = m*t\n",
        "    if int_string < b:\n",
        "        million_place = int_string // m\n",
        "        if int_string % m == 0:                   \n",
        "            res += get_onlydigits(str(million_place)) + ' million' # '72000' --> 'seventy two thousand'; and 72 is not in the main dictionary and thus recursion needs to be done\n",
        "            return res\n",
        "        else:\n",
        "            res += get_onlydigits(str(million_place)) + ' million ' + get_onlydigits(str(int_string % m))\n",
        "            return res\n",
        "\n",
        "    # Handling billions\n",
        "    tr = b*t\n",
        "    if int_string < tr:\n",
        "        billion_place = int_string // b\n",
        "        if int_string % b == 0:                   \n",
        "            res += get_onlydigits(str(billion_place)) + ' billion' # '72000' --> 'seventy two thousand'; and 72 is not in the main dictionary and thus recursion needs to be done\n",
        "            return res\n",
        "        else:\n",
        "            res += get_onlydigits(str(billion_place)) + ' billion ' + get_onlydigits(str(int_string % b))\n",
        "            return res\n",
        "\n",
        "    # Handling trillions\n",
        "    pr = tr*t\n",
        "    if int_string < pr:\n",
        "        prillion_place = int_string // tr\n",
        "        if int_string % tr == 0:                   \n",
        "            res += get_onlydigits(str(prillion_place)) + ' trillion' # '72000' --> 'seventy two thousand'; and 72 is not in the main dictionary and thus recursion needs to be done\n",
        "            return res\n",
        "        else:\n",
        "            res += get_onlydigits(str(prillion_place)) + ' trillion ' + get_onlydigits(str(int_string % tr))\n",
        "            return res\n",
        "\n",
        "    # Check if numbers greater than billions appear in the corpus often; ref: GDP is also only in trillions!\n",
        "\n",
        "    # Symbols need to be incorporated; $20 --> '20 dollars'; $1 --> 'one dollar'\n",
        "\n",
        "\n",
        "    # Check if the numbers can also come with thousand separators like 1,000,000\n",
        "\n",
        "    # 'res +=' can also be removed since we are not making any use of that operation!\n",
        "\n",
        "    return res"
      ],
      "outputs": [],
      "metadata": {}
    },
    {
      "cell_type": "code",
      "execution_count": 352,
      "source": [
        "get_onlydigits('-7210210250210')"
      ],
      "outputs": [
        {
          "output_type": "execute_result",
          "data": {
            "text/plain": [
              "'minus seven trillion two hundred ten billion two hundred ten million two hundred fifty thousand two hundred ten'"
            ]
          },
          "metadata": {},
          "execution_count": 352
        }
      ],
      "metadata": {}
    },
    {
      "cell_type": "code",
      "execution_count": 264,
      "source": [
        "4//3"
      ],
      "outputs": [
        {
          "output_type": "execute_result",
          "data": {
            "text/plain": [
              "1"
            ]
          },
          "metadata": {},
          "execution_count": 264
        }
      ],
      "metadata": {}
    },
    {
      "cell_type": "code",
      "execution_count": 265,
      "source": [
        "a = '413'\n",
        "a = a[1:]\n",
        "a"
      ],
      "outputs": [
        {
          "output_type": "execute_result",
          "data": {
            "text/plain": [
              "'13'"
            ]
          },
          "metadata": {},
          "execution_count": 265
        }
      ],
      "metadata": {}
    },
    {
      "cell_type": "code",
      "execution_count": 266,
      "source": [
        "def has_allcaps(input_string):\n",
        "    return bool(re.search(r'[A-Z]+$', input_string))"
      ],
      "outputs": [],
      "metadata": {}
    },
    {
      "cell_type": "code",
      "execution_count": 361,
      "source": [
        "# Converst the abbreviated version to a spaced version as per output format\n",
        "def get_allcaps(input_string):                          # ref: sid 202\n",
        "    return ((' '.join(input_string)).lower())"
      ],
      "outputs": [],
      "metadata": {}
    },
    {
      "cell_type": "code",
      "execution_count": 268,
      "source": [
        "has_punc('/')"
      ],
      "outputs": [
        {
          "output_type": "execute_result",
          "data": {
            "text/plain": [
              "True"
            ]
          },
          "metadata": {},
          "execution_count": 268
        }
      ],
      "metadata": {}
    },
    {
      "cell_type": "code",
      "execution_count": 269,
      "source": [
        "# Returns true if the input string forms a part of an abbreviation\n",
        "def get_abbr(input_string):\n",
        "    if input_string in full_form.keys():\n",
        "        return full_form[input_string]"
      ],
      "outputs": [],
      "metadata": {}
    },
    {
      "cell_type": "code",
      "execution_count": 270,
      "source": [
        "# bool(re.search(r'[A-Z]\\.', input_string)"
      ],
      "outputs": [],
      "metadata": {}
    },
    {
      "cell_type": "code",
      "execution_count": 271,
      "source": [
        "get_abbr('sq')"
      ],
      "outputs": [
        {
          "output_type": "execute_result",
          "data": {
            "text/plain": [
              "'square'"
            ]
          },
          "metadata": {},
          "execution_count": 271
        }
      ],
      "metadata": {}
    },
    {
      "cell_type": "code",
      "execution_count": 272,
      "source": [
        "has_numeric('He has #22# dogs')"
      ],
      "outputs": [
        {
          "output_type": "execute_result",
          "data": {
            "text/plain": [
              "True"
            ]
          },
          "metadata": {},
          "execution_count": 272
        }
      ],
      "metadata": {}
    },
    {
      "cell_type": "code",
      "execution_count": 273,
      "source": [
        "has_allcaps('BABA')"
      ],
      "outputs": [
        {
          "output_type": "execute_result",
          "data": {
            "text/plain": [
              "True"
            ]
          },
          "metadata": {},
          "execution_count": 273
        }
      ],
      "metadata": {}
    },
    {
      "cell_type": "code",
      "execution_count": null,
      "source": [],
      "outputs": [],
      "metadata": {}
    },
    {
      "cell_type": "code",
      "execution_count": 362,
      "source": [
        "#todo: write your own solution.\n",
        "def solution(input_tokens):\n",
        "  sol = []\n",
        "  flag = False\n",
        "\n",
        "  for token in input_tokens:\n",
        "    # Handling Punctuation.\n",
        "    if((has_punc(token) and (len(token) == 1)) and not flag):\n",
        "      sol.append(get_punc(token))\n",
        "      flag = True\n",
        "    \n",
        "    # Handling roman numerals.\n",
        "    if token in roman_numerals.keys() and not flag:\n",
        "      sol.append('the ' + roman_numerals[token])\n",
        "      flag = True\n",
        "\n",
        "    # Handling all capital tokens (not as abbreviations though).\n",
        "    if has_allcaps(token) and (len(token) > 1) and not flag:\n",
        "      sol.append(get_allcaps(token))\n",
        "      flag = True\n",
        "    \n",
        "    # Handling pure numericals (numbers)\n",
        "    if has_onlydigits(token) and not flag:\n",
        "      sol.append(get_onlydigits(token))\n",
        "      flag = True\n",
        "\n",
        "\n",
        "    if has_isbncode(token) and not flag:\n",
        "      sol.append(get_isbncode(token))\n",
        "      flag = True\n",
        "\n",
        "    # If nothing else, then the token should be <self>\n",
        "    if not flag:\n",
        "      sol.append('<self>')\n",
        "\n",
        "    flag = False    # preparing for the next iteration.\n",
        "\n",
        "  return sol \n"
      ],
      "outputs": [],
      "metadata": {
        "id": "K6s2ie_4BLyi"
      }
    },
    {
      "cell_type": "code",
      "execution_count": 363,
      "source": [
        "solution(['21112-2302-21213'])"
      ],
      "outputs": [
        {
          "output_type": "execute_result",
          "data": {
            "text/plain": [
              "['two one one one two sil two three o two sil two one two one three']"
            ]
          },
          "metadata": {},
          "execution_count": 363
        }
      ],
      "metadata": {}
    },
    {
      "cell_type": "code",
      "execution_count": 364,
      "source": [
        "get_allcaps('ISBN')"
      ],
      "outputs": [
        {
          "output_type": "execute_result",
          "data": {
            "text/plain": [
              "'i s b n'"
            ]
          },
          "metadata": {},
          "execution_count": 364
        }
      ],
      "metadata": {}
    },
    {
      "cell_type": "code",
      "execution_count": 365,
      "source": [
        "def solution_dump(solution_file_path):\n",
        "  solution_data = []\n",
        "  for input_sentence in input_data:\n",
        "    solution_sid = input_sentence['sid']\n",
        "    solution_tokens = solution(input_sentence['input_tokens'])\n",
        "    solution_data.append({'sid':solution_sid,\n",
        "                          'output_tokens':solution_tokens})\n",
        "\n",
        "  with open(solution_file_path,'w') as solution_file:\n",
        "    json.dump(solution_data, solution_file, indent=2, ensure_ascii=False)\n",
        "    solution_file.close()"
      ],
      "outputs": [],
      "metadata": {
        "id": "XqHgMWqcBppu"
      }
    },
    {
      "cell_type": "code",
      "execution_count": 366,
      "source": [
        "solution_dump('solution.json')"
      ],
      "outputs": [],
      "metadata": {
        "id": "LIs3r-nrDNMJ"
      }
    },
    {
      "cell_type": "code",
      "execution_count": null,
      "source": [],
      "outputs": [],
      "metadata": {}
    },
    {
      "cell_type": "markdown",
      "source": [
        "## Error in Solution wrt Ground Truth Data"
      ],
      "metadata": {}
    },
    {
      "cell_type": "code",
      "execution_count": 367,
      "source": [
        "with open('solution.json','r', encoding='utf-8') as solution_file:\n",
        "  solution_data = json.load(solution_file)\n",
        "  solution_file.close()"
      ],
      "outputs": [],
      "metadata": {}
    },
    {
      "cell_type": "code",
      "execution_count": 368,
      "source": [
        "# Finding count of differences\n",
        "error_list = {}\n",
        "count = 0\n",
        "percentage_error = 0\n",
        "total_perc_error = 0\n",
        "\n",
        "for output_sentence in output_data:\n",
        "    res_sid = output_sentence['sid']\n",
        "    res_token = output_sentence['output_tokens']\n",
        "\n",
        "    sol_token  = solution_data[res_sid]['output_tokens']\n",
        "    for i in range(len(res_token)):\n",
        "        if (res_token[i] != sol_token[i]):\n",
        "            count += 1\n",
        "    percentage_error = 100*count/len(res_token)\n",
        "    total_perc_error += percentage_error\n",
        "    error_list[res_sid] = percentage_error\n",
        "    count = 0\n",
        "\n",
        "error_list['total'] = total_perc_error/len(error_list)"
      ],
      "outputs": [],
      "metadata": {}
    },
    {
      "cell_type": "code",
      "execution_count": 369,
      "source": [
        "with open('error_list.json','w') as error_file:\n",
        "    json.dump(error_list, error_file, indent=2, ensure_ascii=False)\n",
        "    error_file.close()"
      ],
      "outputs": [],
      "metadata": {}
    },
    {
      "cell_type": "code",
      "execution_count": null,
      "source": [],
      "outputs": [],
      "metadata": {}
    },
    {
      "cell_type": "markdown",
      "source": [
        "# Expected submission"
      ],
      "metadata": {
        "id": "VVKdCj0_Dz2h"
      }
    },
    {
      "cell_type": "code",
      "execution_count": null,
      "source": [
        "'''\n",
        "We expect a .py file which takes as input the input file path and the solution file path:\n",
        "\n",
        "python run_assignment1.py --input_path <path_to_input> --solution_path <path_to_solution>\n",
        "\n",
        "Once the solution file is generated, we will run a checker script to get the performance metrics:\n",
        "\n",
        "python run_checker.py --solution_path <path_to_solution> --ground_truth_path <path_to_ground_truth>\n",
        "\n",
        "'''"
      ],
      "outputs": [],
      "metadata": {
        "id": "DajdEGW_D5qt"
      }
    },
    {
      "cell_type": "markdown",
      "source": [
        "# Running on HPC"
      ],
      "metadata": {
        "id": "1CS_PDyXMXeN"
      }
    },
    {
      "cell_type": "code",
      "execution_count": null,
      "source": [
        "'''\n",
        "Students may use the hpc run their code. Please use the following commands to create a conda environment:\n",
        "\n",
        "\n",
        "module load apps/anaconda/3EnvCreation\n",
        "conda create --prefix=~/<environment_name> python=3.6\n",
        "module unload apps/anaconda/3EnvCreation\n",
        "\n",
        "This is a one-time process. Once the environment is created, the students may wish to install some packages. This can be done as follows:\n",
        "\n",
        "module load apps/anaconda/3\n",
        "conda activate ~/<environment_name>\n",
        "module unload apps/anaconda/3\n",
        "pip install <package_name> \n",
        "\n",
        "It is highly recommended that the students do not install PyTorch in this fashion. The recommended way of configuring PyTorch will be discused in the PyTorch tutorial class scheduled for later this semester.\n",
        "\n",
        "This assignment will be entirely run on CPU. An interactive CPU job can be run as follows:\n",
        "\n",
        "qsub -I -P <project_name> -l select=1:ncpus=1:mem=16G -l walltime=<hh:mm:ss>\n",
        "\n",
        "Once the job is ready, the conda environment would have to be activated again as follows:\n",
        "\n",
        "module load apps/anaconda/3\n",
        "conda activate ~/<environment_name>\n",
        "module unload apps/anaconda/3\n",
        "\n",
        "Students may be interested to run a jupyter notebook on HPC. Kindly follow the steps from the link below:\n",
        "\n",
        "https://supercomputing.iitd.ac.in/?softevents=jupyternotebook\n",
        "\n",
        "'''"
      ],
      "outputs": [],
      "metadata": {
        "id": "-LUnbiT3MaNz"
      }
    }
  ]
}