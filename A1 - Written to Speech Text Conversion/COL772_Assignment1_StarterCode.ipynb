{
  "nbformat": 4,
  "nbformat_minor": 2,
  "metadata": {
    "colab": {
      "name": "COL772_Assignment1_StarterCode.ipynb",
      "provenance": [],
      "collapsed_sections": []
    },
    "kernelspec": {
      "name": "python3",
      "display_name": "Python 3.6.13 64-bit ('col772_a1': conda)"
    },
    "language_info": {
      "name": "python",
      "version": "3.6.13",
      "mimetype": "text/x-python",
      "codemirror_mode": {
        "name": "ipython",
        "version": 3
      },
      "pygments_lexer": "ipython3",
      "nbconvert_exporter": "python",
      "file_extension": ".py"
    },
    "interpreter": {
      "hash": "dab2f99c4a8de8421c6e84418b41a2fad660a89a0f6310e49f91d98320cba282"
    }
  },
  "cells": [
    {
      "cell_type": "markdown",
      "source": [
        "# Downloading data and unzipping"
      ],
      "metadata": {
        "id": "zugunLHfANT0"
      }
    },
    {
      "cell_type": "code",
      "execution_count": 139,
      "source": [
        "# !gdown https://drive.google.com/uc?id=1STTlixkDCgeUMgWqrrYmiwaa3w6B9MFe&export=download"
      ],
      "outputs": [],
      "metadata": {
        "colab": {
          "base_uri": "https://localhost:8080/"
        },
        "id": "UEA3E3C5-ukf",
        "outputId": "8e40be8a-8d46-4fa6-c0d7-bea97dd95e89"
      }
    },
    {
      "cell_type": "code",
      "execution_count": 140,
      "source": [
        "# !unzip assignment_1_data.zip"
      ],
      "outputs": [],
      "metadata": {
        "colab": {
          "base_uri": "https://localhost:8080/"
        },
        "id": "s2_VhfkEAVWQ",
        "outputId": "ef1c1fc8-58fe-44e2-aeb3-7debe3bab39d"
      }
    },
    {
      "cell_type": "markdown",
      "source": [
        "# Importing input data"
      ],
      "metadata": {
        "id": "c12xz50vAcUV"
      }
    },
    {
      "cell_type": "code",
      "execution_count": 141,
      "source": [
        "import json\n",
        "import re"
      ],
      "outputs": [],
      "metadata": {
        "id": "2awnU1AuAjqk"
      }
    },
    {
      "cell_type": "code",
      "execution_count": 142,
      "source": [
        "with open('assignment_1_data/input.json','r', encoding='utf8') as input_file:\n",
        "  input_data = json.load(input_file)\n",
        "  input_file.close()"
      ],
      "outputs": [],
      "metadata": {
        "id": "4oOZGWIDAkpP"
      }
    },
    {
      "cell_type": "code",
      "execution_count": 143,
      "source": [
        "with open('assignment_1_data/output.json','r', encoding='utf8') as output_file:\n",
        "  output_data = json.load(output_file)\n",
        "  output_file.close()"
      ],
      "outputs": [],
      "metadata": {
        "id": "PRN-gmirLzxH"
      }
    },
    {
      "cell_type": "code",
      "execution_count": 144,
      "source": [
        "print(input_data[0])\n",
        "print(output_data[0])"
      ],
      "outputs": [
        {
          "output_type": "stream",
          "name": "stdout",
          "text": [
            "{'sid': 0, 'input_tokens': ['For', 'every', '100', 'females', 'there', 'were', '90.0', 'males', '.']}\n",
            "{'sid': 0, 'output_tokens': ['<self>', '<self>', 'one hundred', '<self>', '<self>', '<self>', 'ninety point zero', '<self>', 'sil']}\n"
          ]
        }
      ],
      "metadata": {
        "colab": {
          "base_uri": "https://localhost:8080/"
        },
        "id": "f4tTNlyqUeyY",
        "outputId": "a69cd684-1150-403a-ab0e-241514548ecf"
      }
    },
    {
      "cell_type": "markdown",
      "source": [
        "# Sample functions for generating the output"
      ],
      "metadata": {
        "id": "n50B4_KTA_PB"
      }
    },
    {
      "cell_type": "markdown",
      "source": [
        "- If there is a numeric inside the string, the check for the following:\n",
        "    - If there is no other character except for numerics, then it should be handled like a number.\n",
        "    - If there is a symbol in front of numerics like symbols of currency, then they should be handled as per currency.\n",
        "    - If there are any characters, then the string can either be a date or might be having some units associated with the numeric, eg: 5m."
      ],
      "metadata": {}
    },
    {
      "cell_type": "code",
      "execution_count": 145,
      "source": [
        "# # Return the text version associated to the numeric in the input string\n",
        "# def convert_number(input_string):\n",
        "    "
      ],
      "outputs": [],
      "metadata": {}
    },
    {
      "cell_type": "code",
      "execution_count": 146,
      "source": [
        "roman_numerals = {\n",
        "    'I': 'first',\n",
        "    'II': 'second',\n",
        "    'III': 'third',\n",
        "    'IV': 'fourth',\n",
        "    'V': 'fifth',\n",
        "    'VI': 'sixth',\n",
        "    'VII': 'seventh',\n",
        "    'VIII': 'eighth',\n",
        "    'IX': 'ninth',\n",
        "    'X': 'tenth',\n",
        "    'XI': 'eleventh',\n",
        "    'XII': 'twelfth',\n",
        "}"
      ],
      "outputs": [],
      "metadata": {}
    },
    {
      "cell_type": "code",
      "execution_count": 377,
      "source": [
        "full_form = {\n",
        "        'm': 'meter', \n",
        "        'mm': 'millimeter',\n",
        "        'cm': 'centimeter',\n",
        "        'km': 'kilometer',\n",
        "        'mi': 'miles',\n",
        "\n",
        "        'm2': 'square meters',\n",
        "        'mm2': 'square millimeters',\n",
        "        'cm2': 'square centimeters',\n",
        "        'km2': 'square kilometers',\n",
        "        'mi2': 'square miles',\n",
        "        \n",
        "        'sq': 'squares',\n",
        "        'sqm': 'square meters',\n",
        "        'sqcm': 'square centimeters',\n",
        "        'sqkm': 'square kilometers',\n",
        "        'sqmi': 'square miles',\n",
        "\n",
        "        'm3': 'cubic meter',\n",
        "        'mm3': 'cubic millimeter',\n",
        "        'cm3': 'cubic centimeter',\n",
        "        'km3': 'cubic kilometer',\n",
        "\n",
        "        's': 'second',\n",
        "\n",
        "        'a.m.': 'a m',\n",
        "        'p.m.': 'p m',\n",
        "        'AM': 'a m',\n",
        "        'PM': 'p m',\n",
        "\n",
        "        'M': 'million',\n",
        "        'm': 'million',\n",
        "        'mn': 'million',\n",
        "        'Mn': 'million',\n",
        "\n",
        "        'B': 'billion',\n",
        "        'b': 'billion',\n",
        "        'bn': 'billion',\n",
        "        'Bn': 'billion',\n",
        "\n",
        "        'KB': 'kilobytes',\n",
        "        'MB': 'megabytes',\n",
        "        'GB': 'gigabytes',\n",
        "        'TB': 'terabytes',\n",
        "\n",
        "        'Kb': 'kilobits',\n",
        "        'Mb': 'megabits',\n",
        "        'Gb': 'gigabits',\n",
        "        'Tb': 'terabits',\n",
        "\n",
        "        'Kbps': 'kilobits per second',\n",
        "        'Mbps': 'megabits per second',\n",
        "        'Gbps': 'gigabits per second',\n",
        "        'Tbps': 'terabits per second',\n",
        "\n",
        "        'mA': 'milliamperes'\n",
        "        }"
      ],
      "outputs": [],
      "metadata": {}
    },
    {
      "cell_type": "code",
      "execution_count": 148,
      "source": [
        "numbers = {\n",
        "    '-': 'minus',\n",
        "    '0': 'zero',\n",
        "    '1': 'one',\n",
        "    '2': 'two',\n",
        "    '3': 'three',\n",
        "    '4': 'four',\n",
        "    '5': 'five',\n",
        "    '6': 'six',\n",
        "    '7': 'seven',\n",
        "    '8': 'eight',\n",
        "    '9': 'nine',\n",
        "    '10': 'ten',\n",
        "    '11': 'eleven',\n",
        "    '12': 'twelve',\n",
        "    '13': 'thirteen',\n",
        "    '14': 'fourteen',\n",
        "    '15': 'fifteen',\n",
        "    '16': 'sixteen',\n",
        "    '17': 'seventeen',\n",
        "    '18': 'eighteen',\n",
        "    '19': 'nineteen',\n",
        "    '20': 'twenty',\n",
        "    '30': 'thirty',\n",
        "    '40': 'forty',\n",
        "    '50': 'fifty',\n",
        "    '60': 'sixty',\n",
        "    '70': 'seventy',\n",
        "    '80': 'eighty',\n",
        "    '90': 'ninety'\n",
        "}"
      ],
      "outputs": [],
      "metadata": {}
    },
    {
      "cell_type": "code",
      "execution_count": 149,
      "source": [
        "extended_nums = {\n",
        "    '0': 'ieth',         # y is replaced by this if the last numeric is 0\n",
        "    '1': 'first',\n",
        "    '2': 'second',\n",
        "    '3': 'third',\n",
        "    '4': 'fourth',\n",
        "    '5': 'fifth',\n",
        "    '6': 'sixth',\n",
        "    '7': 'seventh',\n",
        "    '8': 'eighth',\n",
        "    '9': 'ninth'\n",
        "}"
      ],
      "outputs": [],
      "metadata": {}
    },
    {
      "cell_type": "code",
      "execution_count": 385,
      "source": [
        "def is_symbol(input_string):\n",
        "    if bool(re.search(r'\\$', input_string)):\n",
        "        return True, 'dollar'\n",
        "    elif bool(re.search(r'\\£', input_string)):\n",
        "        return True, 'pound'\n",
        "    elif bool(re.search(r'\\€', input_string)):\n",
        "        return True, 'euro'\n",
        "    else:\n",
        "        return False, False"
      ],
      "outputs": [],
      "metadata": {}
    },
    {
      "cell_type": "code",
      "execution_count": null,
      "source": [],
      "outputs": [],
      "metadata": {}
    },
    {
      "cell_type": "code",
      "execution_count": 328,
      "source": [
        "is_symbol('€349')"
      ],
      "outputs": [
        {
          "output_type": "execute_result",
          "data": {
            "text/plain": [
              "(True, 'euro')"
            ]
          },
          "metadata": {},
          "execution_count": 328
        }
      ],
      "metadata": {}
    },
    {
      "cell_type": "markdown",
      "source": [
        "- If there are two "
      ],
      "metadata": {}
    },
    {
      "cell_type": "code",
      "execution_count": 152,
      "source": [
        "# Returns if a punctuation is present in the input string\n",
        "def has_punc(input_string):\n",
        "    return bool(re.search(r'[^\\w\\s]', input_string))"
      ],
      "outputs": [],
      "metadata": {}
    },
    {
      "cell_type": "code",
      "execution_count": 153,
      "source": [
        "def get_punc(input_string):\n",
        "    return 'sil'"
      ],
      "outputs": [],
      "metadata": {}
    },
    {
      "cell_type": "code",
      "execution_count": 154,
      "source": [
        "# Returns true if the input string has a numeric present\n",
        "def has_numeric(input_string):\n",
        "    return bool(re.search(r'\\d', input_string))"
      ],
      "outputs": [],
      "metadata": {}
    },
    {
      "cell_type": "code",
      "execution_count": 155,
      "source": [
        "# Returns true if the input string has only 4 numerical characters, which would be indicative of an year\n",
        "def has_fournumeric(input_string):\n",
        "    return bool(re.search(r'^\\d{4}$', input_string))"
      ],
      "outputs": [],
      "metadata": {}
    },
    {
      "cell_type": "code",
      "execution_count": 156,
      "source": [
        "def get_fournumeric(input_string):\n",
        "    if len(input_string) == 4:\n",
        "        if input_string[1:3] == '00':               # handles 2007 --> 'two thousand seven'\n",
        "            return get_onlydigits(input_string)\n",
        "        else:                                       # handles 1906 --> 'nineteen o six'; but 2012 --> 'twenty twelve'\n",
        "            first_two = input_string[0:2]\n",
        "            last_two = input_string[-2:]\n",
        "            if get_onlydigits(first_two) != 'zero':\n",
        "                if input_string[2] == '0':              # handles 1906 --> 'nineteen o six';\n",
        "                    return get_onlydigits(first_two) + ' o ' + get_onlydigits(last_two)\n",
        "                else:                                   # handles 2012 --> 'twenty twelve';\n",
        "                    return get_onlydigits(first_two) + ' ' + get_onlydigits(last_two)\n",
        "            else:                                       # handles 0002 --> 'two';\n",
        "                return get_onlydigits(last_two)\n",
        "    else:\n",
        "        return ''"
      ],
      "outputs": [],
      "metadata": {}
    },
    {
      "cell_type": "code",
      "execution_count": 157,
      "source": [
        "get_fournumeric('006')"
      ],
      "outputs": [
        {
          "output_type": "execute_result",
          "data": {
            "text/plain": [
              "''"
            ]
          },
          "metadata": {},
          "execution_count": 157
        }
      ],
      "metadata": {}
    },
    {
      "cell_type": "code",
      "execution_count": 158,
      "source": [
        "# Return true if the input string has only numerical digits\n",
        "def has_onlydigits(input_string):\n",
        "    return bool(re.search(r'^(-|\\d)\\d*[,\\d]*\\d*$', input_string))"
      ],
      "outputs": [],
      "metadata": {}
    },
    {
      "cell_type": "code",
      "execution_count": 159,
      "source": [
        "has_onlydigits('3')"
      ],
      "outputs": [
        {
          "output_type": "execute_result",
          "data": {
            "text/plain": [
              "True"
            ]
          },
          "metadata": {},
          "execution_count": 159
        }
      ],
      "metadata": {}
    },
    {
      "cell_type": "code",
      "execution_count": 160,
      "source": [
        "# Return true if the input string has a sequence similar to a ISBN codes that have a dashed sequence.\n",
        "def has_isbncode(input_string):\n",
        "    return bool(re.search(r'^\\d+[ |-]\\d+', input_string))           # Since we want to find a repeating pattern, either the start or the end fixer has to be relaxed"
      ],
      "outputs": [],
      "metadata": {}
    },
    {
      "cell_type": "code",
      "execution_count": 161,
      "source": [
        "# The case for dates in the same format still need to be handled\n",
        "has_isbncode('31-2-2020')"
      ],
      "outputs": [
        {
          "output_type": "execute_result",
          "data": {
            "text/plain": [
              "True"
            ]
          },
          "metadata": {},
          "execution_count": 161
        }
      ],
      "metadata": {}
    },
    {
      "cell_type": "code",
      "execution_count": 162,
      "source": [
        "def get_isbncode(input_string):\n",
        "    res = ''\n",
        "    for char in input_string:\n",
        "        # Punctuation case needs to be handled first, else '-' would be taken as 'minus' from the numbers dictionary\n",
        "        if has_punc(char) or char == ' ':\n",
        "            res += ' ' + get_punc(char)\n",
        "            continue\n",
        "        \n",
        "        # '0' case needs to be handled before other numerals since this is converted to 'o' rather than 'zero'\n",
        "        if char == '0':\n",
        "            res += ' o'\n",
        "        \n",
        "        else:\n",
        "            res += ' ' + numbers[char]\n",
        "    \n",
        "    res = ' '.join(res.split())             # to remove extra spaces at the front or end\n",
        "    return res"
      ],
      "outputs": [],
      "metadata": {}
    },
    {
      "cell_type": "code",
      "execution_count": 163,
      "source": [
        "get_isbncode('803.05')"
      ],
      "outputs": [
        {
          "output_type": "execute_result",
          "data": {
            "text/plain": [
              "'eight o three sil o five'"
            ]
          },
          "metadata": {},
          "execution_count": 163
        }
      ],
      "metadata": {}
    },
    {
      "cell_type": "code",
      "execution_count": 164,
      "source": [
        "def get_onlydigits(input_string):\n",
        "    input_string = str(input_string)\n",
        "    \n",
        "    # To ensure that no empty strings give any issue\n",
        "    if input_string.strip() == '':\n",
        "        return 'NONE'\n",
        "\n",
        "    res = ''\n",
        "    input_string = re.sub(r'[^\\d-]', '', input_string)\n",
        "    int_string = int(input_string)\n",
        "    \n",
        "    if int_string < 0:\n",
        "        res += 'minus '                     # there would surely be something in front of the negative sign here.\n",
        "        input_string = input_string[1:]\n",
        "        int_string *= -1\n",
        "\n",
        "    # The case with only 4 digits needs to be incorporated; 1991 --> nineteen ninety one; the first two numerals are separated from the other two\n",
        "\n",
        "    # Handling numbers directly from dictionary\n",
        "    if int_string <= 20:\n",
        "        res += numbers[str(int_string)]     # for example: '07' means '7' and thus has to be looked this way in the dictionary\n",
        "        return res                          # since we do not need to do anything further from here\n",
        "\n",
        "\n",
        "    # Handling two digit numbers not in dictionary\n",
        "    if int_string < 100:\n",
        "        if str(int_string) in numbers.keys():       # '30' --> 'thirty'\n",
        "            res += numbers[str(int_string)]\n",
        "            return res\n",
        "        else:\n",
        "            tenth_place = (int_string//10) * 10     # '35' --> 'thirty five'\n",
        "            unit_place = (int_string % 10)\n",
        "            res += numbers[str(tenth_place)] + ' ' + numbers[str(unit_place)]\n",
        "            return res\n",
        "\n",
        "    t = 1000\n",
        "    # Handling hundreds\n",
        "    if int_string < t:\n",
        "        hundred_place = int_string // 100\n",
        "        if int_string % 100 == 0:                   # '900' --> 'nine hundred'\n",
        "            res += numbers[str(hundred_place)] + ' hundred'\n",
        "            return res\n",
        "        else:\n",
        "            res += numbers[str(hundred_place)] + ' hundred ' + get_onlydigits(str(int_string % 100))\n",
        "            return res\n",
        "\n",
        "    # Handling thousands\n",
        "    # As the number increases, the number of zeroes becomes over-whelming! Better to convert it into a variable\n",
        "    m = t*t\n",
        "    if int_string < m:\n",
        "        thousand_place = int_string // t\n",
        "        if int_string % t == 0:                   \n",
        "            res += get_onlydigits(str(thousand_place)) + ' thousand' # '72000' --> 'seventy two thousand'; and 72 is not in the main dictionary and thus recursion needs to be done\n",
        "            return res\n",
        "        else:\n",
        "            res += get_onlydigits(str(thousand_place)) + ' thousand ' + get_onlydigits(str(int_string % t))\n",
        "            return res\n",
        "\n",
        "    # Handling millions\n",
        "    b = m*t\n",
        "    if int_string < b:\n",
        "        million_place = int_string // m\n",
        "        if int_string % m == 0:                   \n",
        "            res += get_onlydigits(str(million_place)) + ' million' # '72000' --> 'seventy two thousand'; and 72 is not in the main dictionary and thus recursion needs to be done\n",
        "            return res\n",
        "        else:\n",
        "            res += get_onlydigits(str(million_place)) + ' million ' + get_onlydigits(str(int_string % m))\n",
        "            return res\n",
        "\n",
        "    # Handling billions\n",
        "    tr = b*t\n",
        "    if int_string < tr:\n",
        "        billion_place = int_string // b\n",
        "        if int_string % b == 0:                   \n",
        "            res += get_onlydigits(str(billion_place)) + ' billion' # '72000' --> 'seventy two thousand'; and 72 is not in the main dictionary and thus recursion needs to be done\n",
        "            return res\n",
        "        else:\n",
        "            res += get_onlydigits(str(billion_place)) + ' billion ' + get_onlydigits(str(int_string % b))\n",
        "            return res\n",
        "\n",
        "    # Handling trillions\n",
        "    pr = tr*t\n",
        "    if int_string < pr:\n",
        "        prillion_place = int_string // tr\n",
        "        if int_string % tr == 0:                   \n",
        "            res += get_onlydigits(str(prillion_place)) + ' trillion' # '72000' --> 'seventy two thousand'; and 72 is not in the main dictionary and thus recursion needs to be done\n",
        "            return res\n",
        "        else:\n",
        "            res += get_onlydigits(str(prillion_place)) + ' trillion ' + get_onlydigits(str(int_string % tr))\n",
        "            return res\n",
        "\n",
        "    # Check if numbers greater than billions appear in the corpus often; ref: GDP is also only in trillions!\n",
        "\n",
        "    # Symbols need to be incorporated; $20 --> '20 dollars'; $1 --> 'one dollar'\n",
        "\n",
        "\n",
        "    # Check if the numbers can also come with thousand separators like 1,000,000\n",
        "\n",
        "    # 'res +=' can also be removed since we are not making any use of that operation!\n",
        "\n",
        "    return res"
      ],
      "outputs": [],
      "metadata": {}
    },
    {
      "cell_type": "code",
      "execution_count": 165,
      "source": [
        "' '.strip()"
      ],
      "outputs": [
        {
          "output_type": "execute_result",
          "data": {
            "text/plain": [
              "''"
            ]
          },
          "metadata": {},
          "execution_count": 165
        }
      ],
      "metadata": {}
    },
    {
      "cell_type": "code",
      "execution_count": 166,
      "source": [
        "get_onlydigits(21)"
      ],
      "outputs": [
        {
          "output_type": "execute_result",
          "data": {
            "text/plain": [
              "'twenty one'"
            ]
          },
          "metadata": {},
          "execution_count": 166
        }
      ],
      "metadata": {}
    },
    {
      "cell_type": "code",
      "execution_count": 167,
      "source": [
        "get_onlydigits(19)"
      ],
      "outputs": [
        {
          "output_type": "execute_result",
          "data": {
            "text/plain": [
              "'nineteen'"
            ]
          },
          "metadata": {},
          "execution_count": 167
        }
      ],
      "metadata": {}
    },
    {
      "cell_type": "code",
      "execution_count": 168,
      "source": [
        "def has_decimal(input_string):\n",
        "    return bool(re.search(r'^\\d+[.]\\d+$', input_string))      # ending on a digit is justified since period (.) is a different token in the corpus"
      ],
      "outputs": [],
      "metadata": {}
    },
    {
      "cell_type": "code",
      "execution_count": 169,
      "source": [
        "has_decimal('0.13.')"
      ],
      "outputs": [
        {
          "output_type": "execute_result",
          "data": {
            "text/plain": [
              "False"
            ]
          },
          "metadata": {},
          "execution_count": 169
        }
      ],
      "metadata": {}
    },
    {
      "cell_type": "code",
      "execution_count": 170,
      "source": [
        "a = '0.153'\n",
        "a.split('.')"
      ],
      "outputs": [
        {
          "output_type": "execute_result",
          "data": {
            "text/plain": [
              "['0', '153']"
            ]
          },
          "metadata": {},
          "execution_count": 170
        }
      ],
      "metadata": {}
    },
    {
      "cell_type": "code",
      "execution_count": 317,
      "source": [
        "def get_decimal(input_string):\n",
        "    res = ''\n",
        "    num_list = input_string.split('.')\n",
        "    # For ex: '90.0' --> 'ninety point zero' and not 'ninety point o'\n",
        "    if bool(re.search(r'^0+$', num_list[1])):\n",
        "        res = res + get_onlydigits(num_list[0]) + ' point ' + 'zero '*len(num_list[1])\n",
        "    else:\n",
        "        res = res + get_onlydigits(num_list[0]) + ' point ' + get_isbncode(num_list[1])\n",
        "    return ' '.join(res.split())"
      ],
      "outputs": [],
      "metadata": {}
    },
    {
      "cell_type": "code",
      "execution_count": 320,
      "source": [
        "get_decimal('31212.00')"
      ],
      "outputs": [
        {
          "output_type": "execute_result",
          "data": {
            "text/plain": [
              "'thirty one thousand two hundred twelve point zero zero'"
            ]
          },
          "metadata": {},
          "execution_count": 320
        }
      ],
      "metadata": {}
    },
    {
      "cell_type": "code",
      "execution_count": 321,
      "source": [
        "get_decimal('31212.01')"
      ],
      "outputs": [
        {
          "output_type": "execute_result",
          "data": {
            "text/plain": [
              "'thirty one thousand two hundred twelve point o one'"
            ]
          },
          "metadata": {},
          "execution_count": 321
        }
      ],
      "metadata": {}
    },
    {
      "cell_type": "code",
      "execution_count": 173,
      "source": [
        "def has_units(input_string):\n",
        "    return bool(re.search(r'^\\d+.*[a-zA-Z]+', input_string))"
      ],
      "outputs": [],
      "metadata": {}
    },
    {
      "cell_type": "code",
      "execution_count": 174,
      "source": [
        "get_units('100 KB/s')"
      ],
      "outputs": [
        {
          "output_type": "execute_result",
          "data": {
            "text/plain": [
              "'one hundred kilobytes per second'"
            ]
          },
          "metadata": {},
          "execution_count": 174
        }
      ],
      "metadata": {}
    },
    {
      "cell_type": "code",
      "execution_count": 175,
      "source": [
        "re.split(r'\\s+|[ /]\\s*', '100 KB/s')"
      ],
      "outputs": [
        {
          "output_type": "execute_result",
          "data": {
            "text/plain": [
              "['100', 'KB', 's']"
            ]
          },
          "metadata": {},
          "execution_count": 175
        }
      ],
      "metadata": {}
    },
    {
      "cell_type": "code",
      "execution_count": 176,
      "source": [
        "'100Kb/s'.split(' ')"
      ],
      "outputs": [
        {
          "output_type": "execute_result",
          "data": {
            "text/plain": [
              "['100Kb/s']"
            ]
          },
          "metadata": {},
          "execution_count": 176
        }
      ],
      "metadata": {}
    },
    {
      "cell_type": "code",
      "execution_count": 177,
      "source": [
        "re.findall(\"([0-9]+|[A-Z]+)\", \"5GB\")"
      ],
      "outputs": [
        {
          "output_type": "execute_result",
          "data": {
            "text/plain": [
              "['5', 'GB']"
            ]
          },
          "metadata": {},
          "execution_count": 177
        }
      ],
      "metadata": {}
    },
    {
      "cell_type": "code",
      "execution_count": 232,
      "source": [
        "def get_units(input_string):\n",
        "    res = ''\n",
        "    is_per = False\n",
        "    is_space = False\n",
        "    \n",
        "    # '50.0Kb Gb/s' --> ['50.0Kb', 'Gb/s']\n",
        "    words_list = input_string.split(' ')\n",
        "\n",
        "    # if bool(re.search(r'/', input_string)):\n",
        "    #     is_per = True\n",
        "\n",
        "    # if re.search(r'/[a-zA-Z]', input_string):       # for ex: '70.05/sqkm' --> 'seventy point zero five per square kilometer'\n",
        "    #     words_list = re.split(r'\\s+|[ /]\\s*', input_string)\n",
        "    #     is_per = True\n",
        "    \n",
        "    # if not is_per:\n",
        "    #     words_list = input_string.split(' ')\n",
        "    #     is_space = True\n",
        "\n",
        "    for word in words_list:\n",
        "        # Separating the number; for ex: '50.0Kb' --> ['50.0', 'Kb']\n",
        "        key_list = re.findall('([0-9.,/]+|[a-zA-Z].+)', word)\n",
        "        for key in key_list:\n",
        "            # print(key)\n",
        "            if bool(re.search(r'/', key)):\n",
        "                temp_list = key.split('/')\n",
        "                left = True\n",
        "                for temp in temp_list:\n",
        "                    # print(temp)\n",
        "                    if not left:\n",
        "                        res += 'per '\n",
        "                    # if temp == '':\n",
        "                    #     continue\n",
        "                    if bool(re.search(r'\\.', temp)):\n",
        "                        # print(temp)\n",
        "                        res += get_decimal(temp) + ' '\n",
        "                    elif has_onlydigits(temp):\n",
        "                        res += get_onlydigits(temp) + ' '\n",
        "                    elif temp in full_form.keys():\n",
        "                        res += full_form[temp] + ' '\n",
        "                    else:\n",
        "                        res += temp + ' '\n",
        "                    left = False\n",
        "            elif bool(re.search(r'\\.', key)):\n",
        "                # print(key)\n",
        "                # Since it can also be '8 a.m.' where 'a.m.' --> 'a m'\n",
        "                if key in full_form.keys():\n",
        "                    res += full_form[key] + ' '\n",
        "                # Otherwise, we are talking about floating point number, for ex: 80.3\n",
        "                else:\n",
        "                    res += get_decimal(key) + ' '\n",
        "            elif bool(re.search(r'^\\d+$', key)):\n",
        "                res += get_onlydigits(key) + ' '\n",
        "            elif key in full_form.keys():\n",
        "                # print(key)\n",
        "                res += full_form[key] + ' '\n",
        "            else:\n",
        "                res += key + ' '\n",
        "\n",
        "    return ' '.join(res.split())\n",
        "\n",
        "    #     temp_list = word.split('/')                 # for ex: 100 Kb/s\n",
        "    #     if len(temp_list) == 1:\n",
        "\n",
        "    #     # If '/' divides a number by a number\n",
        "    #     left = True                                 # if True, then the left part of '/' is being processed\n",
        "    #     for temp in temp_list:\n",
        "    #         # Handling the abbreviations of units\n",
        "    #         if word in full_form.keys():\n",
        "    #             if is_per:                                      # this would tell us if there was a '/' symbol followed by a letter or not\n",
        "    #                 res += ' per ' + full_form[word] + ' ' \n",
        "    #             else:\n",
        "    #                 res += full_form[word] + ' '\n",
        "\n",
        "    #         # Handling the numerical part\n",
        "    #         elif has_decimal(word):\n",
        "    #             res += get_decimal(word) + ' '\n",
        "            \n",
        "    #         elif has_onlydigits(word):\n",
        "    #             res += get_onlydigits(word) + ' '\n",
        "    \n",
        "    # res = ' '.join(res.split())             # to remove extra spaces at the front or end\n",
        "    # return res"
      ],
      "outputs": [],
      "metadata": {}
    },
    {
      "cell_type": "code",
      "execution_count": 179,
      "source": [
        "re.findall('([0-9.,/]+|[a-zA-Z].+)', '100')"
      ],
      "outputs": [
        {
          "output_type": "execute_result",
          "data": {
            "text/plain": [
              "['100']"
            ]
          },
          "metadata": {},
          "execution_count": 179
        }
      ],
      "metadata": {}
    },
    {
      "cell_type": "code",
      "execution_count": 228,
      "source": [
        "get_units('100/Gb')"
      ],
      "outputs": [
        {
          "output_type": "execute_result",
          "data": {
            "text/plain": [
              "'100 per gigabits'"
            ]
          },
          "metadata": {},
          "execution_count": 228
        }
      ],
      "metadata": {}
    },
    {
      "cell_type": "code",
      "execution_count": 181,
      "source": [
        "get_units('179.4/km2')"
      ],
      "outputs": [
        {
          "output_type": "stream",
          "name": "stdout",
          "text": [
            "179.4\n"
          ]
        },
        {
          "output_type": "execute_result",
          "data": {
            "text/plain": [
              "'one hundred seventy nine point four per square kilometers'"
            ]
          },
          "metadata": {},
          "execution_count": 181
        }
      ],
      "metadata": {}
    },
    {
      "cell_type": "code",
      "execution_count": 182,
      "source": [
        "get_units('823.08 KB')"
      ],
      "outputs": [
        {
          "output_type": "stream",
          "name": "stdout",
          "text": [
            "823.08\n"
          ]
        },
        {
          "output_type": "execute_result",
          "data": {
            "text/plain": [
              "'eight hundred twenty three point o eight kilobytes'"
            ]
          },
          "metadata": {},
          "execution_count": 182
        }
      ],
      "metadata": {}
    },
    {
      "cell_type": "code",
      "execution_count": 183,
      "source": [
        "def has_extendednums(input_string):\n",
        "    return bool(re.search(r'\\d+[ ]*(st|nd|rd|th)', input_string))"
      ],
      "outputs": [],
      "metadata": {}
    },
    {
      "cell_type": "code",
      "execution_count": 184,
      "source": [
        "'00209'.lstrip('0')"
      ],
      "outputs": [
        {
          "output_type": "execute_result",
          "data": {
            "text/plain": [
              "'209'"
            ]
          },
          "metadata": {},
          "execution_count": 184
        }
      ],
      "metadata": {}
    },
    {
      "cell_type": "code",
      "execution_count": 185,
      "source": [
        "# Handles the cases of extended numerals; for ex: '100th' --> 'one hundredth'\n",
        "def get_extendednums(input_string):\n",
        "    # Getting the last numeric digit present in the string\n",
        "    numeric = re.sub(r'[^\\d]', '', input_string)\n",
        "    non_unit_numeric = (int(numeric) // 10) * 10\n",
        "\n",
        "    input_string = input_string.lstrip('0')         # to remove initial zeroes in the string\n",
        "    # For ex: 02nd --> 2, then this only has one digit\n",
        "    if input_string in extended_nums.keys():\n",
        "        return extended_nums[input_string]\n",
        "    \n",
        "    unit_numeric = numeric[-1]\n",
        "\n",
        "    # If the last two digits are between 10 and 20 (both inclusive), then we have to get its direct form\n",
        "    last_two_digits = int(numeric[-2:])\n",
        "    if len(numeric) == 2 and (last_two_digits >= 10) and (int(last_two_digits) < 20):\n",
        "        return get_onlydigits(str(last_two_digits)) + 'th'\n",
        "    elif len(numeric) > 2 and (last_two_digits >= 10) and (int(last_two_digits) < 20):\n",
        "        return get_onlydigits((int(numeric) // 100) * 100) + ' ' + get_extendednums(str(last_two_digits))\n",
        "    else:\n",
        "        # Getting the translation for the non-last digit\n",
        "        non_unit_string = get_onlydigits(str(non_unit_numeric))\n",
        "        # Handling case with last two digits as 0; for ex: 100th --> 'one hundreth' and not 'one hundreith'\n",
        "        if last_two_digits == 0:\n",
        "            return get_onlydigits((int(numeric) // 100) * 100) + 'th'\n",
        "        # Handling case with last two digits as 0; for ex: 130th --> 'one hundred thirieth' and not 'one hundred thirtyth'\n",
        "        elif unit_numeric == '0':\n",
        "            return non_unit_string[:-1] + extended_nums[unit_numeric]\n",
        "        else:\n",
        "            return non_unit_string + ' ' + extended_nums[unit_numeric]"
      ],
      "outputs": [],
      "metadata": {}
    },
    {
      "cell_type": "code",
      "execution_count": 186,
      "source": [
        "get_extendednums('20')"
      ],
      "outputs": [
        {
          "output_type": "execute_result",
          "data": {
            "text/plain": [
              "'twentieth'"
            ]
          },
          "metadata": {},
          "execution_count": 186
        }
      ],
      "metadata": {}
    },
    {
      "cell_type": "code",
      "execution_count": 302,
      "source": [
        "def has_allcaps(input_string):\n",
        "    return ((len(input_string) > 2) and bool(re.search(r'^[A-Z]+[a-z]{0,1}$', input_string))) or (bool(re.search(r'^[A-Z]+$', input_string)))"
      ],
      "outputs": [],
      "metadata": {}
    },
    {
      "cell_type": "code",
      "execution_count": 307,
      "source": [
        "has_allcaps('CD')"
      ],
      "outputs": [
        {
          "output_type": "execute_result",
          "data": {
            "text/plain": [
              "True"
            ]
          },
          "metadata": {},
          "execution_count": 307
        }
      ],
      "metadata": {}
    },
    {
      "cell_type": "code",
      "execution_count": 188,
      "source": [
        "# Converst the abbreviated version to a spaced version as per output format\n",
        "def get_allcaps(input_string):                          # ref: sid 202\n",
        "    return ((' '.join(input_string)).lower())"
      ],
      "outputs": [],
      "metadata": {}
    },
    {
      "cell_type": "code",
      "execution_count": 189,
      "source": [
        "# Returns true if the input string forms a part of an abbreviation\n",
        "def get_abbr(input_string):\n",
        "    if input_string in full_form.keys():\n",
        "        return full_form[input_string]"
      ],
      "outputs": [],
      "metadata": {}
    },
    {
      "cell_type": "code",
      "execution_count": 190,
      "source": [
        "# bool(re.search(r'[A-Z]\\.', input_string)"
      ],
      "outputs": [],
      "metadata": {}
    },
    {
      "cell_type": "code",
      "execution_count": 191,
      "source": [
        "get_abbr('sq')"
      ],
      "outputs": [
        {
          "output_type": "execute_result",
          "data": {
            "text/plain": [
              "'squares'"
            ]
          },
          "metadata": {},
          "execution_count": 191
        }
      ],
      "metadata": {}
    },
    {
      "cell_type": "code",
      "execution_count": 192,
      "source": [
        "has_numeric('He has #22# dogs')"
      ],
      "outputs": [
        {
          "output_type": "execute_result",
          "data": {
            "text/plain": [
              "True"
            ]
          },
          "metadata": {},
          "execution_count": 192
        }
      ],
      "metadata": {}
    },
    {
      "cell_type": "code",
      "execution_count": 193,
      "source": [
        "def has_time(input_string):\n",
        "    return bool(re.search(r'^\\d{1,2}:\\d{1,2}', input_string))"
      ],
      "outputs": [],
      "metadata": {}
    },
    {
      "cell_type": "code",
      "execution_count": 194,
      "source": [
        "has_time('50:30pm')"
      ],
      "outputs": [
        {
          "output_type": "execute_result",
          "data": {
            "text/plain": [
              "True"
            ]
          },
          "metadata": {},
          "execution_count": 194
        }
      ],
      "metadata": {}
    },
    {
      "cell_type": "code",
      "execution_count": 195,
      "source": [
        "'5:30 pm PST'.split(' ')"
      ],
      "outputs": [
        {
          "output_type": "execute_result",
          "data": {
            "text/plain": [
              "['5:30', 'pm', 'PST']"
            ]
          },
          "metadata": {},
          "execution_count": 195
        }
      ],
      "metadata": {}
    },
    {
      "cell_type": "code",
      "execution_count": 196,
      "source": [
        "re.findall('([0-9.,/]+|[a-zA-Z].+)', 'PST')"
      ],
      "outputs": [
        {
          "output_type": "execute_result",
          "data": {
            "text/plain": [
              "['PST']"
            ]
          },
          "metadata": {},
          "execution_count": 196
        }
      ],
      "metadata": {}
    },
    {
      "cell_type": "code",
      "execution_count": 235,
      "source": [
        "def get_time(input_string):\n",
        "    res = ''\n",
        "    input_string = re.sub(r'\\.', '', input_string)\n",
        "    time_list = input_string.split(' ')\n",
        "\n",
        "    for time in time_list:\n",
        "        key_list = re.findall('([0-9.,:/]+|[a-zA-Z].+)', time)\n",
        "        for key in key_list:\n",
        "            # print(key)\n",
        "            # Handles '5:30' --> 'five thirty'\n",
        "            if bool(re.search(r':', key)):\n",
        "                temp_list = key.split(':')\n",
        "                for temp in temp_list:\n",
        "                    if has_onlydigits(temp):\n",
        "                        temp = temp.lstrip('0')             # to remove initial zeroes in the string\n",
        "                        res += get_onlydigits(temp) + ' '\n",
        "            elif bool(re.search(r'^[a-zA-Z]+$', key)):\n",
        "                res += get_allcaps(key) + ' '\n",
        "            else:\n",
        "                res += key + ' '\n",
        "    return ' '.join(res.split())"
      ],
      "outputs": [],
      "metadata": {}
    },
    {
      "cell_type": "code",
      "execution_count": 198,
      "source": [
        "re.findall('([0-9.,:/]+|[a-zA-Z].+)', '5:30pm')"
      ],
      "outputs": [
        {
          "output_type": "execute_result",
          "data": {
            "text/plain": [
              "['5:30', 'pm']"
            ]
          },
          "metadata": {},
          "execution_count": 198
        }
      ],
      "metadata": {}
    },
    {
      "cell_type": "code",
      "execution_count": 199,
      "source": [
        "get_time('12:30pm PST')"
      ],
      "outputs": [
        {
          "output_type": "stream",
          "name": "stdout",
          "text": [
            "12:30\n",
            "pm\n",
            "PST\n"
          ]
        },
        {
          "output_type": "execute_result",
          "data": {
            "text/plain": [
              "'twelve thirty p m p s t'"
            ]
          },
          "metadata": {},
          "execution_count": 199
        }
      ],
      "metadata": {}
    },
    {
      "cell_type": "code",
      "execution_count": 200,
      "source": [
        "def has_date(input_string):\n",
        "    month_day = bool(re.search(r'Jan|January|Feb|February|Mar|March|Apr|April|May|Jun|June|Jul|July|Aug|August|Sept|September|Oct|October|Nov|November|Dec|December', input_string))\n",
        "    ddmmyyyy = bool(re.search(r'^\\d{1,2}[ ,-]+([0]\\d{1}|1[012])[ ,-]\\d{4}$', input_string))     # no control on daters\n",
        "    mmddyyyy = bool(re.search(r'^([0]\\d{1}|1[012])[ ,-]\\d{1,2}[ ,-]+\\d{4}$', input_string))\n",
        "    yyyymmdd = bool(re.search(r'^\\d{4}[ ,-]+([0]\\d{1}|1[012])[ ,-]\\d{1,2}$', input_string))\n",
        "    \n",
        "    # Starting with year\n",
        "    if yyyymmdd:\n",
        "        year = True\n",
        "    else:\n",
        "        year = False\n",
        "\n",
        "    # Starting with month\n",
        "    if mmddyyyy:\n",
        "        month = True\n",
        "    else:\n",
        "        month = False\n",
        "    \n",
        "    # Starting with day\n",
        "    if ddmmyyyy:\n",
        "        day = True\n",
        "    else:\n",
        "        day = False\n",
        "    \n",
        "    # Has a day component\n",
        "    if yyyymmdd or mmddyyyy or ddmmyyyy or month_day:\n",
        "        return True, [day, month, year, month_day]\n",
        "    else:\n",
        "        return False, [False, False, False, False]"
      ],
      "outputs": [],
      "metadata": {}
    },
    {
      "cell_type": "code",
      "execution_count": 201,
      "source": [
        "has_date('20 May.')"
      ],
      "outputs": [
        {
          "output_type": "execute_result",
          "data": {
            "text/plain": [
              "(True, [False, False, False, True])"
            ]
          },
          "metadata": {},
          "execution_count": 201
        }
      ],
      "metadata": {}
    },
    {
      "cell_type": "code",
      "execution_count": 202,
      "source": [
        "bool(re.search(r'^\\D+$','January eiufha askefh auet;sadfl iasf/2'))"
      ],
      "outputs": [
        {
          "output_type": "execute_result",
          "data": {
            "text/plain": [
              "False"
            ]
          },
          "metadata": {},
          "execution_count": 202
        }
      ],
      "metadata": {}
    },
    {
      "cell_type": "code",
      "execution_count": 203,
      "source": [
        "bool(re.search(r'^\\d{2}', '20 Jan'))"
      ],
      "outputs": [
        {
          "output_type": "execute_result",
          "data": {
            "text/plain": [
              "True"
            ]
          },
          "metadata": {},
          "execution_count": 203
        }
      ],
      "metadata": {}
    },
    {
      "cell_type": "code",
      "execution_count": 204,
      "source": [
        "re.split(r'\\s+|[,.-]\\s*', '20 May.2')"
      ],
      "outputs": [
        {
          "output_type": "execute_result",
          "data": {
            "text/plain": [
              "['20', 'May', '2']"
            ]
          },
          "metadata": {},
          "execution_count": 204
        }
      ],
      "metadata": {}
    },
    {
      "cell_type": "code",
      "execution_count": 264,
      "source": [
        "def has_division(input_string):\n",
        "    return bool(re.search(r'^(\\d+)\\s*/\\d+', input_string))"
      ],
      "outputs": [],
      "metadata": {}
    },
    {
      "cell_type": "code",
      "execution_count": 271,
      "source": [
        "has_division('1 1/2')"
      ],
      "outputs": [
        {
          "output_type": "execute_result",
          "data": {
            "text/plain": [
              "False"
            ]
          },
          "metadata": {},
          "execution_count": 271
        }
      ],
      "metadata": {}
    },
    {
      "cell_type": "code",
      "execution_count": null,
      "source": [
        "def get_division(input_string):\n",
        "    res = ''\n",
        "    number_list = input_string.split(' ')\n",
        "\n",
        "    for number in number_list:\n",
        "        key_list = re.findall('([0-9.,:/]+|[a-zA-Z].+)', time)\n",
        "        for key in key_list:\n",
        "            # print(key)"
      ],
      "outputs": [],
      "metadata": {}
    },
    {
      "cell_type": "code",
      "execution_count": null,
      "source": [],
      "outputs": [],
      "metadata": {}
    },
    {
      "cell_type": "code",
      "execution_count": 205,
      "source": [
        "month = {\n",
        "    'jan': 'january',\n",
        "    'feb': 'february',\n",
        "    'mar': 'march',\n",
        "    'apr': 'april',\n",
        "    'may': 'may',\n",
        "    'jun': 'june',\n",
        "    'jul': 'july',\n",
        "    'aug': 'august',\n",
        "    'sept': 'september',\n",
        "    'oct': 'october',\n",
        "    'nov': 'november',\n",
        "    'dec': 'december',\n",
        "}"
      ],
      "outputs": [],
      "metadata": {}
    },
    {
      "cell_type": "code",
      "execution_count": 206,
      "source": [
        "month_num = {\n",
        "    '01': 'january',\n",
        "    '02': 'february',\n",
        "    '03': 'march',\n",
        "    '04': 'april',\n",
        "    '05': 'may',\n",
        "    '06': 'june',\n",
        "    '07': 'july',\n",
        "    '08': 'august',\n",
        "    '09': 'september',\n",
        "    '10': 'october',\n",
        "    '11': 'november',\n",
        "    '12': 'december',\n",
        "}"
      ],
      "outputs": [],
      "metadata": {}
    },
    {
      "cell_type": "code",
      "execution_count": 207,
      "source": [
        "' '.join(' 20 Jan '.split())"
      ],
      "outputs": [
        {
          "output_type": "execute_result",
          "data": {
            "text/plain": [
              "'20 Jan'"
            ]
          },
          "metadata": {},
          "execution_count": 207
        }
      ],
      "metadata": {}
    },
    {
      "cell_type": "code",
      "execution_count": 208,
      "source": [
        "def get_date(input_string, order):\n",
        "    # order is of the form [day, month, year, month_day]\n",
        "\n",
        "    def has_month(input_string):\n",
        "        return bool(re.search(r'^\\D+$', input_string))\n",
        "\n",
        "    def get_month(input_string):\n",
        "        if input_string.lower() in month.keys():\n",
        "            return month[input_string.lower()]\n",
        "        else:\n",
        "            return input_string.lower()\n",
        "\n",
        "    res = ''\n",
        "    keyword_list = re.split(r'\\s+|[,.-]\\s*', input_string)\n",
        "\n",
        "    # Back-filling day, month or year number with 0s; for ex: October 1, 2021 --> October 01, 2021\n",
        "    for i in range(len(keyword_list)):\n",
        "        if len(keyword_list[i]) == 1:\n",
        "            keyword_list[i] = '0' + keyword_list[i]\n",
        "        # elif len(keyword_list[i]) == 3:\n",
        "        #     keyword_list[i] = '0' + keyword_list[i]\n",
        "\n",
        "    # for keyword in keyword_list:\n",
        "    #     print(keyword)\n",
        "\n",
        "    # January 14, 2008 --> january fourteenth two thousand eight\n",
        "    # 20 January 2010 --> the twentieth of january twenty ten\n",
        "    # January 2010 --> january twenty ten\n",
        "\n",
        "    if order[3]:\n",
        "        # Handles if input string only has the month name like 'January'\n",
        "        if bool(re.search(r'^\\D+$',input_string)):\n",
        "            return '<self>'                 # since it has no numeral to tell us that we are talking about a specific date\n",
        "        else:\n",
        "            # If first keyword is a month name\n",
        "            if bool(re.search(r'^\\D+$', keyword_list[0])):\n",
        "                if has_month(keyword_list[0]):\n",
        "                    res += get_month(keyword_list[0])\n",
        "                \n",
        "                # If the next keyword is a date, then push its extended form                  \n",
        "                if bool(re.search(r'^\\d{2}$', keyword_list[1])):\n",
        "                    res += ' ' + get_extendednums(keyword_list[1])\n",
        "                    date_inlcuded = True\n",
        "\n",
        "                    # If there exists an year to process\n",
        "                    if len(keyword_list) > 2:\n",
        "                        res += ' ' + get_fournumeric(keyword_list[2])\n",
        "                    \n",
        "                    return ' '.join(res.split())\n",
        "\n",
        "                # If the next keyword is a year\n",
        "                elif bool(re.search(r'^\\d{4}$', keyword_list[1])):\n",
        "                    res += ' ' + get_fournumeric(keyword_list[1])\n",
        "                    return ' '.join(res.split())\n",
        "\n",
        "\n",
        "            # If the keyword is a date, then its extended form needs to be used; 20 --> the twentieth\n",
        "            elif bool(re.search(r'^\\d{2}$', keyword_list[0])):\n",
        "                res = 'the ' + get_extendednums(keyword_list[0]) + ' of '\n",
        "                date_included = True\n",
        "\n",
        "                # if has_month(keyword_list[1]):\n",
        "                res += get_month(keyword_list[1])\n",
        "                month_included = True\n",
        "\n",
        "                # If there exists an year to process\n",
        "                if len(keyword_list) > 2:\n",
        "                    res += ' ' + get_fournumeric(keyword_list[2])\n",
        "                    year_included = True\n",
        "                \n",
        "                return ' '.join(res.split())\n",
        "    \n",
        "    # # If the date is presented in ddmmyyyy format\n",
        "    # elif order[0]:\n",
        "    #     res = getkeyword_list[0]\n"
      ],
      "outputs": [],
      "metadata": {}
    },
    {
      "cell_type": "code",
      "execution_count": 209,
      "source": [
        "get_date('2 July 2020', [False, False, False, True])"
      ],
      "outputs": [
        {
          "output_type": "execute_result",
          "data": {
            "text/plain": [
              "'the second of july twenty twenty'"
            ]
          },
          "metadata": {},
          "execution_count": 209
        }
      ],
      "metadata": {}
    },
    {
      "cell_type": "code",
      "execution_count": 437,
      "source": [
        "def get_symbol(input_string, currency):\n",
        "    res = ''\n",
        "    plural = False\n",
        "    input_string = input_string[1:]\n",
        "    currency_list = input_string.split(' ')\n",
        "\n",
        "    for curr in currency_list:\n",
        "        key_list = re.findall('([0-9.,]+|[a-zA-Z].*)', curr)\n",
        "        for key in key_list:\n",
        "            if has_decimal(key):\n",
        "                if float(key) >= 10.0:\n",
        "                    plural = True\n",
        "                res += get_decimal(key) + ' '\n",
        "            elif has_onlydigits(key):\n",
        "                if len(key) > 1:\n",
        "                    plural = True\n",
        "                res += get_onlydigits(key) + ' '\n",
        "            elif key in full_form.keys():\n",
        "                plural = True                       # since it might be 1 million euros\n",
        "                res += full_form[key] + ' '\n",
        "            else:\n",
        "                plural = True\n",
        "                res += key + ' '\n",
        "    \n",
        "    if plural:\n",
        "        res += currency + 's'\n",
        "    else:\n",
        "        res += currency                     # to remove making the currency plural\n",
        "    return res"
      ],
      "outputs": [],
      "metadata": {}
    },
    {
      "cell_type": "code",
      "execution_count": 438,
      "source": [
        "get_symbol('€1 million', 'euro')"
      ],
      "outputs": [
        {
          "output_type": "execute_result",
          "data": {
            "text/plain": [
              "'one million euros'"
            ]
          },
          "metadata": {},
          "execution_count": 438
        }
      ],
      "metadata": {}
    },
    {
      "cell_type": "code",
      "execution_count": null,
      "source": [],
      "outputs": [],
      "metadata": {}
    },
    {
      "cell_type": "code",
      "execution_count": 439,
      "source": [
        "#todo: write your own solution.\n",
        "def solution(input_tokens):\n",
        "  sol = []\n",
        "  flag = False\n",
        "\n",
        "  for token in input_tokens:\n",
        "\n",
        "    # All the extra spaces at the start and end of the token should be trimmed since the tokenisation may have a problem (for ex: sid 85 --> \"21 \")\n",
        "    token = ' '.join(token.split())\n",
        "    \n",
        "    # Handling Punctuation.\n",
        "    if((has_punc(token) and (len(token) == 1)) and not flag):\n",
        "      sol.append(get_punc(token))\n",
        "      flag = True\n",
        "    \n",
        "    # Handling roman numerals.\n",
        "    if token in roman_numerals.keys() and not flag:\n",
        "      sol.append('the ' + roman_numerals[token])\n",
        "      flag = True\n",
        "\n",
        "    # Handling currency symbols.\n",
        "    if is_symbol(token)[0] and not flag:\n",
        "      print('True')\n",
        "      sol.append(get_symbol(token, is_symbol(token)[1]))\n",
        "      flag = True\n",
        "\n",
        "    # Handling all capital tokens (not as abbreviations though).\n",
        "    if has_allcaps(token) and (len(token) > 1) and not flag:\n",
        "      sol.append(get_allcaps(token))\n",
        "      flag = True\n",
        "    \n",
        "    # Handling dates.\n",
        "    if has_date(token)[0] and not flag:\n",
        "      res = get_date(token, has_date(token)[1])\n",
        "      if res != 'NONE':\n",
        "        sol.append(res)\n",
        "        flag = True\n",
        "\n",
        "    # Handling 4 digits of numerals; years in general, if there are no symbols, before other numerical strings.\n",
        "    if has_fournumeric(token) and not flag:\n",
        "      sol.append(get_fournumeric(token))\n",
        "      flag = True\n",
        "\n",
        "    # Handling pure numericals (numbers).\n",
        "    if has_onlydigits(token) and not flag:\n",
        "      sol.append(get_onlydigits(token))\n",
        "      flag = True\n",
        "    \n",
        "    # Handling time units; for ex: '5:30pm PST' --> 'five thirty p m p s t'\n",
        "    if has_time(token) and not flag:\n",
        "      sol.append(get_time(token))\n",
        "      flag = True\n",
        "\n",
        "    # Handling extended numericals, for ex: 21st --> 'twenty first'; has to be handled before units.\n",
        "    if has_extendednums(token) and not flag:\n",
        "      sol.append(get_extendednums(token))\n",
        "      flag = True\n",
        "\n",
        "    # Handling tokens having numeric character with units (has to be done before ISBN; for ex: 823.05 KB).    \n",
        "    if has_units(token) and not flag:\n",
        "      sol.append(get_units(token))\n",
        "      flag = True\n",
        "\n",
        "    # Handling ISBN Code.\n",
        "    if has_isbncode(token) and not flag:\n",
        "      sol.append(get_isbncode(token))\n",
        "      flag = True\n",
        "\n",
        "    # Handling decimal values.\n",
        "    if has_decimal(token) and not flag:\n",
        "      sol.append(get_decimal(token))\n",
        "      flag = True\n",
        "\n",
        "    # If nothing else, then the token should be <self>.\n",
        "    if not flag:\n",
        "      sol.append('<self>')\n",
        "\n",
        "    flag = False    # preparing for the next iteration.\n",
        "\n",
        "  return sol \n"
      ],
      "outputs": [],
      "metadata": {
        "id": "K6s2ie_4BLyi"
      }
    },
    {
      "cell_type": "code",
      "execution_count": 440,
      "source": [
        "solution(['21112-2302-2121', '3.1', '823.06 KB', '50,000','21st', '1996', '12 July 2008','3:30pm PST', '$40'])"
      ],
      "outputs": [
        {
          "output_type": "stream",
          "name": "stdout",
          "text": [
            "True\n"
          ]
        },
        {
          "output_type": "execute_result",
          "data": {
            "text/plain": [
              "['two one one one two sil two three o two sil two one two one',\n",
              " 'three point one',\n",
              " 'eight hundred twenty three point o six kilobytes',\n",
              " 'fifty thousand',\n",
              " 'twenty first',\n",
              " 'nineteen ninety six',\n",
              " 'the twelveth of july two thousand eight',\n",
              " 'three thirty p m p s t',\n",
              " 'forty dollars']"
            ]
          },
          "metadata": {},
          "execution_count": 440
        }
      ],
      "metadata": {}
    },
    {
      "cell_type": "code",
      "execution_count": 441,
      "source": [
        "has_units('823.06 KB')\n",
        "get_units('823.06 KB')"
      ],
      "outputs": [
        {
          "output_type": "execute_result",
          "data": {
            "text/plain": [
              "'eight hundred twenty three point o six kilobytes'"
            ]
          },
          "metadata": {},
          "execution_count": 441
        }
      ],
      "metadata": {}
    },
    {
      "cell_type": "code",
      "execution_count": 442,
      "source": [
        "' '.join('21 '.split())"
      ],
      "outputs": [
        {
          "output_type": "execute_result",
          "data": {
            "text/plain": [
              "'21'"
            ]
          },
          "metadata": {},
          "execution_count": 442
        }
      ],
      "metadata": {}
    },
    {
      "cell_type": "code",
      "execution_count": 443,
      "source": [
        "def solution_dump(solution_file_path):\n",
        "  solution_data = []\n",
        "  for input_sentence in input_data:\n",
        "    solution_sid = input_sentence['sid']\n",
        "    print(solution_sid)\n",
        "    solution_tokens = solution(input_sentence['input_tokens'])\n",
        "    solution_data.append({'sid':solution_sid,\n",
        "                          'output_tokens':solution_tokens})\n",
        "\n",
        "  with open(solution_file_path,'w') as solution_file:\n",
        "    json.dump(solution_data, solution_file, indent=2, ensure_ascii=False)\n",
        "    solution_file.close()"
      ],
      "outputs": [],
      "metadata": {
        "id": "XqHgMWqcBppu"
      }
    },
    {
      "cell_type": "code",
      "execution_count": 445,
      "source": [
        "solution_dump('solution.json')"
      ],
      "outputs": [
        {
          "output_type": "stream",
          "name": "stdout",
          "text": [
            "0\n",
            "1\n",
            "2\n",
            "True\n",
            "True\n",
            "3\n",
            "4\n",
            "5\n",
            "6\n",
            "7\n",
            "8\n",
            "True\n",
            "9\n",
            "10\n",
            "11\n",
            "12\n",
            "13\n",
            "14\n",
            "15\n",
            "16\n",
            "17\n",
            "18\n",
            "True\n",
            "True\n",
            "19\n",
            "20\n",
            "21\n",
            "22\n",
            "23\n",
            "24\n",
            "True\n",
            "25\n",
            "26\n",
            "27\n",
            "28\n",
            "29\n",
            "30\n",
            "31\n",
            "32\n",
            "33\n",
            "True\n",
            "34\n",
            "True\n",
            "35\n",
            "36\n",
            "37\n",
            "38\n",
            "39\n",
            "40\n",
            "41\n",
            "42\n",
            "43\n",
            "44\n",
            "True\n",
            "45\n",
            "46\n",
            "47\n",
            "48\n",
            "49\n",
            "50\n",
            "51\n",
            "True\n",
            "52\n",
            "53\n",
            "54\n",
            "55\n",
            "56\n",
            "57\n",
            "58\n",
            "59\n",
            "60\n",
            "61\n",
            "62\n",
            "True\n",
            "63\n",
            "64\n",
            "65\n",
            "66\n",
            "67\n",
            "68\n",
            "69\n",
            "70\n",
            "True\n",
            "True\n",
            "71\n",
            "72\n",
            "73\n",
            "74\n",
            "75\n",
            "76\n",
            "77\n",
            "78\n",
            "79\n",
            "80\n",
            "81\n",
            "82\n",
            "83\n",
            "84\n",
            "85\n",
            "86\n",
            "87\n",
            "88\n",
            "89\n",
            "True\n",
            "True\n",
            "90\n",
            "91\n",
            "92\n",
            "93\n",
            "94\n",
            "95\n",
            "96\n",
            "97\n",
            "98\n",
            "99\n",
            "100\n",
            "101\n",
            "102\n",
            "103\n",
            "104\n",
            "105\n",
            "106\n",
            "107\n",
            "108\n",
            "109\n",
            "True\n",
            "110\n",
            "111\n",
            "112\n",
            "113\n",
            "114\n",
            "115\n",
            "116\n",
            "True\n",
            "117\n",
            "118\n",
            "119\n",
            "120\n",
            "121\n",
            "122\n",
            "123\n",
            "124\n",
            "125\n",
            "126\n",
            "127\n",
            "128\n",
            "129\n",
            "130\n",
            "131\n",
            "132\n",
            "133\n",
            "134\n",
            "135\n",
            "136\n",
            "137\n",
            "138\n",
            "139\n",
            "140\n",
            "141\n",
            "142\n",
            "143\n",
            "144\n",
            "145\n",
            "146\n",
            "147\n",
            "148\n",
            "149\n",
            "150\n",
            "151\n",
            "152\n",
            "153\n",
            "154\n",
            "155\n",
            "156\n",
            "157\n",
            "158\n",
            "159\n",
            "160\n",
            "161\n",
            "162\n",
            "163\n",
            "True\n",
            "True\n",
            "164\n",
            "165\n",
            "166\n",
            "True\n",
            "True\n",
            "167\n",
            "168\n",
            "169\n",
            "170\n",
            "171\n",
            "172\n",
            "173\n",
            "174\n",
            "175\n",
            "176\n",
            "True\n",
            "177\n",
            "178\n",
            "179\n",
            "180\n",
            "181\n",
            "182\n",
            "True\n",
            "183\n",
            "True\n",
            "184\n",
            "185\n",
            "186\n",
            "187\n",
            "188\n",
            "189\n",
            "True\n",
            "190\n",
            "191\n",
            "192\n",
            "193\n",
            "194\n",
            "195\n",
            "196\n",
            "197\n",
            "True\n",
            "198\n",
            "199\n",
            "200\n",
            "201\n",
            "202\n",
            "203\n",
            "204\n",
            "205\n",
            "206\n",
            "207\n",
            "208\n",
            "209\n",
            "210\n",
            "211\n",
            "212\n",
            "213\n",
            "214\n",
            "215\n",
            "216\n",
            "217\n",
            "218\n",
            "219\n",
            "220\n",
            "221\n",
            "222\n",
            "223\n",
            "True\n",
            "224\n",
            "225\n"
          ]
        }
      ],
      "metadata": {
        "id": "LIs3r-nrDNMJ"
      }
    },
    {
      "cell_type": "code",
      "execution_count": null,
      "source": [],
      "outputs": [],
      "metadata": {}
    },
    {
      "cell_type": "markdown",
      "source": [
        "## Error in Solution wrt Ground Truth Data"
      ],
      "metadata": {}
    },
    {
      "cell_type": "code",
      "execution_count": 446,
      "source": [
        "with open('solution.json','r', encoding='utf-8') as solution_file:\n",
        "  solution_data = json.load(solution_file)\n",
        "  solution_file.close()"
      ],
      "outputs": [],
      "metadata": {}
    },
    {
      "cell_type": "code",
      "execution_count": 447,
      "source": [
        "# Finding count of differences\n",
        "error_list = {}\n",
        "count = 0\n",
        "percentage_error = 0\n",
        "total_perc_error = 0\n",
        "\n",
        "for output_sentence in output_data:\n",
        "    res_sid = output_sentence['sid']\n",
        "    res_token = output_sentence['output_tokens']\n",
        "\n",
        "    sol_token  = solution_data[res_sid]['output_tokens']\n",
        "    for i in range(len(res_token)):\n",
        "        if (res_token[i] != sol_token[i]):\n",
        "            count += 1\n",
        "    percentage_error = 100*count/len(res_token)\n",
        "    total_perc_error += percentage_error\n",
        "    error_list[res_sid] = percentage_error\n",
        "    count = 0\n",
        "\n",
        "error_list['total'] = total_perc_error/len(error_list)"
      ],
      "outputs": [],
      "metadata": {}
    },
    {
      "cell_type": "code",
      "execution_count": 448,
      "source": [
        "with open('error_list.json','w') as error_file:\n",
        "    json.dump(error_list, error_file, indent=2, ensure_ascii=False)\n",
        "    error_file.close()"
      ],
      "outputs": [],
      "metadata": {}
    },
    {
      "cell_type": "code",
      "execution_count": null,
      "source": [],
      "outputs": [],
      "metadata": {}
    },
    {
      "cell_type": "markdown",
      "source": [
        "# Expected submission"
      ],
      "metadata": {
        "id": "VVKdCj0_Dz2h"
      }
    },
    {
      "cell_type": "code",
      "execution_count": 219,
      "source": [
        "'''\n",
        "We expect a .py file which takes as input the input file path and the solution file path:\n",
        "\n",
        "python run_assignment1.py --input_path <path_to_input> --solution_path <path_to_solution>\n",
        "\n",
        "Once the solution file is generated, we will run a checker script to get the performance metrics:\n",
        "\n",
        "python run_checker.py --solution_path <path_to_solution> --ground_truth_path <path_to_ground_truth>\n",
        "\n",
        "'''"
      ],
      "outputs": [
        {
          "output_type": "execute_result",
          "data": {
            "text/plain": [
              "'\\nWe expect a .py file which takes as input the input file path and the solution file path:\\n\\npython run_assignment1.py --input_path <path_to_input> --solution_path <path_to_solution>\\n\\nOnce the solution file is generated, we will run a checker script to get the performance metrics:\\n\\npython run_checker.py --solution_path <path_to_solution> --ground_truth_path <path_to_ground_truth>\\n\\n'"
            ]
          },
          "metadata": {},
          "execution_count": 219
        }
      ],
      "metadata": {
        "id": "DajdEGW_D5qt"
      }
    },
    {
      "cell_type": "markdown",
      "source": [
        "# Running on HPC"
      ],
      "metadata": {
        "id": "1CS_PDyXMXeN"
      }
    },
    {
      "cell_type": "code",
      "execution_count": 220,
      "source": [
        "'''\n",
        "Students may use the hpc run their code. Please use the following commands to create a conda environment:\n",
        "\n",
        "\n",
        "module load apps/anaconda/3EnvCreation\n",
        "conda create --prefix=~/<environment_name> python=3.6\n",
        "module unload apps/anaconda/3EnvCreation\n",
        "\n",
        "This is a one-time process. Once the environment is created, the students may wish to install some packages. This can be done as follows:\n",
        "\n",
        "module load apps/anaconda/3\n",
        "conda activate ~/<environment_name>\n",
        "module unload apps/anaconda/3\n",
        "pip install <package_name> \n",
        "\n",
        "It is highly recommended that the students do not install PyTorch in this fashion. The recommended way of configuring PyTorch will be discused in the PyTorch tutorial class scheduled for later this semester.\n",
        "\n",
        "This assignment will be entirely run on CPU. An interactive CPU job can be run as follows:\n",
        "\n",
        "qsub -I -P <project_name> -l select=1:ncpus=1:mem=16G -l walltime=<hh:mm:ss>\n",
        "\n",
        "Once the job is ready, the conda environment would have to be activated again as follows:\n",
        "\n",
        "module load apps/anaconda/3\n",
        "conda activate ~/<environment_name>\n",
        "module unload apps/anaconda/3\n",
        "\n",
        "Students may be interested to run a jupyter notebook on HPC. Kindly follow the steps from the link below:\n",
        "\n",
        "https://supercomputing.iitd.ac.in/?softevents=jupyternotebook\n",
        "\n",
        "'''"
      ],
      "outputs": [
        {
          "output_type": "execute_result",
          "data": {
            "text/plain": [
              "'\\nStudents may use the hpc run their code. Please use the following commands to create a conda environment:\\n\\n\\nmodule load apps/anaconda/3EnvCreation\\nconda create --prefix=~/<environment_name> python=3.6\\nmodule unload apps/anaconda/3EnvCreation\\n\\nThis is a one-time process. Once the environment is created, the students may wish to install some packages. This can be done as follows:\\n\\nmodule load apps/anaconda/3\\nconda activate ~/<environment_name>\\nmodule unload apps/anaconda/3\\npip install <package_name> \\n\\nIt is highly recommended that the students do not install PyTorch in this fashion. The recommended way of configuring PyTorch will be discused in the PyTorch tutorial class scheduled for later this semester.\\n\\nThis assignment will be entirely run on CPU. An interactive CPU job can be run as follows:\\n\\nqsub -I -P <project_name> -l select=1:ncpus=1:mem=16G -l walltime=<hh:mm:ss>\\n\\nOnce the job is ready, the conda environment would have to be activated again as follows:\\n\\nmodule load apps/anaconda/3\\nconda activate ~/<environment_name>\\nmodule unload apps/anaconda/3\\n\\nStudents may be interested to run a jupyter notebook on HPC. Kindly follow the steps from the link below:\\n\\nhttps://supercomputing.iitd.ac.in/?softevents=jupyternotebook\\n\\n'"
            ]
          },
          "metadata": {},
          "execution_count": 220
        }
      ],
      "metadata": {
        "id": "-LUnbiT3MaNz"
      }
    }
  ]
}